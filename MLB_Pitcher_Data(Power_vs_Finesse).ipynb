{
 "cells": [
  {
   "cell_type": "markdown",
   "metadata": {},
   "source": [
    "# Power   VS   Finesse 투수 비교"
   ]
  },
  {
   "cell_type": "markdown",
   "metadata": {},
   "source": [
    "#### 투수의 유형을 나눌 때, Power pitcher와 Finesse pitcher로 구분하는 경우가 있다.\n",
    "Power pitcher는 공의 정확도보다 속도에 집중해서 투구를 하는 유형의 투수 유형이고,   \n",
    "반대로 Finess pitcher는 공의 속도보다 정확도에 집중해서 제구력을 높인 투수의 유형이다.   \n",
    "   \n",
    "두 유형을 PFR로 분류해서 기록을 살펴보자.   \n",
    "   \n",
    "**PFR = ( K + BB ) / IP**   \n",
    "   \n",
    "PFR이 평균보다 높으면 Power, 낮으면 Finesse로 구분한다."
   ]
  },
  {
   "cell_type": "markdown",
   "metadata": {},
   "source": [
    "### Data From   ( Lahman Basball Database )"
   ]
  },
  {
   "cell_type": "code",
   "execution_count": 1,
   "metadata": {},
   "outputs": [],
   "source": [
    "import pandas as pd\n",
    "import numpy as np\n",
    "import seaborn as sns\n",
    "import matplotlib.pyplot as plt\n",
    "import warnings\n",
    "warnings.filterwarnings(action='ignore')"
   ]
  },
  {
   "cell_type": "code",
   "execution_count": 2,
   "metadata": {},
   "outputs": [],
   "source": [
    "pd.set_option('display.max_columns', 52)"
   ]
  },
  {
   "cell_type": "code",
   "execution_count": 3,
   "metadata": {},
   "outputs": [
    {
     "data": {
      "text/html": [
       "<div>\n",
       "<style scoped>\n",
       "    .dataframe tbody tr th:only-of-type {\n",
       "        vertical-align: middle;\n",
       "    }\n",
       "\n",
       "    .dataframe tbody tr th {\n",
       "        vertical-align: top;\n",
       "    }\n",
       "\n",
       "    .dataframe thead th {\n",
       "        text-align: right;\n",
       "    }\n",
       "</style>\n",
       "<table border=\"1\" class=\"dataframe\">\n",
       "  <thead>\n",
       "    <tr style=\"text-align: right;\">\n",
       "      <th></th>\n",
       "      <th>playerID</th>\n",
       "      <th>fullName</th>\n",
       "      <th>bats</th>\n",
       "      <th>throws</th>\n",
       "    </tr>\n",
       "  </thead>\n",
       "  <tbody>\n",
       "    <tr>\n",
       "      <th>0</th>\n",
       "      <td>aardsda01</td>\n",
       "      <td>David Aardsma</td>\n",
       "      <td>R</td>\n",
       "      <td>R</td>\n",
       "    </tr>\n",
       "    <tr>\n",
       "      <th>1</th>\n",
       "      <td>aaronha01</td>\n",
       "      <td>Hank Aaron</td>\n",
       "      <td>R</td>\n",
       "      <td>R</td>\n",
       "    </tr>\n",
       "    <tr>\n",
       "      <th>2</th>\n",
       "      <td>aaronto01</td>\n",
       "      <td>Tommie Aaron</td>\n",
       "      <td>R</td>\n",
       "      <td>R</td>\n",
       "    </tr>\n",
       "    <tr>\n",
       "      <th>3</th>\n",
       "      <td>aasedo01</td>\n",
       "      <td>Don Aase</td>\n",
       "      <td>R</td>\n",
       "      <td>R</td>\n",
       "    </tr>\n",
       "    <tr>\n",
       "      <th>4</th>\n",
       "      <td>abadan01</td>\n",
       "      <td>Andy Abad</td>\n",
       "      <td>L</td>\n",
       "      <td>L</td>\n",
       "    </tr>\n",
       "  </tbody>\n",
       "</table>\n",
       "</div>"
      ],
      "text/plain": [
       "    playerID       fullName bats throws\n",
       "0  aardsda01  David Aardsma    R      R\n",
       "1  aaronha01     Hank Aaron    R      R\n",
       "2  aaronto01   Tommie Aaron    R      R\n",
       "3   aasedo01       Don Aase    R      R\n",
       "4   abadan01      Andy Abad    L      L"
      ]
     },
     "execution_count": 3,
     "metadata": {},
     "output_type": "execute_result"
    }
   ],
   "source": [
    "# 선수 명단\n",
    "player = pd.read_csv('People.csv')\n",
    "player['fullName'] = player['nameFirst']+' '+player['nameLast']\n",
    "player_id = player[['playerID', 'fullName', 'bats', 'throws']]\n",
    "player_id.head()"
   ]
  },
  {
   "cell_type": "code",
   "execution_count": 4,
   "metadata": {},
   "outputs": [],
   "source": [
    "# 투수들의 경기 기록 \n",
    "pitch = pd.read_csv('Pitching.csv')"
   ]
  },
  {
   "cell_type": "code",
   "execution_count": 14,
   "metadata": {
    "scrolled": true
   },
   "outputs": [
    {
     "data": {
      "text/html": [
       "<div>\n",
       "<style scoped>\n",
       "    .dataframe tbody tr th:only-of-type {\n",
       "        vertical-align: middle;\n",
       "    }\n",
       "\n",
       "    .dataframe tbody tr th {\n",
       "        vertical-align: top;\n",
       "    }\n",
       "\n",
       "    .dataframe thead th {\n",
       "        text-align: right;\n",
       "    }\n",
       "</style>\n",
       "<table border=\"1\" class=\"dataframe\">\n",
       "  <thead>\n",
       "    <tr style=\"text-align: right;\">\n",
       "      <th></th>\n",
       "      <th>playerID</th>\n",
       "      <th>yearID</th>\n",
       "      <th>stint</th>\n",
       "      <th>teamID</th>\n",
       "      <th>lgID</th>\n",
       "      <th>W</th>\n",
       "      <th>L</th>\n",
       "      <th>G</th>\n",
       "      <th>GS</th>\n",
       "      <th>CG</th>\n",
       "      <th>SHO</th>\n",
       "      <th>SV</th>\n",
       "      <th>IPouts</th>\n",
       "      <th>H</th>\n",
       "      <th>ER</th>\n",
       "      <th>HR</th>\n",
       "      <th>BB</th>\n",
       "      <th>SO</th>\n",
       "      <th>BAOpp</th>\n",
       "      <th>ERA</th>\n",
       "      <th>IBB</th>\n",
       "      <th>WP</th>\n",
       "      <th>HBP</th>\n",
       "      <th>BK</th>\n",
       "      <th>BFP</th>\n",
       "      <th>GF</th>\n",
       "      <th>R</th>\n",
       "      <th>SH</th>\n",
       "      <th>SF</th>\n",
       "      <th>GIDP</th>\n",
       "    </tr>\n",
       "  </thead>\n",
       "  <tbody>\n",
       "    <tr>\n",
       "      <th>0</th>\n",
       "      <td>bechtge01</td>\n",
       "      <td>1871</td>\n",
       "      <td>1</td>\n",
       "      <td>PH1</td>\n",
       "      <td>NaN</td>\n",
       "      <td>1</td>\n",
       "      <td>2</td>\n",
       "      <td>3</td>\n",
       "      <td>3</td>\n",
       "      <td>2</td>\n",
       "      <td>0</td>\n",
       "      <td>0</td>\n",
       "      <td>78</td>\n",
       "      <td>43</td>\n",
       "      <td>23</td>\n",
       "      <td>0</td>\n",
       "      <td>11</td>\n",
       "      <td>1</td>\n",
       "      <td>NaN</td>\n",
       "      <td>7.96</td>\n",
       "      <td>NaN</td>\n",
       "      <td>7</td>\n",
       "      <td>NaN</td>\n",
       "      <td>0</td>\n",
       "      <td>146.0</td>\n",
       "      <td>0</td>\n",
       "      <td>42</td>\n",
       "      <td>NaN</td>\n",
       "      <td>NaN</td>\n",
       "      <td>NaN</td>\n",
       "    </tr>\n",
       "    <tr>\n",
       "      <th>1</th>\n",
       "      <td>brainas01</td>\n",
       "      <td>1871</td>\n",
       "      <td>1</td>\n",
       "      <td>WS3</td>\n",
       "      <td>NaN</td>\n",
       "      <td>12</td>\n",
       "      <td>15</td>\n",
       "      <td>30</td>\n",
       "      <td>30</td>\n",
       "      <td>30</td>\n",
       "      <td>0</td>\n",
       "      <td>0</td>\n",
       "      <td>792</td>\n",
       "      <td>361</td>\n",
       "      <td>132</td>\n",
       "      <td>4</td>\n",
       "      <td>37</td>\n",
       "      <td>13</td>\n",
       "      <td>NaN</td>\n",
       "      <td>4.50</td>\n",
       "      <td>NaN</td>\n",
       "      <td>7</td>\n",
       "      <td>NaN</td>\n",
       "      <td>0</td>\n",
       "      <td>1291.0</td>\n",
       "      <td>0</td>\n",
       "      <td>292</td>\n",
       "      <td>NaN</td>\n",
       "      <td>NaN</td>\n",
       "      <td>NaN</td>\n",
       "    </tr>\n",
       "    <tr>\n",
       "      <th>2</th>\n",
       "      <td>fergubo01</td>\n",
       "      <td>1871</td>\n",
       "      <td>1</td>\n",
       "      <td>NY2</td>\n",
       "      <td>NaN</td>\n",
       "      <td>0</td>\n",
       "      <td>0</td>\n",
       "      <td>1</td>\n",
       "      <td>0</td>\n",
       "      <td>0</td>\n",
       "      <td>0</td>\n",
       "      <td>0</td>\n",
       "      <td>3</td>\n",
       "      <td>8</td>\n",
       "      <td>3</td>\n",
       "      <td>0</td>\n",
       "      <td>0</td>\n",
       "      <td>0</td>\n",
       "      <td>NaN</td>\n",
       "      <td>27.00</td>\n",
       "      <td>NaN</td>\n",
       "      <td>2</td>\n",
       "      <td>NaN</td>\n",
       "      <td>0</td>\n",
       "      <td>14.0</td>\n",
       "      <td>0</td>\n",
       "      <td>9</td>\n",
       "      <td>NaN</td>\n",
       "      <td>NaN</td>\n",
       "      <td>NaN</td>\n",
       "    </tr>\n",
       "    <tr>\n",
       "      <th>3</th>\n",
       "      <td>fishech01</td>\n",
       "      <td>1871</td>\n",
       "      <td>1</td>\n",
       "      <td>RC1</td>\n",
       "      <td>NaN</td>\n",
       "      <td>4</td>\n",
       "      <td>16</td>\n",
       "      <td>24</td>\n",
       "      <td>24</td>\n",
       "      <td>22</td>\n",
       "      <td>1</td>\n",
       "      <td>0</td>\n",
       "      <td>639</td>\n",
       "      <td>295</td>\n",
       "      <td>103</td>\n",
       "      <td>3</td>\n",
       "      <td>31</td>\n",
       "      <td>15</td>\n",
       "      <td>NaN</td>\n",
       "      <td>4.35</td>\n",
       "      <td>NaN</td>\n",
       "      <td>20</td>\n",
       "      <td>NaN</td>\n",
       "      <td>0</td>\n",
       "      <td>1080.0</td>\n",
       "      <td>1</td>\n",
       "      <td>257</td>\n",
       "      <td>NaN</td>\n",
       "      <td>NaN</td>\n",
       "      <td>NaN</td>\n",
       "    </tr>\n",
       "    <tr>\n",
       "      <th>4</th>\n",
       "      <td>fleetfr01</td>\n",
       "      <td>1871</td>\n",
       "      <td>1</td>\n",
       "      <td>NY2</td>\n",
       "      <td>NaN</td>\n",
       "      <td>0</td>\n",
       "      <td>1</td>\n",
       "      <td>1</td>\n",
       "      <td>1</td>\n",
       "      <td>1</td>\n",
       "      <td>0</td>\n",
       "      <td>0</td>\n",
       "      <td>27</td>\n",
       "      <td>20</td>\n",
       "      <td>10</td>\n",
       "      <td>0</td>\n",
       "      <td>3</td>\n",
       "      <td>0</td>\n",
       "      <td>NaN</td>\n",
       "      <td>10.00</td>\n",
       "      <td>NaN</td>\n",
       "      <td>0</td>\n",
       "      <td>NaN</td>\n",
       "      <td>0</td>\n",
       "      <td>57.0</td>\n",
       "      <td>0</td>\n",
       "      <td>21</td>\n",
       "      <td>NaN</td>\n",
       "      <td>NaN</td>\n",
       "      <td>NaN</td>\n",
       "    </tr>\n",
       "  </tbody>\n",
       "</table>\n",
       "</div>"
      ],
      "text/plain": [
       "    playerID  yearID  stint teamID lgID   W   L   G  GS  CG  SHO  SV  IPouts  \\\n",
       "0  bechtge01    1871      1    PH1  NaN   1   2   3   3   2    0   0      78   \n",
       "1  brainas01    1871      1    WS3  NaN  12  15  30  30  30    0   0     792   \n",
       "2  fergubo01    1871      1    NY2  NaN   0   0   1   0   0    0   0       3   \n",
       "3  fishech01    1871      1    RC1  NaN   4  16  24  24  22    1   0     639   \n",
       "4  fleetfr01    1871      1    NY2  NaN   0   1   1   1   1    0   0      27   \n",
       "\n",
       "     H   ER  HR  BB  SO  BAOpp    ERA  IBB  WP  HBP  BK     BFP  GF    R  SH  \\\n",
       "0   43   23   0  11   1    NaN   7.96  NaN   7  NaN   0   146.0   0   42 NaN   \n",
       "1  361  132   4  37  13    NaN   4.50  NaN   7  NaN   0  1291.0   0  292 NaN   \n",
       "2    8    3   0   0   0    NaN  27.00  NaN   2  NaN   0    14.0   0    9 NaN   \n",
       "3  295  103   3  31  15    NaN   4.35  NaN  20  NaN   0  1080.0   1  257 NaN   \n",
       "4   20   10   0   3   0    NaN  10.00  NaN   0  NaN   0    57.0   0   21 NaN   \n",
       "\n",
       "   SF  GIDP  \n",
       "0 NaN   NaN  \n",
       "1 NaN   NaN  \n",
       "2 NaN   NaN  \n",
       "3 NaN   NaN  \n",
       "4 NaN   NaN  "
      ]
     },
     "execution_count": 14,
     "metadata": {},
     "output_type": "execute_result"
    }
   ],
   "source": [
    "pitch.head()"
   ]
  },
  {
   "cell_type": "code",
   "execution_count": 6,
   "metadata": {},
   "outputs": [
    {
     "data": {
      "text/html": [
       "<div>\n",
       "<style scoped>\n",
       "    .dataframe tbody tr th:only-of-type {\n",
       "        vertical-align: middle;\n",
       "    }\n",
       "\n",
       "    .dataframe tbody tr th {\n",
       "        vertical-align: top;\n",
       "    }\n",
       "\n",
       "    .dataframe thead th {\n",
       "        text-align: right;\n",
       "    }\n",
       "</style>\n",
       "<table border=\"1\" class=\"dataframe\">\n",
       "  <thead>\n",
       "    <tr style=\"text-align: right;\">\n",
       "      <th></th>\n",
       "      <th>playerID</th>\n",
       "      <th>SO</th>\n",
       "      <th>BB</th>\n",
       "      <th>IPouts</th>\n",
       "      <th>ip</th>\n",
       "      <th>pfr</th>\n",
       "    </tr>\n",
       "  </thead>\n",
       "  <tbody>\n",
       "    <tr>\n",
       "      <th>0</th>\n",
       "      <td>aardsda01</td>\n",
       "      <td>340</td>\n",
       "      <td>183</td>\n",
       "      <td>1011</td>\n",
       "      <td>337.000000</td>\n",
       "      <td>1.551929</td>\n",
       "    </tr>\n",
       "    <tr>\n",
       "      <th>1</th>\n",
       "      <td>abadfe01</td>\n",
       "      <td>280</td>\n",
       "      <td>116</td>\n",
       "      <td>992</td>\n",
       "      <td>330.666667</td>\n",
       "      <td>1.197581</td>\n",
       "    </tr>\n",
       "    <tr>\n",
       "      <th>2</th>\n",
       "      <td>abbotpa01</td>\n",
       "      <td>318</td>\n",
       "      <td>271</td>\n",
       "      <td>1536</td>\n",
       "      <td>512.000000</td>\n",
       "      <td>1.150391</td>\n",
       "    </tr>\n",
       "    <tr>\n",
       "      <th>3</th>\n",
       "      <td>abreual01</td>\n",
       "      <td>2</td>\n",
       "      <td>2</td>\n",
       "      <td>4</td>\n",
       "      <td>1.333333</td>\n",
       "      <td>3.000000</td>\n",
       "    </tr>\n",
       "    <tr>\n",
       "      <th>4</th>\n",
       "      <td>abreubr01</td>\n",
       "      <td>16</td>\n",
       "      <td>10</td>\n",
       "      <td>36</td>\n",
       "      <td>12.000000</td>\n",
       "      <td>2.166667</td>\n",
       "    </tr>\n",
       "  </tbody>\n",
       "</table>\n",
       "</div>"
      ],
      "text/plain": [
       "    playerID   SO   BB  IPouts          ip       pfr\n",
       "0  aardsda01  340  183    1011  337.000000  1.551929\n",
       "1   abadfe01  280  116     992  330.666667  1.197581\n",
       "2  abbotpa01  318  271    1536  512.000000  1.150391\n",
       "3  abreual01    2    2       4    1.333333  3.000000\n",
       "4  abreubr01   16   10      36   12.000000  2.166667"
      ]
     },
     "execution_count": 6,
     "metadata": {},
     "output_type": "execute_result"
    }
   ],
   "source": [
    "# 2000년 이후의 투수들의 PFR 계산\n",
    "over_2000 = pitch[pitch['yearID']>=2000]\n",
    "pitch_sum = over_2000.groupby('playerID')['SO','BB','IPouts'].sum().reset_index()\n",
    "pitch_sum['ip'] = pitch_sum['IPouts']/3\n",
    "pitch_sum['pfr'] = (pitch_sum['SO']+pitch_sum['BB'])/pitch_sum['ip']\n",
    "pitch_sum.head()"
   ]
  },
  {
   "cell_type": "code",
   "execution_count": 7,
   "metadata": {},
   "outputs": [
    {
     "data": {
      "text/plain": [
       "1.2020145524769754"
      ]
     },
     "execution_count": 7,
     "metadata": {},
     "output_type": "execute_result"
    }
   ],
   "source": [
    "# 2000년 이후 100이닝 이상 던진 투수들의 PFR 평균\n",
    "pitch_sum.replace([np.inf, -np.inf], np.nan, inplace=True)\n",
    "over_inn_100 = pitch_sum[pitch_sum['ip']>=100]\n",
    "pfr_mean = over_inn_100['pfr'].mean()\n",
    "pfr_mean"
   ]
  },
  {
   "cell_type": "code",
   "execution_count": 8,
   "metadata": {},
   "outputs": [
    {
     "data": {
      "text/plain": [
       "count    1598.000000\n",
       "mean        1.202015\n",
       "std         0.240661\n",
       "min         0.627986\n",
       "25%         1.025372\n",
       "50%         1.188177\n",
       "75%         1.353018\n",
       "max         2.113886\n",
       "Name: pfr, dtype: float64"
      ]
     },
     "execution_count": 8,
     "metadata": {},
     "output_type": "execute_result"
    }
   ],
   "source": [
    "# PFR 통계 수치\n",
    "over_inn_100['pfr'].describe()"
   ]
  },
  {
   "cell_type": "code",
   "execution_count": 9,
   "metadata": {},
   "outputs": [
    {
     "data": {
      "text/plain": [
       "<seaborn.axisgrid.FacetGrid at 0x1c8dd8a8100>"
      ]
     },
     "execution_count": 9,
     "metadata": {},
     "output_type": "execute_result"
    },
    {
     "data": {
      "image/png": "[encoded data removed]",
      "text/plain": [
       "<Figure size 360x360 with 1 Axes>"
      ]
     },
     "metadata": {
      "needs_background": "light"
     },
     "output_type": "display_data"
    }
   ],
   "source": [
    "# 투수들의 PFR 분포도\n",
    "sns.displot(over_inn_100['pfr'])"
   ]
  },
  {
   "cell_type": "markdown",
   "metadata": {},
   "source": [
    "### PFR 상위 25%와 하위 25% 구분\n",
    "   \n",
    "극단적으로   \n",
    "PFR 상위 25%(1.353 이상) = Power 투수   \n",
    "PFR 하위 25%(1.025 이하) = Finesse 투수   \n",
    "로 구분해서 기록을 비교해보자.\n"
   ]
  },
  {
   "cell_type": "code",
   "execution_count": 35,
   "metadata": {},
   "outputs": [],
   "source": [
    "power = over_inn_100[over_inn_100['pfr']>1.353]\n",
    "finesse = over_inn_100[over_inn_100['pfr']<1.025]"
   ]
  },
  {
   "cell_type": "code",
   "execution_count": 36,
   "metadata": {},
   "outputs": [],
   "source": [
    "# id, 승리, 패배, 평균자책점, 안타, 홈런, 사구, 삼진, 폭투, 몸에 맞은 볼(Hit By Pitch), 이닝\n",
    "col = ['playerID', 'W', 'L', 'ERA', 'H/9', 'HR/9', 'BB/9', 'SO/9', 'WP/9', 'HBP/9', 'IP']"
   ]
  },
  {
   "cell_type": "code",
   "execution_count": 45,
   "metadata": {},
   "outputs": [],
   "source": [
    "power_total = pd.merge(power['playerID'], pitch, on='playerID')\n",
    "power_total['IP'] = power_total['IPouts']/3\n",
    "power_list = power_total.groupby('playerID').sum().reset_index()\n",
    "power_list['ERA']=(power_list['ER']/power_list['IP'])*9\n",
    "power_list['H/9']=(power_list['H']/power_list['IP'])*9\n",
    "power_list['HR/9']=(power_list['HR']/power_list['IP'])*9\n",
    "power_list['BB/9']=(power_list['BB']/power_list['IP'])*9\n",
    "power_list['SO/9']=(power_list['SO']/power_list['IP'])*9\n",
    "power_list['WP/9']=(power_list['WP']/power_list['IP'])*9\n",
    "power_list['HBP/9']=(power_list['HBP']/power_list['IP'])*9\n",
    "power_record = power_list[col]"
   ]
  },
  {
   "cell_type": "code",
   "execution_count": 46,
   "metadata": {},
   "outputs": [],
   "source": [
    "finesse_total = pd.merge(finesse['playerID'], pitch, on='playerID')\n",
    "finesse_total['IP'] = finesse_total['IPouts']/3\n",
    "finesse_list = finesse_total.groupby('playerID').sum().reset_index()\n",
    "finesse_list['ERA']=(finesse_list['ER']/finesse_list['IP'])*9\n",
    "finesse_list['H/9']=(finesse_list['H']/finesse_list['IP'])*9\n",
    "finesse_list['HR/9']=(finesse_list['HR']/finesse_list['IP'])*9\n",
    "finesse_list['BB/9']=(finesse_list['BB']/finesse_list['IP'])*9\n",
    "finesse_list['SO/9']=(finesse_list['SO']/finesse_list['IP'])*9\n",
    "finesse_list['WP/9']=(finesse_list['WP']/finesse_list['IP'])*9\n",
    "finesse_list['HBP/9']=(finesse_list['HBP']/finesse_list['IP'])*9\n",
    "finesse_record = finesse_list[col]"
   ]
  },
  {
   "cell_type": "code",
   "execution_count": 50,
   "metadata": {},
   "outputs": [
    {
     "data": {
      "text/html": [
       "<div>\n",
       "<style scoped>\n",
       "    .dataframe tbody tr th:only-of-type {\n",
       "        vertical-align: middle;\n",
       "    }\n",
       "\n",
       "    .dataframe tbody tr th {\n",
       "        vertical-align: top;\n",
       "    }\n",
       "\n",
       "    .dataframe thead th {\n",
       "        text-align: right;\n",
       "    }\n",
       "</style>\n",
       "<table border=\"1\" class=\"dataframe\">\n",
       "  <thead>\n",
       "    <tr style=\"text-align: right;\">\n",
       "      <th></th>\n",
       "      <th>index</th>\n",
       "      <th>power</th>\n",
       "      <th>finesse</th>\n",
       "    </tr>\n",
       "  </thead>\n",
       "  <tbody>\n",
       "    <tr>\n",
       "      <th>0</th>\n",
       "      <td>W</td>\n",
       "      <td>23.940000</td>\n",
       "      <td>45.160401</td>\n",
       "    </tr>\n",
       "    <tr>\n",
       "      <th>1</th>\n",
       "      <td>L</td>\n",
       "      <td>22.327500</td>\n",
       "      <td>45.671679</td>\n",
       "    </tr>\n",
       "    <tr>\n",
       "      <th>2</th>\n",
       "      <td>ERA</td>\n",
       "      <td>4.013293</td>\n",
       "      <td>4.621017</td>\n",
       "    </tr>\n",
       "    <tr>\n",
       "      <th>3</th>\n",
       "      <td>H/9</td>\n",
       "      <td>7.970942</td>\n",
       "      <td>9.828303</td>\n",
       "    </tr>\n",
       "    <tr>\n",
       "      <th>4</th>\n",
       "      <td>HR/9</td>\n",
       "      <td>1.041686</td>\n",
       "      <td>1.146776</td>\n",
       "    </tr>\n",
       "    <tr>\n",
       "      <th>5</th>\n",
       "      <td>BB/9</td>\n",
       "      <td>4.093281</td>\n",
       "      <td>2.884051</td>\n",
       "    </tr>\n",
       "    <tr>\n",
       "      <th>6</th>\n",
       "      <td>SO/9</td>\n",
       "      <td>9.549107</td>\n",
       "      <td>5.441171</td>\n",
       "    </tr>\n",
       "    <tr>\n",
       "      <th>7</th>\n",
       "      <td>WP/9</td>\n",
       "      <td>0.518834</td>\n",
       "      <td>0.258286</td>\n",
       "    </tr>\n",
       "    <tr>\n",
       "      <th>8</th>\n",
       "      <td>HBP/9</td>\n",
       "      <td>0.391868</td>\n",
       "      <td>0.360751</td>\n",
       "    </tr>\n",
       "    <tr>\n",
       "      <th>9</th>\n",
       "      <td>IP</td>\n",
       "      <td>414.153333</td>\n",
       "      <td>793.891395</td>\n",
       "    </tr>\n",
       "  </tbody>\n",
       "</table>\n",
       "</div>"
      ],
      "text/plain": [
       "   index       power     finesse\n",
       "0      W   23.940000   45.160401\n",
       "1      L   22.327500   45.671679\n",
       "2    ERA    4.013293    4.621017\n",
       "3    H/9    7.970942    9.828303\n",
       "4   HR/9    1.041686    1.146776\n",
       "5   BB/9    4.093281    2.884051\n",
       "6   SO/9    9.549107    5.441171\n",
       "7   WP/9    0.518834    0.258286\n",
       "8  HBP/9    0.391868    0.360751\n",
       "9     IP  414.153333  793.891395"
      ]
     },
     "execution_count": 50,
     "metadata": {},
     "output_type": "execute_result"
    }
   ],
   "source": [
    "power_mean_record = power_record.mean().reset_index().rename(columns={0: 'power'})\n",
    "finesse_mean_record = finesse_record.mean().reset_index().rename(columns={0: 'finesse'})\n",
    "p_vs_f = pd.merge(power_mean_record, finesse_mean_record, on='index')\n",
    "p_vs_f"
   ]
  },
  {
   "cell_type": "markdown",
   "metadata": {},
   "source": [
    "분류된 두 집단은 같은 %로 나누었기 때문에(상위 25%, 하위 25%) 인원 수는 같다.   \n",
    "그럼에도 finesse 유형의 투수가 이닝이 훨씬 더 많았다.   \n",
    "finesse 유형의 투수가 선발투수인 경우가 더 많다고 해석할 수 있다."
   ]
  },
  {
   "cell_type": "code",
   "execution_count": 80,
   "metadata": {},
   "outputs": [
    {
     "data": {
      "image/png": "[encoded data removed]",
      "text/plain": [
       "<Figure size 1440x576 with 1 Axes>"
      ]
     },
     "metadata": {
      "needs_background": "light"
     },
     "output_type": "display_data"
    }
   ],
   "source": [
    "pf_plot = p_vs_f.iloc[2:9]\n",
    "plt.figure(figsize=(20,8))\n",
    "x = np.arange(len(pf_plot))\n",
    "width=0.35\n",
    "plt.bar(x-width/2, pf_plot['power'], label='power', width=0.35)\n",
    "plt.bar(x+width/2, pf_plot['finesse'], label='finesse', width=0.35)\n",
    "plt.legend(prop={'size': 20})\n",
    "plt.xticks(x, labels=pf_plot['index'], size=20)\n",
    "plt.title('Power vs. Finesse', size=20)\n",
    "plt.show()"
   ]
  },
  {
   "cell_type": "markdown",
   "metadata": {},
   "source": [
    "### 비교\n",
    "ERA와 피안타, 피홈런 등 전체적으로 Power 유형 투수의 성적이 좋게 나타났다.   \n",
    "삼진 아웃 수는 Power 유형이 압도적으로 높았으며, 반대로 사구, 폭투 또한 Power 유형이 더 많았다."
   ]
  },
  {
   "cell_type": "markdown",
   "metadata": {},
   "source": [
    "### 추가\n",
    "투수의 구속과 관련된 데이터가 없어서 구속을 비교하지 못했다.   \n",
    "Power 유형의 투수가 구속이 더 높을 것으로 예상되지만, 그 차이가 어느정도인지 확인하고 싶었는데 아쉽다."
   ]
  },
  {
   "cell_type": "code",
   "execution_count": null,
   "metadata": {},
   "outputs": [],
   "source": []
  }
 ],
 "metadata": {
  "kernelspec": {
   "display_name": "Python 3",
   "language": "python",
   "name": "python3"
  },
  "language_info": {
   "codemirror_mode": {
    "name": "ipython",
    "version": 3
   },
   "file_extension": ".py",
   "mimetype": "text/x-python",
   "name": "python",
   "nbconvert_exporter": "python",
   "pygments_lexer": "ipython3",
   "version": "3.8.5"
  }
 },
 "nbformat": 4,
 "nbformat_minor": 4
}
