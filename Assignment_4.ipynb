{
 "cells": [
  {
   "cell_type": "markdown",
   "metadata": {},
   "source": [
    "## Part 1 - Import and Explore Data "
   ]
  },
  {
   "cell_type": "markdown",
   "metadata": {},
   "source": [
    "### 홈 어드밴티지 및 환경 변수 확인\n",
    "\n",
    "NFL 경기 기록 데이터를 통해   \n",
    "홈 경기였을 때 상대팀과의 득점 차이가 통계적으로 유의한지 확인한다.   \n",
    "홈 경기들의 득점이 시즌 및 날씨 환경에 영향을 받는지 확인한다. "
   ]
  },
  {
   "cell_type": "markdown",
   "metadata": {},
   "source": [
    "1)  Import the “nfl_game.csv” data file and name the dataframe as “NFL_Game” in Jupyter Notebook.\n",
    "\n",
    "Descriptions of selected variables\n",
    "\n",
    "    - Unit of measurement of weather variables:\n",
    "      temperature - degree Fahrenheit;\n",
    "      humidity – relative percentage;\n",
    "      wind – mph\n",
    "    \n",
    "    - The variable “score” is the score earned by the team specified in the “team” variable. The variable “opponent_score” is the score earned by the team specified in the “opponent” variable.\n",
    "    \n",
    "    - The variable “score_diff” is defined as “score – opponent_score” for the given team.\n",
    "    \n",
    "\n",
    "2)  Use the “describe” function to calculate summary statistics for the “date” variable. Use the “describe” function to calculate summary statistics for the “score” variable based on whether it is a home or an away game for the team.\n",
    "\n",
    "3) Find the correlation efficients between the following pairs of variables:\n",
    "    - “win” and “home”       \n",
    "    - “score_diff” and “home”\n",
    "    - “score” and “weather_temperature”\n",
    "    - “score” and “weather_humidity”       \n",
    "    - “score” and “weather_wind_mph”"
   ]
  },
  {
   "cell_type": "code",
   "execution_count": 1,
   "metadata": {},
   "outputs": [],
   "source": [
    "import pandas as pd\n",
    "import numpy as np\n",
    "import datetime\n",
    "import statsmodels.formula.api as sm"
   ]
  },
  {
   "cell_type": "code",
   "execution_count": 2,
   "metadata": {},
   "outputs": [
    {
     "data": {
      "text/html": [
       "<div>\n",
       "<style scoped>\n",
       "    .dataframe tbody tr th:only-of-type {\n",
       "        vertical-align: middle;\n",
       "    }\n",
       "\n",
       "    .dataframe tbody tr th {\n",
       "        vertical-align: top;\n",
       "    }\n",
       "\n",
       "    .dataframe thead th {\n",
       "        text-align: right;\n",
       "    }\n",
       "</style>\n",
       "<table border=\"1\" class=\"dataframe\">\n",
       "  <thead>\n",
       "    <tr style=\"text-align: right;\">\n",
       "      <th></th>\n",
       "      <th>game_id</th>\n",
       "      <th>stadium</th>\n",
       "      <th>date</th>\n",
       "      <th>score</th>\n",
       "      <th>weather_temperature</th>\n",
       "      <th>weather_wind_mph</th>\n",
       "      <th>weather_humidity</th>\n",
       "      <th>score_diff</th>\n",
       "      <th>home</th>\n",
       "      <th>win</th>\n",
       "      <th>...</th>\n",
       "      <th>stadium_close</th>\n",
       "      <th>stadium_type</th>\n",
       "      <th>stadium_age</th>\n",
       "      <th>conference</th>\n",
       "      <th>division</th>\n",
       "      <th>season</th>\n",
       "      <th>team_division</th>\n",
       "      <th>team_division_pre2002</th>\n",
       "      <th>team</th>\n",
       "      <th>stadium_neutral</th>\n",
       "    </tr>\n",
       "  </thead>\n",
       "  <tbody>\n",
       "    <tr>\n",
       "      <th>0</th>\n",
       "      <td>1</td>\n",
       "      <td>Orange Bowl</td>\n",
       "      <td>9/2/1966</td>\n",
       "      <td>14</td>\n",
       "      <td>83</td>\n",
       "      <td>6</td>\n",
       "      <td>71</td>\n",
       "      <td>-9</td>\n",
       "      <td>1</td>\n",
       "      <td>0</td>\n",
       "      <td>...</td>\n",
       "      <td>2008.0</td>\n",
       "      <td>outdoor</td>\n",
       "      <td>29</td>\n",
       "      <td>NFC</td>\n",
       "      <td>NFC West</td>\n",
       "      <td>1966</td>\n",
       "      <td>AFC East</td>\n",
       "      <td>AFC East</td>\n",
       "      <td>Miami Dolphins</td>\n",
       "      <td>0</td>\n",
       "    </tr>\n",
       "    <tr>\n",
       "      <th>1</th>\n",
       "      <td>1</td>\n",
       "      <td>Orange Bowl</td>\n",
       "      <td>9/2/1966</td>\n",
       "      <td>23</td>\n",
       "      <td>83</td>\n",
       "      <td>6</td>\n",
       "      <td>71</td>\n",
       "      <td>9</td>\n",
       "      <td>0</td>\n",
       "      <td>1</td>\n",
       "      <td>...</td>\n",
       "      <td>2008.0</td>\n",
       "      <td>outdoor</td>\n",
       "      <td>29</td>\n",
       "      <td>AFC</td>\n",
       "      <td>AFC Central</td>\n",
       "      <td>1966</td>\n",
       "      <td>AFC West</td>\n",
       "      <td>AFC West</td>\n",
       "      <td>Oakland Raiders</td>\n",
       "      <td>0</td>\n",
       "    </tr>\n",
       "    <tr>\n",
       "      <th>2</th>\n",
       "      <td>2</td>\n",
       "      <td>Rice Stadium</td>\n",
       "      <td>9/3/1966</td>\n",
       "      <td>45</td>\n",
       "      <td>81</td>\n",
       "      <td>7</td>\n",
       "      <td>70</td>\n",
       "      <td>38</td>\n",
       "      <td>1</td>\n",
       "      <td>1</td>\n",
       "      <td>...</td>\n",
       "      <td>NaN</td>\n",
       "      <td>outdoor</td>\n",
       "      <td>16</td>\n",
       "      <td>NFC</td>\n",
       "      <td>NFC West</td>\n",
       "      <td>1966</td>\n",
       "      <td>NaN</td>\n",
       "      <td>AFC Central</td>\n",
       "      <td>Houston Oilers</td>\n",
       "      <td>0</td>\n",
       "    </tr>\n",
       "    <tr>\n",
       "      <th>3</th>\n",
       "      <td>2</td>\n",
       "      <td>Rice Stadium</td>\n",
       "      <td>9/3/1966</td>\n",
       "      <td>7</td>\n",
       "      <td>81</td>\n",
       "      <td>7</td>\n",
       "      <td>70</td>\n",
       "      <td>-38</td>\n",
       "      <td>0</td>\n",
       "      <td>0</td>\n",
       "      <td>...</td>\n",
       "      <td>NaN</td>\n",
       "      <td>outdoor</td>\n",
       "      <td>16</td>\n",
       "      <td>NFC</td>\n",
       "      <td>NFC West</td>\n",
       "      <td>1966</td>\n",
       "      <td>AFC West</td>\n",
       "      <td>AFC West</td>\n",
       "      <td>Denver Broncos</td>\n",
       "      <td>0</td>\n",
       "    </tr>\n",
       "    <tr>\n",
       "      <th>4</th>\n",
       "      <td>3</td>\n",
       "      <td>Balboa Stadium</td>\n",
       "      <td>9/4/1966</td>\n",
       "      <td>27</td>\n",
       "      <td>70</td>\n",
       "      <td>7</td>\n",
       "      <td>82</td>\n",
       "      <td>20</td>\n",
       "      <td>1</td>\n",
       "      <td>1</td>\n",
       "      <td>...</td>\n",
       "      <td>NaN</td>\n",
       "      <td>outdoor</td>\n",
       "      <td>52</td>\n",
       "      <td>NFC</td>\n",
       "      <td>NFC West</td>\n",
       "      <td>1966</td>\n",
       "      <td>AFC West</td>\n",
       "      <td>AFC West</td>\n",
       "      <td>San Diego Chargers</td>\n",
       "      <td>0</td>\n",
       "    </tr>\n",
       "    <tr>\n",
       "      <th>...</th>\n",
       "      <td>...</td>\n",
       "      <td>...</td>\n",
       "      <td>...</td>\n",
       "      <td>...</td>\n",
       "      <td>...</td>\n",
       "      <td>...</td>\n",
       "      <td>...</td>\n",
       "      <td>...</td>\n",
       "      <td>...</td>\n",
       "      <td>...</td>\n",
       "      <td>...</td>\n",
       "      <td>...</td>\n",
       "      <td>...</td>\n",
       "      <td>...</td>\n",
       "      <td>...</td>\n",
       "      <td>...</td>\n",
       "      <td>...</td>\n",
       "      <td>...</td>\n",
       "      <td>...</td>\n",
       "      <td>...</td>\n",
       "      <td>...</td>\n",
       "    </tr>\n",
       "    <tr>\n",
       "      <th>24309</th>\n",
       "      <td>12155</td>\n",
       "      <td>MetLife Stadium</td>\n",
       "      <td>12/29/2019</td>\n",
       "      <td>17</td>\n",
       "      <td>42</td>\n",
       "      <td>5</td>\n",
       "      <td>69</td>\n",
       "      <td>-17</td>\n",
       "      <td>1</td>\n",
       "      <td>0</td>\n",
       "      <td>...</td>\n",
       "      <td>NaN</td>\n",
       "      <td>outdoor</td>\n",
       "      <td>9</td>\n",
       "      <td>NFC</td>\n",
       "      <td>NFC East</td>\n",
       "      <td>2019</td>\n",
       "      <td>NFC East</td>\n",
       "      <td>NFC East</td>\n",
       "      <td>New York Giants</td>\n",
       "      <td>0</td>\n",
       "    </tr>\n",
       "    <tr>\n",
       "      <th>24310</th>\n",
       "      <td>12156</td>\n",
       "      <td>CenturyLink Field</td>\n",
       "      <td>12/29/2019</td>\n",
       "      <td>26</td>\n",
       "      <td>51</td>\n",
       "      <td>3</td>\n",
       "      <td>70</td>\n",
       "      <td>5</td>\n",
       "      <td>0</td>\n",
       "      <td>1</td>\n",
       "      <td>...</td>\n",
       "      <td>NaN</td>\n",
       "      <td>outdoor</td>\n",
       "      <td>17</td>\n",
       "      <td>AFC</td>\n",
       "      <td>AFC West</td>\n",
       "      <td>2019</td>\n",
       "      <td>NFC West</td>\n",
       "      <td>NFC West</td>\n",
       "      <td>San Francisco 49ers</td>\n",
       "      <td>0</td>\n",
       "    </tr>\n",
       "    <tr>\n",
       "      <th>24311</th>\n",
       "      <td>12156</td>\n",
       "      <td>CenturyLink Field</td>\n",
       "      <td>12/29/2019</td>\n",
       "      <td>21</td>\n",
       "      <td>51</td>\n",
       "      <td>3</td>\n",
       "      <td>70</td>\n",
       "      <td>-5</td>\n",
       "      <td>1</td>\n",
       "      <td>0</td>\n",
       "      <td>...</td>\n",
       "      <td>NaN</td>\n",
       "      <td>outdoor</td>\n",
       "      <td>17</td>\n",
       "      <td>AFC</td>\n",
       "      <td>AFC West</td>\n",
       "      <td>2019</td>\n",
       "      <td>NFC West</td>\n",
       "      <td>AFC West</td>\n",
       "      <td>Seattle Seahawks</td>\n",
       "      <td>0</td>\n",
       "    </tr>\n",
       "    <tr>\n",
       "      <th>24312</th>\n",
       "      <td>12157</td>\n",
       "      <td>Raymond James Stadium</td>\n",
       "      <td>12/29/2019</td>\n",
       "      <td>28</td>\n",
       "      <td>78</td>\n",
       "      <td>12</td>\n",
       "      <td>77</td>\n",
       "      <td>6</td>\n",
       "      <td>0</td>\n",
       "      <td>1</td>\n",
       "      <td>...</td>\n",
       "      <td>2016.0</td>\n",
       "      <td>outdoor</td>\n",
       "      <td>21</td>\n",
       "      <td>NFC</td>\n",
       "      <td>AFC East</td>\n",
       "      <td>2019</td>\n",
       "      <td>NFC South</td>\n",
       "      <td>NFC West</td>\n",
       "      <td>Atlanta Falcons</td>\n",
       "      <td>0</td>\n",
       "    </tr>\n",
       "    <tr>\n",
       "      <th>24313</th>\n",
       "      <td>12157</td>\n",
       "      <td>Raymond James Stadium</td>\n",
       "      <td>12/29/2019</td>\n",
       "      <td>22</td>\n",
       "      <td>78</td>\n",
       "      <td>12</td>\n",
       "      <td>77</td>\n",
       "      <td>-6</td>\n",
       "      <td>1</td>\n",
       "      <td>0</td>\n",
       "      <td>...</td>\n",
       "      <td>2016.0</td>\n",
       "      <td>outdoor</td>\n",
       "      <td>21</td>\n",
       "      <td>AFC</td>\n",
       "      <td>AFC West</td>\n",
       "      <td>2019</td>\n",
       "      <td>NFC South</td>\n",
       "      <td>NFC Central</td>\n",
       "      <td>Tampa Bay Buccaneers</td>\n",
       "      <td>0</td>\n",
       "    </tr>\n",
       "  </tbody>\n",
       "</table>\n",
       "<p>24314 rows × 28 columns</p>\n",
       "</div>"
      ],
      "text/plain": [
       "       game_id                stadium        date  score  weather_temperature  \\\n",
       "0            1            Orange Bowl    9/2/1966     14                   83   \n",
       "1            1            Orange Bowl    9/2/1966     23                   83   \n",
       "2            2           Rice Stadium    9/3/1966     45                   81   \n",
       "3            2           Rice Stadium    9/3/1966      7                   81   \n",
       "4            3         Balboa Stadium    9/4/1966     27                   70   \n",
       "...        ...                    ...         ...    ...                  ...   \n",
       "24309    12155        MetLife Stadium  12/29/2019     17                   42   \n",
       "24310    12156      CenturyLink Field  12/29/2019     26                   51   \n",
       "24311    12156      CenturyLink Field  12/29/2019     21                   51   \n",
       "24312    12157  Raymond James Stadium  12/29/2019     28                   78   \n",
       "24313    12157  Raymond James Stadium  12/29/2019     22                   78   \n",
       "\n",
       "       weather_wind_mph  weather_humidity  score_diff  home  win  ...  \\\n",
       "0                     6                71          -9     1    0  ...   \n",
       "1                     6                71           9     0    1  ...   \n",
       "2                     7                70          38     1    1  ...   \n",
       "3                     7                70         -38     0    0  ...   \n",
       "4                     7                82          20     1    1  ...   \n",
       "...                 ...               ...         ...   ...  ...  ...   \n",
       "24309                 5                69         -17     1    0  ...   \n",
       "24310                 3                70           5     0    1  ...   \n",
       "24311                 3                70          -5     1    0  ...   \n",
       "24312                12                77           6     0    1  ...   \n",
       "24313                12                77          -6     1    0  ...   \n",
       "\n",
       "       stadium_close stadium_type stadium_age conference     division season  \\\n",
       "0             2008.0      outdoor          29        NFC     NFC West   1966   \n",
       "1             2008.0      outdoor          29        AFC  AFC Central   1966   \n",
       "2                NaN      outdoor          16        NFC     NFC West   1966   \n",
       "3                NaN      outdoor          16        NFC     NFC West   1966   \n",
       "4                NaN      outdoor          52        NFC     NFC West   1966   \n",
       "...              ...          ...         ...        ...          ...    ...   \n",
       "24309            NaN      outdoor           9        NFC     NFC East   2019   \n",
       "24310            NaN      outdoor          17        AFC     AFC West   2019   \n",
       "24311            NaN      outdoor          17        AFC     AFC West   2019   \n",
       "24312         2016.0      outdoor          21        NFC     AFC East   2019   \n",
       "24313         2016.0      outdoor          21        AFC     AFC West   2019   \n",
       "\n",
       "       team_division  team_division_pre2002                  team  \\\n",
       "0           AFC East               AFC East        Miami Dolphins   \n",
       "1           AFC West               AFC West       Oakland Raiders   \n",
       "2                NaN            AFC Central        Houston Oilers   \n",
       "3           AFC West               AFC West        Denver Broncos   \n",
       "4           AFC West               AFC West    San Diego Chargers   \n",
       "...              ...                    ...                   ...   \n",
       "24309       NFC East               NFC East       New York Giants   \n",
       "24310       NFC West               NFC West   San Francisco 49ers   \n",
       "24311       NFC West               AFC West      Seattle Seahawks   \n",
       "24312      NFC South               NFC West       Atlanta Falcons   \n",
       "24313      NFC South            NFC Central  Tampa Bay Buccaneers   \n",
       "\n",
       "      stadium_neutral  \n",
       "0                   0  \n",
       "1                   0  \n",
       "2                   0  \n",
       "3                   0  \n",
       "4                   0  \n",
       "...               ...  \n",
       "24309               0  \n",
       "24310               0  \n",
       "24311               0  \n",
       "24312               0  \n",
       "24313               0  \n",
       "\n",
       "[24314 rows x 28 columns]"
      ]
     },
     "metadata": {},
     "output_type": "display_data"
    }
   ],
   "source": [
    "NFL_Game=pd.read_csv(\"Assignment/Assignment Data/Week 4/nfl_game.csv\")\n",
    "display(NFL_Game)"
   ]
  },
  {
   "cell_type": "code",
   "execution_count": 3,
   "metadata": {},
   "outputs": [
    {
     "data": {
      "text/plain": [
       "(24314, 28)"
      ]
     },
     "execution_count": 3,
     "metadata": {},
     "output_type": "execute_result"
    }
   ],
   "source": [
    "NFL_Game.shape"
   ]
  },
  {
   "cell_type": "code",
   "execution_count": 4,
   "metadata": {},
   "outputs": [
    {
     "name": "stderr",
     "output_type": "stream",
     "text": [
      "<ipython-input-4-0e929360b896>:2: FutureWarning: Treating datetime data as categorical rather than numeric in `.describe` is deprecated and will be removed in a future version of pandas. Specify `datetime_is_numeric=True` to silence this warning and adopt the future behavior now.\n",
      "  NFL_Game['date'].describe()\n"
     ]
    },
    {
     "data": {
      "text/plain": [
       "count                   24314\n",
       "unique                   2065\n",
       "top       2017-01-01 00:00:00\n",
       "freq                       32\n",
       "first     1966-09-02 00:00:00\n",
       "last      2019-12-29 00:00:00\n",
       "Name: date, dtype: object"
      ]
     },
     "execution_count": 4,
     "metadata": {},
     "output_type": "execute_result"
    }
   ],
   "source": [
    "NFL_Game['date']=pd.to_datetime(NFL_Game['date'])\n",
    "NFL_Game['date'].describe()"
   ]
  },
  {
   "cell_type": "code",
   "execution_count": 5,
   "metadata": {},
   "outputs": [
    {
     "data": {
      "text/html": [
       "<div>\n",
       "<style scoped>\n",
       "    .dataframe tbody tr th:only-of-type {\n",
       "        vertical-align: middle;\n",
       "    }\n",
       "\n",
       "    .dataframe tbody tr th {\n",
       "        vertical-align: top;\n",
       "    }\n",
       "\n",
       "    .dataframe thead th {\n",
       "        text-align: right;\n",
       "    }\n",
       "</style>\n",
       "<table border=\"1\" class=\"dataframe\">\n",
       "  <thead>\n",
       "    <tr style=\"text-align: right;\">\n",
       "      <th></th>\n",
       "      <th>count</th>\n",
       "      <th>mean</th>\n",
       "      <th>std</th>\n",
       "      <th>min</th>\n",
       "      <th>25%</th>\n",
       "      <th>50%</th>\n",
       "      <th>75%</th>\n",
       "      <th>max</th>\n",
       "    </tr>\n",
       "    <tr>\n",
       "      <th>home</th>\n",
       "      <th></th>\n",
       "      <th></th>\n",
       "      <th></th>\n",
       "      <th></th>\n",
       "      <th></th>\n",
       "      <th></th>\n",
       "      <th></th>\n",
       "      <th></th>\n",
       "    </tr>\n",
       "  </thead>\n",
       "  <tbody>\n",
       "    <tr>\n",
       "      <th>0</th>\n",
       "      <td>12157.0</td>\n",
       "      <td>19.643004</td>\n",
       "      <td>10.166614</td>\n",
       "      <td>0.0</td>\n",
       "      <td>13.0</td>\n",
       "      <td>20.0</td>\n",
       "      <td>27.0</td>\n",
       "      <td>62.0</td>\n",
       "    </tr>\n",
       "    <tr>\n",
       "      <th>1</th>\n",
       "      <td>12157.0</td>\n",
       "      <td>22.254997</td>\n",
       "      <td>10.533005</td>\n",
       "      <td>0.0</td>\n",
       "      <td>14.0</td>\n",
       "      <td>21.0</td>\n",
       "      <td>29.0</td>\n",
       "      <td>72.0</td>\n",
       "    </tr>\n",
       "  </tbody>\n",
       "</table>\n",
       "</div>"
      ],
      "text/plain": [
       "        count       mean        std  min   25%   50%   75%   max\n",
       "home                                                            \n",
       "0     12157.0  19.643004  10.166614  0.0  13.0  20.0  27.0  62.0\n",
       "1     12157.0  22.254997  10.533005  0.0  14.0  21.0  29.0  72.0"
      ]
     },
     "execution_count": 5,
     "metadata": {},
     "output_type": "execute_result"
    }
   ],
   "source": [
    "NFL_Game.groupby(['home'])['score'].describe()"
   ]
  },
  {
   "cell_type": "markdown",
   "metadata": {},
   "source": [
    "5.Calculate correlation coefficients\n",
    "- win and home\n",
    "- score_diff and home\n",
    "- score and weather_temperature\n",
    "- score and weather_humidity\n",
    "- score and weather_wind_mph\n"
   ]
  },
  {
   "cell_type": "code",
   "execution_count": 6,
   "metadata": {},
   "outputs": [
    {
     "data": {
      "text/plain": [
       "0.14790211753177582"
      ]
     },
     "execution_count": 6,
     "metadata": {},
     "output_type": "execute_result"
    }
   ],
   "source": [
    "NFL_Game['win'].corr(NFL_Game['home'])"
   ]
  },
  {
   "cell_type": "code",
   "execution_count": 7,
   "metadata": {},
   "outputs": [
    {
     "data": {
      "text/plain": [
       "0.1725059685987271"
      ]
     },
     "execution_count": 7,
     "metadata": {},
     "output_type": "execute_result"
    }
   ],
   "source": [
    "NFL_Game['score_diff'].corr(NFL_Game['home'])"
   ]
  },
  {
   "cell_type": "code",
   "execution_count": 8,
   "metadata": {},
   "outputs": [
    {
     "data": {
      "text/plain": [
       "0.03361690080893201"
      ]
     },
     "execution_count": 8,
     "metadata": {},
     "output_type": "execute_result"
    }
   ],
   "source": [
    "NFL_Game['score'].corr(NFL_Game['weather_temperature'])"
   ]
  },
  {
   "cell_type": "code",
   "execution_count": 9,
   "metadata": {},
   "outputs": [
    {
     "data": {
      "text/plain": [
       "-0.03278832087607436"
      ]
     },
     "execution_count": 9,
     "metadata": {},
     "output_type": "execute_result"
    }
   ],
   "source": [
    "NFL_Game['score'].corr(NFL_Game['weather_humidity'])"
   ]
  },
  {
   "cell_type": "code",
   "execution_count": 10,
   "metadata": {},
   "outputs": [
    {
     "data": {
      "text/plain": [
       "-0.07895602955806053"
      ]
     },
     "execution_count": 10,
     "metadata": {},
     "output_type": "execute_result"
    }
   ],
   "source": [
    "NFL_Game['score'].corr(NFL_Game['weather_wind_mph'])"
   ]
  },
  {
   "cell_type": "markdown",
   "metadata": {},
   "source": [
    "## Part 2 - Regression Analysis 1 - Test of Home Game Advantage"
   ]
  },
  {
   "cell_type": "markdown",
   "metadata": {},
   "source": [
    "In this regression analysis, you will try to determine if playing at home gives teams any advantage in their performance.\n",
    "\n",
    "Run the following regressions where the variable “score_diff” is the dependent variable.\n",
    "\n",
    "- Reg1_1: Include a single variable “home” as the independent variable."
   ]
  },
  {
   "cell_type": "code",
   "execution_count": 11,
   "metadata": {},
   "outputs": [],
   "source": [
    "Reg1_1 = sm.ols(formula = 'score_diff ~ home', data= NFL_Game).fit()"
   ]
  },
  {
   "cell_type": "code",
   "execution_count": 12,
   "metadata": {},
   "outputs": [
    {
     "name": "stdout",
     "output_type": "stream",
     "text": [
      "                            OLS Regression Results                            \n",
      "==============================================================================\n",
      "Dep. Variable:             score_diff   R-squared:                       0.030\n",
      "Model:                            OLS   Adj. R-squared:                  0.030\n",
      "Method:                 Least Squares   F-statistic:                     745.7\n",
      "Date:                Tue, 06 Jul 2021   Prob (F-statistic):          9.64e-162\n",
      "Time:                        02:29:39   Log-Likelihood:            -1.0020e+05\n",
      "No. Observations:               24314   AIC:                         2.004e+05\n",
      "Df Residuals:                   24312   BIC:                         2.004e+05\n",
      "Df Model:                           1                                         \n",
      "Covariance Type:            nonrobust                                         \n",
      "==============================================================================\n",
      "                 coef    std err          t      P>|t|      [0.025      0.975]\n",
      "------------------------------------------------------------------------------\n",
      "Intercept     -2.6120      0.135    -19.309      0.000      -2.877      -2.347\n",
      "home           5.2240      0.191     27.307      0.000       4.849       5.599\n",
      "==============================================================================\n",
      "Omnibus:                       30.538   Durbin-Watson:                   3.021\n",
      "Prob(Omnibus):                  0.000   Jarque-Bera (JB):               34.843\n",
      "Skew:                           0.000   Prob(JB):                     2.72e-08\n",
      "Kurtosis:                       3.185   Cond. No.                         2.62\n",
      "==============================================================================\n",
      "\n",
      "Notes:\n",
      "[1] Standard Errors assume that the covariance matrix of the errors is correctly specified.\n"
     ]
    }
   ],
   "source": [
    "print(Reg1_1.summary())"
   ]
  },
  {
   "cell_type": "markdown",
   "metadata": {},
   "source": [
    "Reg1_2\n",
    "- Dependent variable: score_diff\n",
    "- Independent variables: home, stadium_capacity, stadium_neutral, the interaction between home and stadium_neutral, team, and opponent"
   ]
  },
  {
   "cell_type": "markdown",
   "metadata": {},
   "source": [
    "## Part 2 - Regression Analysis 2 -- Impact of Outside Factors on Scores"
   ]
  },
  {
   "cell_type": "markdown",
   "metadata": {},
   "source": [
    "In this regression analysis, you will investigate if the final score earned by each team is affected by outside factors such as the size and condition of the stadium as well as weather conditions at the stadium.\n",
    "\n",
    "Run the following regressions where the variable “score” is the dependent variable.\n",
    "\n",
    "- Reg2_1: Include “season” and “home” variables as independent variables.\n",
    "- Reg2_2: Include “season,” “home,” “weather_temperature,” “weather_wind_mph,” and “weather_humidity” as independent variables. "
   ]
  },
  {
   "cell_type": "code",
   "execution_count": 17,
   "metadata": {},
   "outputs": [],
   "source": [
    "Reg2_1 = sm.ols(formula = 'score ~ season+home', data= NFL_Game).fit()"
   ]
  },
  {
   "cell_type": "code",
   "execution_count": 18,
   "metadata": {},
   "outputs": [
    {
     "name": "stdout",
     "output_type": "stream",
     "text": [
      "                            OLS Regression Results                            \n",
      "==============================================================================\n",
      "Dep. Variable:                  score   R-squared:                       0.022\n",
      "Model:                            OLS   Adj. R-squared:                  0.022\n",
      "Method:                 Least Squares   F-statistic:                     273.3\n",
      "Date:                Tue, 06 Jul 2021   Prob (F-statistic):          4.37e-118\n",
      "Time:                        02:29:39   Log-Likelihood:                -91246.\n",
      "No. Observations:               24314   AIC:                         1.825e+05\n",
      "Df Residuals:                   24311   BIC:                         1.825e+05\n",
      "Df Model:                           2                                         \n",
      "Covariance Type:            nonrobust                                         \n",
      "==============================================================================\n",
      "                 coef    std err          t      P>|t|      [0.025      0.975]\n",
      "------------------------------------------------------------------------------\n",
      "Intercept    -88.2969      8.615    -10.249      0.000    -105.183     -71.411\n",
      "season         0.0541      0.004     12.530      0.000       0.046       0.063\n",
      "home           2.6120      0.132     19.736      0.000       2.353       2.871\n",
      "==============================================================================\n",
      "Omnibus:                      480.134   Durbin-Watson:                   2.056\n",
      "Prob(Omnibus):                  0.000   Jarque-Bera (JB):              508.905\n",
      "Skew:                           0.354   Prob(JB):                    3.11e-111\n",
      "Kurtosis:                       2.992   Cond. No.                     2.60e+05\n",
      "==============================================================================\n",
      "\n",
      "Notes:\n",
      "[1] Standard Errors assume that the covariance matrix of the errors is correctly specified.\n",
      "[2] The condition number is large, 2.6e+05. This might indicate that there are\n",
      "strong multicollinearity or other numerical problems.\n"
     ]
    }
   ],
   "source": [
    "print(Reg2_1.summary())"
   ]
  },
  {
   "cell_type": "markdown",
   "metadata": {},
   "source": [
    "10.Reg2_2\n",
    "- Dependent variable: score\n",
    "- Independent variables: season, home, weather_temperature, weather_wind_mph, and weather_humidity"
   ]
  },
  {
   "cell_type": "code",
   "execution_count": 19,
   "metadata": {},
   "outputs": [],
   "source": [
    "Reg2_2 = sm.ols(formula = 'score ~ season+home+weather_temperature+weather_wind_mph+weather_humidity', data= NFL_Game).fit()"
   ]
  },
  {
   "cell_type": "code",
   "execution_count": 20,
   "metadata": {},
   "outputs": [
    {
     "name": "stdout",
     "output_type": "stream",
     "text": [
      "                            OLS Regression Results                            \n",
      "==============================================================================\n",
      "Dep. Variable:                  score   R-squared:                       0.026\n",
      "Model:                            OLS   Adj. R-squared:                  0.026\n",
      "Method:                 Least Squares   F-statistic:                     129.9\n",
      "Date:                Tue, 06 Jul 2021   Prob (F-statistic):          2.60e-136\n",
      "Time:                        02:29:39   Log-Likelihood:                -91195.\n",
      "No. Observations:               24314   AIC:                         1.824e+05\n",
      "Df Residuals:                   24308   BIC:                         1.825e+05\n",
      "Df Model:                           5                                         \n",
      "Covariance Type:            nonrobust                                         \n",
      "=======================================================================================\n",
      "                          coef    std err          t      P>|t|      [0.025      0.975]\n",
      "---------------------------------------------------------------------------------------\n",
      "Intercept             -58.1972      9.142     -6.366      0.000     -76.117     -40.277\n",
      "season                  0.0400      0.005      8.797      0.000       0.031       0.049\n",
      "home                    2.6120      0.132     19.776      0.000       2.353       2.871\n",
      "weather_temperature    -0.0006      0.005     -0.127      0.899      -0.010       0.009\n",
      "weather_wind_mph       -0.1188      0.013     -8.937      0.000      -0.145      -0.093\n",
      "weather_humidity       -0.0150      0.004     -3.506      0.000      -0.023      -0.007\n",
      "==============================================================================\n",
      "Omnibus:                      482.730   Durbin-Watson:                   2.061\n",
      "Prob(Omnibus):                  0.000   Jarque-Bera (JB):              511.818\n",
      "Skew:                           0.355   Prob(JB):                    7.25e-112\n",
      "Kurtosis:                       2.992   Cond. No.                     2.76e+05\n",
      "==============================================================================\n",
      "\n",
      "Notes:\n",
      "[1] Standard Errors assume that the covariance matrix of the errors is correctly specified.\n",
      "[2] The condition number is large, 2.76e+05. This might indicate that there are\n",
      "strong multicollinearity or other numerical problems.\n"
     ]
    }
   ],
   "source": [
    "print(Reg2_2.summary())"
   ]
  },
  {
   "cell_type": "markdown",
   "metadata": {},
   "source": [
    "11.Reg2_3\n",
    "- Dependent variable: score\n",
    "- Independent variables: season, home, weather_temperature, weather_wind_mph, and weather_humidity, stadium_capacity,  stadium_age, stadium_type, stadium_neutral, and the interaction between home and stadium_neutral"
   ]
  },
  {
   "cell_type": "code",
   "execution_count": null,
   "metadata": {},
   "outputs": [],
   "source": []
  }
 ],
 "metadata": {
  "kernelspec": {
   "display_name": "Python 3",
   "language": "python",
   "name": "python3"
  },
  "language_info": {
   "codemirror_mode": {
    "name": "ipython",
    "version": 3
   },
   "file_extension": ".py",
   "mimetype": "text/x-python",
   "name": "python",
   "nbconvert_exporter": "python",
   "pygments_lexer": "ipython3",
   "version": "3.8.5"
  }
 },
 "nbformat": 4,
 "nbformat_minor": 2
}
