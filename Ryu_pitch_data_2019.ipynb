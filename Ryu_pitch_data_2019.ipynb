{
 "cells": [
  {
   "cell_type": "code",
   "execution_count": 1,
   "metadata": {},
   "outputs": [],
   "source": [
    "import pandas as pd\n",
    "import numpy as np\n",
    "import seaborn as sns\n",
    "import matplotlib.pyplot as plt"
   ]
  },
  {
   "cell_type": "code",
   "execution_count": 2,
   "metadata": {},
   "outputs": [],
   "source": [
    "import warnings\n",
    "warnings.filterwarnings(action='ignore')"
   ]
  },
  {
   "cell_type": "code",
   "execution_count": 3,
   "metadata": {},
   "outputs": [],
   "source": [
    "pitch_19 = pd.read_csv('2019_pitches.csv')\n",
    "bat_19 = pd.read_csv('2019_atbats.csv')\n",
    "player_name = pd.read_csv('player_names.csv')"
   ]
  },
  {
   "cell_type": "code",
   "execution_count": 4,
   "metadata": {},
   "outputs": [
    {
     "data": {
      "text/html": [
       "<div>\n",
       "<style scoped>\n",
       "    .dataframe tbody tr th:only-of-type {\n",
       "        vertical-align: middle;\n",
       "    }\n",
       "\n",
       "    .dataframe tbody tr th {\n",
       "        vertical-align: top;\n",
       "    }\n",
       "\n",
       "    .dataframe thead th {\n",
       "        text-align: right;\n",
       "    }\n",
       "</style>\n",
       "<table border=\"1\" class=\"dataframe\">\n",
       "  <thead>\n",
       "    <tr style=\"text-align: right;\">\n",
       "      <th></th>\n",
       "      <th>id</th>\n",
       "      <th>first_name</th>\n",
       "      <th>last_name</th>\n",
       "      <th>full_name</th>\n",
       "    </tr>\n",
       "  </thead>\n",
       "  <tbody>\n",
       "    <tr>\n",
       "      <th>871</th>\n",
       "      <td>547943</td>\n",
       "      <td>Hyun-Jin</td>\n",
       "      <td>Ryu</td>\n",
       "      <td>Hyun-Jin Ryu</td>\n",
       "    </tr>\n",
       "  </tbody>\n",
       "</table>\n",
       "</div>"
      ],
      "text/plain": [
       "         id first_name last_name     full_name\n",
       "871  547943   Hyun-Jin       Ryu  Hyun-Jin Ryu"
      ]
     },
     "execution_count": 4,
     "metadata": {},
     "output_type": "execute_result"
    }
   ],
   "source": [
    "player_name['full_name'] = player_name['first_name'] + ' ' + player_name['last_name']\n",
    "player_name[player_name['last_name']=='Ryu']"
   ]
  },
  {
   "cell_type": "code",
   "execution_count": 5,
   "metadata": {},
   "outputs": [],
   "source": [
    "plus_bat = pd.merge(bat_19, player_name[['id', 'full_name']], left_on='batter_id', right_on='id').rename(columns={'full_name': 'batter_name'})\n",
    "plus_pit = pd.merge(plus_bat, player_name[['id', 'full_name']], left_on='pitcher_id', right_on='id').rename(columns={'full_name': 'pitcher_name'})"
   ]
  },
  {
   "cell_type": "code",
   "execution_count": 6,
   "metadata": {
    "scrolled": true
   },
   "outputs": [
    {
     "data": {
      "text/html": [
       "<div>\n",
       "<style scoped>\n",
       "    .dataframe tbody tr th:only-of-type {\n",
       "        vertical-align: middle;\n",
       "    }\n",
       "\n",
       "    .dataframe tbody tr th {\n",
       "        vertical-align: top;\n",
       "    }\n",
       "\n",
       "    .dataframe thead th {\n",
       "        text-align: right;\n",
       "    }\n",
       "</style>\n",
       "<table border=\"1\" class=\"dataframe\">\n",
       "  <thead>\n",
       "    <tr style=\"text-align: right;\">\n",
       "      <th></th>\n",
       "      <th>px</th>\n",
       "      <th>pz</th>\n",
       "      <th>start_speed</th>\n",
       "      <th>end_speed</th>\n",
       "      <th>spin_rate</th>\n",
       "      <th>spin_dir</th>\n",
       "      <th>break_angle</th>\n",
       "      <th>break_length</th>\n",
       "      <th>break_y</th>\n",
       "      <th>ax</th>\n",
       "      <th>...</th>\n",
       "      <th>g_id</th>\n",
       "      <th>p_score</th>\n",
       "      <th>batter_id</th>\n",
       "      <th>pitcher_id</th>\n",
       "      <th>stand</th>\n",
       "      <th>p_throws</th>\n",
       "      <th>event</th>\n",
       "      <th>o</th>\n",
       "      <th>batter_name</th>\n",
       "      <th>pitcher_name</th>\n",
       "    </tr>\n",
       "  </thead>\n",
       "  <tbody>\n",
       "    <tr>\n",
       "      <th>0</th>\n",
       "      <td>0.00</td>\n",
       "      <td>2.15</td>\n",
       "      <td>88.8</td>\n",
       "      <td>80.7</td>\n",
       "      <td>placeholder</td>\n",
       "      <td>placeholder</td>\n",
       "      <td>22.8</td>\n",
       "      <td>4.8</td>\n",
       "      <td>24.0</td>\n",
       "      <td>-8.47</td>\n",
       "      <td>...</td>\n",
       "      <td>201900001.0</td>\n",
       "      <td>0.0</td>\n",
       "      <td>594777</td>\n",
       "      <td>571666</td>\n",
       "      <td>L</td>\n",
       "      <td>R</td>\n",
       "      <td>Flyout</td>\n",
       "      <td>1</td>\n",
       "      <td>Kole Calhoun</td>\n",
       "      <td>Mike Fiers</td>\n",
       "    </tr>\n",
       "    <tr>\n",
       "      <th>1</th>\n",
       "      <td>0.34</td>\n",
       "      <td>2.31</td>\n",
       "      <td>89.9</td>\n",
       "      <td>81.8</td>\n",
       "      <td>placeholder</td>\n",
       "      <td>placeholder</td>\n",
       "      <td>22.8</td>\n",
       "      <td>3.6</td>\n",
       "      <td>24.0</td>\n",
       "      <td>-7.10</td>\n",
       "      <td>...</td>\n",
       "      <td>201900001.0</td>\n",
       "      <td>0.0</td>\n",
       "      <td>545361</td>\n",
       "      <td>571666</td>\n",
       "      <td>R</td>\n",
       "      <td>R</td>\n",
       "      <td>Flyout</td>\n",
       "      <td>2</td>\n",
       "      <td>Mike Trout</td>\n",
       "      <td>Mike Fiers</td>\n",
       "    </tr>\n",
       "    <tr>\n",
       "      <th>2</th>\n",
       "      <td>-0.05</td>\n",
       "      <td>2.03</td>\n",
       "      <td>85.7</td>\n",
       "      <td>79.6</td>\n",
       "      <td>placeholder</td>\n",
       "      <td>placeholder</td>\n",
       "      <td>9.6</td>\n",
       "      <td>6.0</td>\n",
       "      <td>24.0</td>\n",
       "      <td>3.65</td>\n",
       "      <td>...</td>\n",
       "      <td>201900001.0</td>\n",
       "      <td>0.0</td>\n",
       "      <td>545361</td>\n",
       "      <td>571666</td>\n",
       "      <td>R</td>\n",
       "      <td>R</td>\n",
       "      <td>Flyout</td>\n",
       "      <td>2</td>\n",
       "      <td>Mike Trout</td>\n",
       "      <td>Mike Fiers</td>\n",
       "    </tr>\n",
       "    <tr>\n",
       "      <th>3</th>\n",
       "      <td>0.49</td>\n",
       "      <td>0.92</td>\n",
       "      <td>85.4</td>\n",
       "      <td>78.5</td>\n",
       "      <td>placeholder</td>\n",
       "      <td>placeholder</td>\n",
       "      <td>24.0</td>\n",
       "      <td>7.2</td>\n",
       "      <td>24.0</td>\n",
       "      <td>-13.77</td>\n",
       "      <td>...</td>\n",
       "      <td>201900001.0</td>\n",
       "      <td>0.0</td>\n",
       "      <td>545361</td>\n",
       "      <td>571666</td>\n",
       "      <td>R</td>\n",
       "      <td>R</td>\n",
       "      <td>Flyout</td>\n",
       "      <td>2</td>\n",
       "      <td>Mike Trout</td>\n",
       "      <td>Mike Fiers</td>\n",
       "    </tr>\n",
       "    <tr>\n",
       "      <th>4</th>\n",
       "      <td>-0.13</td>\n",
       "      <td>1.11</td>\n",
       "      <td>84.6</td>\n",
       "      <td>77.6</td>\n",
       "      <td>placeholder</td>\n",
       "      <td>placeholder</td>\n",
       "      <td>26.4</td>\n",
       "      <td>8.4</td>\n",
       "      <td>24.0</td>\n",
       "      <td>-15.99</td>\n",
       "      <td>...</td>\n",
       "      <td>201900001.0</td>\n",
       "      <td>0.0</td>\n",
       "      <td>545361</td>\n",
       "      <td>571666</td>\n",
       "      <td>R</td>\n",
       "      <td>R</td>\n",
       "      <td>Flyout</td>\n",
       "      <td>2</td>\n",
       "      <td>Mike Trout</td>\n",
       "      <td>Mike Fiers</td>\n",
       "    </tr>\n",
       "  </tbody>\n",
       "</table>\n",
       "<p>5 rows × 52 columns</p>\n",
       "</div>"
      ],
      "text/plain": [
       "     px    pz  start_speed  end_speed    spin_rate     spin_dir  break_angle  \\\n",
       "0  0.00  2.15         88.8       80.7  placeholder  placeholder         22.8   \n",
       "1  0.34  2.31         89.9       81.8  placeholder  placeholder         22.8   \n",
       "2 -0.05  2.03         85.7       79.6  placeholder  placeholder          9.6   \n",
       "3  0.49  0.92         85.4       78.5  placeholder  placeholder         24.0   \n",
       "4 -0.13  1.11         84.6       77.6  placeholder  placeholder         26.4   \n",
       "\n",
       "   break_length  break_y     ax  ...         g_id  p_score  batter_id  \\\n",
       "0           4.8     24.0  -8.47  ...  201900001.0      0.0     594777   \n",
       "1           3.6     24.0  -7.10  ...  201900001.0      0.0     545361   \n",
       "2           6.0     24.0   3.65  ...  201900001.0      0.0     545361   \n",
       "3           7.2     24.0 -13.77  ...  201900001.0      0.0     545361   \n",
       "4           8.4     24.0 -15.99  ...  201900001.0      0.0     545361   \n",
       "\n",
       "   pitcher_id stand  p_throws   event  o   batter_name  pitcher_name  \n",
       "0      571666     L         R  Flyout  1  Kole Calhoun    Mike Fiers  \n",
       "1      571666     R         R  Flyout  2    Mike Trout    Mike Fiers  \n",
       "2      571666     R         R  Flyout  2    Mike Trout    Mike Fiers  \n",
       "3      571666     R         R  Flyout  2    Mike Trout    Mike Fiers  \n",
       "4      571666     R         R  Flyout  2    Mike Trout    Mike Fiers  \n",
       "\n",
       "[5 rows x 52 columns]"
      ]
     },
     "execution_count": 6,
     "metadata": {},
     "output_type": "execute_result"
    }
   ],
   "source": [
    "at_bat_19 = plus_pit.drop(['id_x', 'id_y'], axis=1)\n",
    "total = pd.merge(pitch_19, at_bat_19, on='ab_id')\n",
    "\n",
    "total.head()"
   ]
  },
  {
   "cell_type": "code",
   "execution_count": 7,
   "metadata": {},
   "outputs": [
    {
     "data": {
      "text/html": [
       "<div>\n",
       "<style scoped>\n",
       "    .dataframe tbody tr th:only-of-type {\n",
       "        vertical-align: middle;\n",
       "    }\n",
       "\n",
       "    .dataframe tbody tr th {\n",
       "        vertical-align: top;\n",
       "    }\n",
       "\n",
       "    .dataframe thead th {\n",
       "        text-align: right;\n",
       "    }\n",
       "</style>\n",
       "<table border=\"1\" class=\"dataframe\">\n",
       "  <thead>\n",
       "    <tr style=\"text-align: right;\">\n",
       "      <th></th>\n",
       "      <th>px</th>\n",
       "      <th>pz</th>\n",
       "      <th>start_speed</th>\n",
       "      <th>end_speed</th>\n",
       "      <th>spin_rate</th>\n",
       "      <th>spin_dir</th>\n",
       "      <th>break_angle</th>\n",
       "      <th>break_length</th>\n",
       "      <th>break_y</th>\n",
       "      <th>ax</th>\n",
       "      <th>...</th>\n",
       "      <th>g_id</th>\n",
       "      <th>p_score</th>\n",
       "      <th>batter_id</th>\n",
       "      <th>pitcher_id</th>\n",
       "      <th>stand</th>\n",
       "      <th>p_throws</th>\n",
       "      <th>event</th>\n",
       "      <th>o</th>\n",
       "      <th>batter_name</th>\n",
       "      <th>pitcher_name</th>\n",
       "    </tr>\n",
       "  </thead>\n",
       "  <tbody>\n",
       "    <tr>\n",
       "      <th>221</th>\n",
       "      <td>0.37</td>\n",
       "      <td>2.07</td>\n",
       "      <td>90.5</td>\n",
       "      <td>83.2</td>\n",
       "      <td>placeholder</td>\n",
       "      <td>placeholder</td>\n",
       "      <td>27.6</td>\n",
       "      <td>4.8</td>\n",
       "      <td>24.0</td>\n",
       "      <td>11.97</td>\n",
       "      <td>...</td>\n",
       "      <td>201900002.0</td>\n",
       "      <td>0.0</td>\n",
       "      <td>430945</td>\n",
       "      <td>547943</td>\n",
       "      <td>R</td>\n",
       "      <td>L</td>\n",
       "      <td>Strikeout</td>\n",
       "      <td>1</td>\n",
       "      <td>Adam Jones</td>\n",
       "      <td>Hyun-Jin Ryu</td>\n",
       "    </tr>\n",
       "    <tr>\n",
       "      <th>222</th>\n",
       "      <td>-0.97</td>\n",
       "      <td>3.08</td>\n",
       "      <td>87.7</td>\n",
       "      <td>81.7</td>\n",
       "      <td>placeholder</td>\n",
       "      <td>placeholder</td>\n",
       "      <td>4.8</td>\n",
       "      <td>6.0</td>\n",
       "      <td>24.0</td>\n",
       "      <td>3.12</td>\n",
       "      <td>...</td>\n",
       "      <td>201900002.0</td>\n",
       "      <td>0.0</td>\n",
       "      <td>430945</td>\n",
       "      <td>547943</td>\n",
       "      <td>R</td>\n",
       "      <td>L</td>\n",
       "      <td>Strikeout</td>\n",
       "      <td>1</td>\n",
       "      <td>Adam Jones</td>\n",
       "      <td>Hyun-Jin Ryu</td>\n",
       "    </tr>\n",
       "    <tr>\n",
       "      <th>223</th>\n",
       "      <td>-1.18</td>\n",
       "      <td>2.66</td>\n",
       "      <td>88.3</td>\n",
       "      <td>82.2</td>\n",
       "      <td>placeholder</td>\n",
       "      <td>placeholder</td>\n",
       "      <td>8.4</td>\n",
       "      <td>6.0</td>\n",
       "      <td>24.0</td>\n",
       "      <td>4.67</td>\n",
       "      <td>...</td>\n",
       "      <td>201900002.0</td>\n",
       "      <td>0.0</td>\n",
       "      <td>430945</td>\n",
       "      <td>547943</td>\n",
       "      <td>R</td>\n",
       "      <td>L</td>\n",
       "      <td>Strikeout</td>\n",
       "      <td>1</td>\n",
       "      <td>Adam Jones</td>\n",
       "      <td>Hyun-Jin Ryu</td>\n",
       "    </tr>\n",
       "    <tr>\n",
       "      <th>224</th>\n",
       "      <td>-0.42</td>\n",
       "      <td>0.59</td>\n",
       "      <td>91.5</td>\n",
       "      <td>84.3</td>\n",
       "      <td>placeholder</td>\n",
       "      <td>placeholder</td>\n",
       "      <td>31.2</td>\n",
       "      <td>4.8</td>\n",
       "      <td>24.0</td>\n",
       "      <td>13.89</td>\n",
       "      <td>...</td>\n",
       "      <td>201900002.0</td>\n",
       "      <td>0.0</td>\n",
       "      <td>430945</td>\n",
       "      <td>547943</td>\n",
       "      <td>R</td>\n",
       "      <td>L</td>\n",
       "      <td>Strikeout</td>\n",
       "      <td>1</td>\n",
       "      <td>Adam Jones</td>\n",
       "      <td>Hyun-Jin Ryu</td>\n",
       "    </tr>\n",
       "    <tr>\n",
       "      <th>225</th>\n",
       "      <td>0.63</td>\n",
       "      <td>3.03</td>\n",
       "      <td>90.2</td>\n",
       "      <td>83.2</td>\n",
       "      <td>placeholder</td>\n",
       "      <td>placeholder</td>\n",
       "      <td>27.6</td>\n",
       "      <td>4.8</td>\n",
       "      <td>24.0</td>\n",
       "      <td>10.32</td>\n",
       "      <td>...</td>\n",
       "      <td>201900002.0</td>\n",
       "      <td>0.0</td>\n",
       "      <td>430945</td>\n",
       "      <td>547943</td>\n",
       "      <td>R</td>\n",
       "      <td>L</td>\n",
       "      <td>Strikeout</td>\n",
       "      <td>1</td>\n",
       "      <td>Adam Jones</td>\n",
       "      <td>Hyun-Jin Ryu</td>\n",
       "    </tr>\n",
       "    <tr>\n",
       "      <th>...</th>\n",
       "      <td>...</td>\n",
       "      <td>...</td>\n",
       "      <td>...</td>\n",
       "      <td>...</td>\n",
       "      <td>...</td>\n",
       "      <td>...</td>\n",
       "      <td>...</td>\n",
       "      <td>...</td>\n",
       "      <td>...</td>\n",
       "      <td>...</td>\n",
       "      <td>...</td>\n",
       "      <td>...</td>\n",
       "      <td>...</td>\n",
       "      <td>...</td>\n",
       "      <td>...</td>\n",
       "      <td>...</td>\n",
       "      <td>...</td>\n",
       "      <td>...</td>\n",
       "      <td>...</td>\n",
       "      <td>...</td>\n",
       "      <td>...</td>\n",
       "    </tr>\n",
       "    <tr>\n",
       "      <th>590437</th>\n",
       "      <td>-0.93</td>\n",
       "      <td>2.78</td>\n",
       "      <td>89.9</td>\n",
       "      <td>83.1</td>\n",
       "      <td>placeholder</td>\n",
       "      <td>placeholder</td>\n",
       "      <td>21.6</td>\n",
       "      <td>4.8</td>\n",
       "      <td>24.0</td>\n",
       "      <td>9.40</td>\n",
       "      <td>...</td>\n",
       "      <td>201902401.0</td>\n",
       "      <td>2.0</td>\n",
       "      <td>596103</td>\n",
       "      <td>547943</td>\n",
       "      <td>R</td>\n",
       "      <td>L</td>\n",
       "      <td>Groundout</td>\n",
       "      <td>2</td>\n",
       "      <td>Austin Slater</td>\n",
       "      <td>Hyun-Jin Ryu</td>\n",
       "    </tr>\n",
       "    <tr>\n",
       "      <th>590438</th>\n",
       "      <td>0.25</td>\n",
       "      <td>3.29</td>\n",
       "      <td>80.3</td>\n",
       "      <td>73.3</td>\n",
       "      <td>placeholder</td>\n",
       "      <td>placeholder</td>\n",
       "      <td>21.6</td>\n",
       "      <td>7.2</td>\n",
       "      <td>24.0</td>\n",
       "      <td>10.01</td>\n",
       "      <td>...</td>\n",
       "      <td>201902401.0</td>\n",
       "      <td>2.0</td>\n",
       "      <td>572073</td>\n",
       "      <td>547943</td>\n",
       "      <td>R</td>\n",
       "      <td>L</td>\n",
       "      <td>Strikeout</td>\n",
       "      <td>3</td>\n",
       "      <td>Joey Rickard</td>\n",
       "      <td>Hyun-Jin Ryu</td>\n",
       "    </tr>\n",
       "    <tr>\n",
       "      <th>590439</th>\n",
       "      <td>-0.62</td>\n",
       "      <td>3.06</td>\n",
       "      <td>87.8</td>\n",
       "      <td>81.1</td>\n",
       "      <td>placeholder</td>\n",
       "      <td>placeholder</td>\n",
       "      <td>15.6</td>\n",
       "      <td>6.0</td>\n",
       "      <td>24.0</td>\n",
       "      <td>7.85</td>\n",
       "      <td>...</td>\n",
       "      <td>201902401.0</td>\n",
       "      <td>2.0</td>\n",
       "      <td>572073</td>\n",
       "      <td>547943</td>\n",
       "      <td>R</td>\n",
       "      <td>L</td>\n",
       "      <td>Strikeout</td>\n",
       "      <td>3</td>\n",
       "      <td>Joey Rickard</td>\n",
       "      <td>Hyun-Jin Ryu</td>\n",
       "    </tr>\n",
       "    <tr>\n",
       "      <th>590440</th>\n",
       "      <td>1.38</td>\n",
       "      <td>2.46</td>\n",
       "      <td>82.4</td>\n",
       "      <td>76.2</td>\n",
       "      <td>placeholder</td>\n",
       "      <td>placeholder</td>\n",
       "      <td>21.6</td>\n",
       "      <td>8.4</td>\n",
       "      <td>24.0</td>\n",
       "      <td>11.97</td>\n",
       "      <td>...</td>\n",
       "      <td>201902401.0</td>\n",
       "      <td>2.0</td>\n",
       "      <td>572073</td>\n",
       "      <td>547943</td>\n",
       "      <td>R</td>\n",
       "      <td>L</td>\n",
       "      <td>Strikeout</td>\n",
       "      <td>3</td>\n",
       "      <td>Joey Rickard</td>\n",
       "      <td>Hyun-Jin Ryu</td>\n",
       "    </tr>\n",
       "    <tr>\n",
       "      <th>590441</th>\n",
       "      <td>1.50</td>\n",
       "      <td>1.73</td>\n",
       "      <td>82.0</td>\n",
       "      <td>75.4</td>\n",
       "      <td>placeholder</td>\n",
       "      <td>placeholder</td>\n",
       "      <td>26.4</td>\n",
       "      <td>8.4</td>\n",
       "      <td>24.0</td>\n",
       "      <td>14.50</td>\n",
       "      <td>...</td>\n",
       "      <td>201902401.0</td>\n",
       "      <td>2.0</td>\n",
       "      <td>572073</td>\n",
       "      <td>547943</td>\n",
       "      <td>R</td>\n",
       "      <td>L</td>\n",
       "      <td>Strikeout</td>\n",
       "      <td>3</td>\n",
       "      <td>Joey Rickard</td>\n",
       "      <td>Hyun-Jin Ryu</td>\n",
       "    </tr>\n",
       "  </tbody>\n",
       "</table>\n",
       "<p>2507 rows × 52 columns</p>\n",
       "</div>"
      ],
      "text/plain": [
       "          px    pz  start_speed  end_speed    spin_rate     spin_dir  \\\n",
       "221     0.37  2.07         90.5       83.2  placeholder  placeholder   \n",
       "222    -0.97  3.08         87.7       81.7  placeholder  placeholder   \n",
       "223    -1.18  2.66         88.3       82.2  placeholder  placeholder   \n",
       "224    -0.42  0.59         91.5       84.3  placeholder  placeholder   \n",
       "225     0.63  3.03         90.2       83.2  placeholder  placeholder   \n",
       "...      ...   ...          ...        ...          ...          ...   \n",
       "590437 -0.93  2.78         89.9       83.1  placeholder  placeholder   \n",
       "590438  0.25  3.29         80.3       73.3  placeholder  placeholder   \n",
       "590439 -0.62  3.06         87.8       81.1  placeholder  placeholder   \n",
       "590440  1.38  2.46         82.4       76.2  placeholder  placeholder   \n",
       "590441  1.50  1.73         82.0       75.4  placeholder  placeholder   \n",
       "\n",
       "        break_angle  break_length  break_y     ax  ...         g_id  p_score  \\\n",
       "221            27.6           4.8     24.0  11.97  ...  201900002.0      0.0   \n",
       "222             4.8           6.0     24.0   3.12  ...  201900002.0      0.0   \n",
       "223             8.4           6.0     24.0   4.67  ...  201900002.0      0.0   \n",
       "224            31.2           4.8     24.0  13.89  ...  201900002.0      0.0   \n",
       "225            27.6           4.8     24.0  10.32  ...  201900002.0      0.0   \n",
       "...             ...           ...      ...    ...  ...          ...      ...   \n",
       "590437         21.6           4.8     24.0   9.40  ...  201902401.0      2.0   \n",
       "590438         21.6           7.2     24.0  10.01  ...  201902401.0      2.0   \n",
       "590439         15.6           6.0     24.0   7.85  ...  201902401.0      2.0   \n",
       "590440         21.6           8.4     24.0  11.97  ...  201902401.0      2.0   \n",
       "590441         26.4           8.4     24.0  14.50  ...  201902401.0      2.0   \n",
       "\n",
       "        batter_id  pitcher_id stand  p_throws      event  o    batter_name  \\\n",
       "221        430945      547943     R         L  Strikeout  1     Adam Jones   \n",
       "222        430945      547943     R         L  Strikeout  1     Adam Jones   \n",
       "223        430945      547943     R         L  Strikeout  1     Adam Jones   \n",
       "224        430945      547943     R         L  Strikeout  1     Adam Jones   \n",
       "225        430945      547943     R         L  Strikeout  1     Adam Jones   \n",
       "...           ...         ...   ...       ...        ... ..            ...   \n",
       "590437     596103      547943     R         L  Groundout  2  Austin Slater   \n",
       "590438     572073      547943     R         L  Strikeout  3   Joey Rickard   \n",
       "590439     572073      547943     R         L  Strikeout  3   Joey Rickard   \n",
       "590440     572073      547943     R         L  Strikeout  3   Joey Rickard   \n",
       "590441     572073      547943     R         L  Strikeout  3   Joey Rickard   \n",
       "\n",
       "        pitcher_name  \n",
       "221     Hyun-Jin Ryu  \n",
       "222     Hyun-Jin Ryu  \n",
       "223     Hyun-Jin Ryu  \n",
       "224     Hyun-Jin Ryu  \n",
       "225     Hyun-Jin Ryu  \n",
       "...              ...  \n",
       "590437  Hyun-Jin Ryu  \n",
       "590438  Hyun-Jin Ryu  \n",
       "590439  Hyun-Jin Ryu  \n",
       "590440  Hyun-Jin Ryu  \n",
       "590441  Hyun-Jin Ryu  \n",
       "\n",
       "[2507 rows x 52 columns]"
      ]
     },
     "execution_count": 7,
     "metadata": {},
     "output_type": "execute_result"
    }
   ],
   "source": [
    "# 류현진 pitching data\n",
    "ryu = total[total['pitcher_name']=='Hyun-Jin Ryu']\n",
    "ryu"
   ]
  },
  {
   "cell_type": "code",
   "execution_count": 8,
   "metadata": {},
   "outputs": [
    {
     "data": {
      "text/plain": [
       "Index(['px', 'pz', 'start_speed', 'end_speed', 'spin_rate', 'spin_dir',\n",
       "       'break_angle', 'break_length', 'break_y', 'ax', 'ay', 'az', 'sz_bot',\n",
       "       'sz_top', 'type_confidence', 'vx0', 'vy0', 'vz0', 'x', 'x0', 'y', 'y0',\n",
       "       'z0', 'pfx_x', 'pfx_z', 'nasty', 'zone', 'code', 'type', 'pitch_type',\n",
       "       'event_num', 'b_score', 'ab_id', 'b_count', 's_count', 'outs',\n",
       "       'pitch_num', 'on_1b', 'on_2b', 'on_3b', 'inning', 'top', 'g_id',\n",
       "       'p_score', 'batter_id', 'pitcher_id', 'stand', 'p_throws', 'event', 'o',\n",
       "       'batter_name', 'pitcher_name'],\n",
       "      dtype='object')"
      ]
     },
     "execution_count": 8,
     "metadata": {},
     "output_type": "execute_result"
    }
   ],
   "source": [
    "ryu.columns"
   ]
  },
  {
   "cell_type": "markdown",
   "metadata": {},
   "source": [
    "### 류현진 구종 별 구사 비율"
   ]
  },
  {
   "cell_type": "code",
   "execution_count": 9,
   "metadata": {},
   "outputs": [
    {
     "data": {
      "text/plain": [
       "FF    0.273\n",
       "CH    0.272\n",
       "FC    0.197\n",
       "FT    0.134\n",
       "CU    0.120\n",
       "SL    0.003\n",
       "Name: pitch_type, dtype: float64"
      ]
     },
     "execution_count": 9,
     "metadata": {},
     "output_type": "execute_result"
    }
   ],
   "source": [
    "pitch_type = round(ryu.pitch_type.dropna().value_counts()/len(ryu.pitch_type.dropna()),3)\n",
    "pitch_type"
   ]
  },
  {
   "cell_type": "markdown",
   "metadata": {},
   "source": [
    "FF: Four-seam Fastball   \n",
    "CH: Changeup   \n",
    "FC: Cut Fastball   \n",
    "FT: Two-seam Fastball   \n",
    "CU: Curveball   \n",
    "SL: Slider   "
   ]
  },
  {
   "cell_type": "code",
   "execution_count": 10,
   "metadata": {},
   "outputs": [
    {
     "data": {
      "text/plain": [
       "Text(0.5, 1.0, 'Ryu Hyun-jin Pitch Type')"
      ]
     },
     "execution_count": 10,
     "metadata": {},
     "output_type": "execute_result"
    },
    {
     "data": {
      "image/png": "[encoded data removed]",
      "text/plain": [
       "<Figure size 432x288 with 1 Axes>"
      ]
     },
     "metadata": {
      "needs_background": "light"
     },
     "output_type": "display_data"
    }
   ],
   "source": [
    "pitch_type.plot.bar()\n",
    "plt.xticks(rotation=0)\n",
    "plt.ylabel('Percentage')\n",
    "plt.title('Ryu Hyun-jin Pitch Type')"
   ]
  },
  {
   "cell_type": "markdown",
   "metadata": {},
   "source": [
    "### Four-seam Fastball"
   ]
  },
  {
   "cell_type": "code",
   "execution_count": 11,
   "metadata": {},
   "outputs": [],
   "source": [
    "ff = ryu[ryu['pitch_type']=='FF']"
   ]
  },
  {
   "cell_type": "code",
   "execution_count": 12,
   "metadata": {},
   "outputs": [
    {
     "name": "stdout",
     "output_type": "stream",
     "text": [
      "최고 구속: 93.5 mph\n",
      "평균 구속: 90.72 mph\n",
      "최저 구속: 86.3 mph\n"
     ]
    }
   ],
   "source": [
    "# 구속\n",
    "print('최고 구속: {0} mph'.format(ff['start_speed'].max()))\n",
    "print('평균 구속: {0} mph'.format(round(ff['start_speed'].mean(),2)))\n",
    "print('최저 구속: {0} mph'.format(ff['start_speed'].min()))"
   ]
  },
  {
   "cell_type": "code",
   "execution_count": 13,
   "metadata": {},
   "outputs": [
    {
     "data": {
      "text/plain": [
       "<AxesSubplot:xlabel='start_speed', ylabel='Density'>"
      ]
     },
     "execution_count": 13,
     "metadata": {},
     "output_type": "execute_result"
    },
    {
     "data": {
      "image/png": "[encoded data removed]",
      "text/plain": [
       "<Figure size 432x288 with 1 Axes>"
      ]
     },
     "metadata": {
      "needs_background": "light"
     },
     "output_type": "display_data"
    }
   ],
   "source": [
    "sns.distplot(ff['start_speed'], hist_kws=dict(edgecolor=\"k\", linewidth=1))"
   ]
  },
  {
   "cell_type": "code",
   "execution_count": 14,
   "metadata": {},
   "outputs": [
    {
     "data": {
      "text/plain": [
       "array(['C', 'B', 'F', 'X', 'S', 'T', 'D', 'E', 'L', 'H'], dtype=object)"
      ]
     },
     "execution_count": 14,
     "metadata": {},
     "output_type": "execute_result"
    }
   ],
   "source": [
    "ff['code'].unique()"
   ]
  },
  {
   "cell_type": "code",
   "execution_count": 75,
   "metadata": {},
   "outputs": [
    {
     "data": {
      "text/html": [
       "<div>\n",
       "<style scoped>\n",
       "    .dataframe tbody tr th:only-of-type {\n",
       "        vertical-align: middle;\n",
       "    }\n",
       "\n",
       "    .dataframe tbody tr th {\n",
       "        vertical-align: top;\n",
       "    }\n",
       "\n",
       "    .dataframe thead th {\n",
       "        text-align: right;\n",
       "    }\n",
       "</style>\n",
       "<table border=\"1\" class=\"dataframe\">\n",
       "  <thead>\n",
       "    <tr style=\"text-align: right;\">\n",
       "      <th></th>\n",
       "      <th>px</th>\n",
       "      <th>pz</th>\n",
       "      <th>code</th>\n",
       "      <th>pitch_type</th>\n",
       "    </tr>\n",
       "  </thead>\n",
       "  <tbody>\n",
       "    <tr>\n",
       "      <th>221</th>\n",
       "      <td>0.37</td>\n",
       "      <td>2.07</td>\n",
       "      <td>C</td>\n",
       "      <td>FF</td>\n",
       "    </tr>\n",
       "    <tr>\n",
       "      <th>223</th>\n",
       "      <td>-1.18</td>\n",
       "      <td>2.66</td>\n",
       "      <td>B</td>\n",
       "      <td>FF</td>\n",
       "    </tr>\n",
       "    <tr>\n",
       "      <th>224</th>\n",
       "      <td>-0.42</td>\n",
       "      <td>0.59</td>\n",
       "      <td>B</td>\n",
       "      <td>FF</td>\n",
       "    </tr>\n",
       "    <tr>\n",
       "      <th>225</th>\n",
       "      <td>0.63</td>\n",
       "      <td>3.03</td>\n",
       "      <td>C</td>\n",
       "      <td>FF</td>\n",
       "    </tr>\n",
       "    <tr>\n",
       "      <th>226</th>\n",
       "      <td>-0.91</td>\n",
       "      <td>1.86</td>\n",
       "      <td>F</td>\n",
       "      <td>FF</td>\n",
       "    </tr>\n",
       "    <tr>\n",
       "      <th>...</th>\n",
       "      <td>...</td>\n",
       "      <td>...</td>\n",
       "      <td>...</td>\n",
       "      <td>...</td>\n",
       "    </tr>\n",
       "    <tr>\n",
       "      <th>590398</th>\n",
       "      <td>0.28</td>\n",
       "      <td>2.83</td>\n",
       "      <td>F</td>\n",
       "      <td>FF</td>\n",
       "    </tr>\n",
       "    <tr>\n",
       "      <th>590408</th>\n",
       "      <td>-0.86</td>\n",
       "      <td>2.15</td>\n",
       "      <td>C</td>\n",
       "      <td>FF</td>\n",
       "    </tr>\n",
       "    <tr>\n",
       "      <th>590422</th>\n",
       "      <td>0.27</td>\n",
       "      <td>5.42</td>\n",
       "      <td>B</td>\n",
       "      <td>FF</td>\n",
       "    </tr>\n",
       "    <tr>\n",
       "      <th>590435</th>\n",
       "      <td>-1.41</td>\n",
       "      <td>3.36</td>\n",
       "      <td>B</td>\n",
       "      <td>FF</td>\n",
       "    </tr>\n",
       "    <tr>\n",
       "      <th>590439</th>\n",
       "      <td>-0.62</td>\n",
       "      <td>3.06</td>\n",
       "      <td>F</td>\n",
       "      <td>FF</td>\n",
       "    </tr>\n",
       "  </tbody>\n",
       "</table>\n",
       "<p>553 rows × 4 columns</p>\n",
       "</div>"
      ],
      "text/plain": [
       "          px    pz code pitch_type\n",
       "221     0.37  2.07    C         FF\n",
       "223    -1.18  2.66    B         FF\n",
       "224    -0.42  0.59    B         FF\n",
       "225     0.63  3.03    C         FF\n",
       "226    -0.91  1.86    F         FF\n",
       "...      ...   ...  ...        ...\n",
       "590398  0.28  2.83    F         FF\n",
       "590408 -0.86  2.15    C         FF\n",
       "590422  0.27  5.42    B         FF\n",
       "590435 -1.41  3.36    B         FF\n",
       "590439 -0.62  3.06    F         FF\n",
       "\n",
       "[553 rows x 4 columns]"
      ]
     },
     "execution_count": 75,
     "metadata": {},
     "output_type": "execute_result"
    }
   ],
   "source": [
    "s_or_b = ff[(ff['code']=='C') | (ff['code']=='B') | (ff['code']=='F') |  (ff['code']=='S')][['px','pz','code','pitch_type']]\n",
    "s_or_b"
   ]
  },
  {
   "cell_type": "code",
   "execution_count": 76,
   "metadata": {},
   "outputs": [
    {
     "data": {
      "text/plain": [
       "Text(0.5, 1.0, 'Strike Zone (Fourseam Fastball)')"
      ]
     },
     "execution_count": 76,
     "metadata": {},
     "output_type": "execute_result"
    },
    {
     "data": {
      "image/png": "[encoded data removed]",
      "text/plain": [
       "<Figure size 720x720 with 1 Axes>"
      ]
     },
     "metadata": {
      "needs_background": "light"
     },
     "output_type": "display_data"
    }
   ],
   "source": [
    "plt.figure(figsize=(10,10))\n",
    "sns.scatterplot(x='px', y='pz', hue='code',data=s_or_b, s=20)\n",
    "plt.xlim(-3,3)\n",
    "plt.ylim(0,6)\n",
    "plt.title('Strike Zone (Fourseam Fastball)')"
   ]
  },
  {
   "cell_type": "markdown",
   "metadata": {},
   "source": [
    "'C': Called Strike   \n",
    "'B': Ball   \n",
    "'F': Foul??\n",
    "'S': Swing Strike\n",
    "code 칼럼에 있는 'C', 'B', 'F', 'X', 'S', 'T', 'D', 'E', 'L', 'H' 데이터 값에 대한 설명이 없어 정확한 확인 불가  "
   ]
  },
  {
   "cell_type": "code",
   "execution_count": 16,
   "metadata": {},
   "outputs": [
    {
     "data": {
      "text/plain": [
       "count    683.000000\n",
       "mean      27.642167\n",
       "std        4.797174\n",
       "min        8.400000\n",
       "25%       24.600000\n",
       "50%       27.600000\n",
       "75%       31.200000\n",
       "max       40.800000\n",
       "Name: break_angle, dtype: float64"
      ]
     },
     "execution_count": 16,
     "metadata": {},
     "output_type": "execute_result"
    }
   ],
   "source": [
    "# break_angle\n",
    "\n",
    "ff['break_angle'].describe()"
   ]
  },
  {
   "cell_type": "code",
   "execution_count": 17,
   "metadata": {},
   "outputs": [
    {
     "data": {
      "image/png": "[encoded data removed]",
      "text/plain": [
       "<Figure size 720x720 with 1 Axes>"
      ]
     },
     "metadata": {
      "needs_background": "light"
     },
     "output_type": "display_data"
    }
   ],
   "source": [
    "import math\n",
    "plt.figure(figsize=(10,10))\n",
    "\n",
    "for i in ff['break_angle']:\n",
    "    plt.arrow(0,0, 10,math.tan(i*math.pi/180)*10,  width=0.00001 )\n",
    "plt.arrow(0,0, 10, math.tan((ff['break_angle'].mean())*math.pi/180)*10, color='r')\n",
    "plt.gca().set_aspect('equal')"
   ]
  },
  {
   "cell_type": "code",
   "execution_count": 18,
   "metadata": {},
   "outputs": [
    {
     "data": {
      "text/plain": [
       "<AxesSubplot:xlabel='break_angle'>"
      ]
     },
     "execution_count": 18,
     "metadata": {},
     "output_type": "execute_result"
    },
    {
     "data": {
      "image/png": "[encoded data removed]",
      "text/plain": [
       "<Figure size 432x288 with 1 Axes>"
      ]
     },
     "metadata": {
      "needs_background": "light"
     },
     "output_type": "display_data"
    }
   ],
   "source": [
    "sns.distplot(ff['break_angle'], hist_kws=dict(edgecolor=\"k\", linewidth=1), kde=False)"
   ]
  },
  {
   "cell_type": "markdown",
   "metadata": {},
   "source": [
    "break_angle: 타구 각도?    \n",
    "빨간선은 평균   \n",
    "   \n",
    "MLB Guidline:   \n",
    "    * Ground ball: less than 10 degrees   \n",
    "    * Line drive: 10-25 degrees   \n",
    "    * Fly ball: 25-50 degrees   \n",
    "    * Pop up: Greater than 50 degrees   \n",
    "    \n",
    "가이드라인을 보니까 타구 각도는 아닌거 같음.   \n",
    "   \n",
    "참조: 나중에 확인해 볼 내용   \n",
    "https://gorangers.wordpress.com/2007/07/12/pitch-break-angle-vs-length/"
   ]
  },
  {
   "cell_type": "markdown",
   "metadata": {},
   "source": [
    "## Changeup"
   ]
  },
  {
   "cell_type": "code",
   "execution_count": 19,
   "metadata": {},
   "outputs": [
    {
     "name": "stdout",
     "output_type": "stream",
     "text": [
      "최고 구속: 84.1 mph\n",
      "평균 구속: 80.04 mph\n",
      "최저 구속: 74.2 mph\n"
     ]
    }
   ],
   "source": [
    "ch = ryu[ryu['pitch_type']=='CH']\n",
    "# 구속\n",
    "print('최고 구속: {0} mph'.format(ch['start_speed'].max()))\n",
    "print('평균 구속: {0} mph'.format(round(ch['start_speed'].mean(),2)))\n",
    "print('최저 구속: {0} mph'.format(ch['start_speed'].min()))"
   ]
  },
  {
   "cell_type": "code",
   "execution_count": 20,
   "metadata": {},
   "outputs": [
    {
     "data": {
      "text/plain": [
       "<AxesSubplot:xlabel='start_speed', ylabel='Density'>"
      ]
     },
     "execution_count": 20,
     "metadata": {},
     "output_type": "execute_result"
    },
    {
     "data": {
      "image/png": "[encoded data removed]",
      "text/plain": [
       "<Figure size 432x288 with 1 Axes>"
      ]
     },
     "metadata": {
      "needs_background": "light"
     },
     "output_type": "display_data"
    }
   ],
   "source": [
    "sns.distplot(ch['start_speed'], hist_kws=dict(edgecolor=\"k\", linewidth=1))"
   ]
  },
  {
   "cell_type": "code",
   "execution_count": 107,
   "metadata": {},
   "outputs": [
    {
     "name": "stdout",
     "output_type": "stream",
     "text": [
      "MLB FF 평균 구속: 93.4 mph\n",
      "MLB CH 평균 구속: 84.49 mph\n",
      "MLB (FF 와 CH) 평균 구속 차이: 8.91 mph\n",
      " \n",
      "류현진 FF 평균 구속: 90.72 mph\n",
      "류현진 CH 평균 구속: 80.04 mph\n",
      "류현진 (FF 와 CH) 평균 구속 차이: 10.68 mph\n"
     ]
    }
   ],
   "source": [
    "ff_mean = pitch_19[pitch_19['pitch_type']=='FF']['start_speed'].mean()\n",
    "ch_mean = pitch_19[pitch_19['pitch_type']=='CH']['start_speed'].mean()\n",
    "\n",
    "print('MLB FF 평균 구속: {0} mph'.format(round(ff_mean,2)))\n",
    "print('MLB CH 평균 구속: {0} mph'.format(round(ch_mean,2)))\n",
    "print('MLB (FF 와 CH) 평균 구속 차이: {0} mph'.format(round(ff_mean-ch_mean,2)))\n",
    "print(' ')\n",
    "print('류현진 FF 평균 구속: {0} mph'.format(round(ff['start_speed'].mean(),2)))\n",
    "print('류현진 CH 평균 구속: {0} mph'.format(round(ch['start_speed'].mean(),2)))\n",
    "print('류현진 (FF 와 CH) 평균 구속 차이: {0} mph'.format(round(ff['start_speed'].mean()-ch['start_speed'].mean(),2)))"
   ]
  },
  {
   "cell_type": "code",
   "execution_count": 97,
   "metadata": {},
   "outputs": [
    {
     "data": {
      "image/png": "[encoded data removed]",
      "text/plain": [
       "<Figure size 720x504 with 1 Axes>"
      ]
     },
     "metadata": {
      "needs_background": "light"
     },
     "output_type": "display_data"
    }
   ],
   "source": [
    "# four-seam fastball VS changeup 구속 비교\n",
    "plt.figure(figsize=(10,7))\n",
    "sns.distplot(ch['start_speed'],hist_kws=dict(edgecolor=\"k\", linewidth=1), label='ryu change up')\n",
    "sns.distplot(ff['start_speed'],hist_kws=dict(edgecolor=\"k\", linewidth=1), label='ryu four seam')\n",
    "plt.axvline(ff_mean, color='r', label='mlb_ff')\n",
    "plt.axvline(ch_mean, color='b', label='mlb_ch')\n",
    "plt.legend()\n",
    "plt.show()"
   ]
  },
  {
   "cell_type": "code",
   "execution_count": 90,
   "metadata": {},
   "outputs": [
    {
     "data": {
      "text/plain": [
       "pitch_type  code\n",
       "CH          B       181\n",
       "            F       122\n",
       "            S       114\n",
       "            C        58\n",
       "FF          B       247\n",
       "            F       139\n",
       "            C       115\n",
       "            S        52\n",
       "Name: code, dtype: int64"
      ]
     },
     "execution_count": 90,
     "metadata": {},
     "output_type": "execute_result"
    }
   ],
   "source": [
    "s_or_b_ch = ch[(ch['code']=='C') | (ch['code']=='B') | (ch['code']=='F') |  (ch['code']=='S')][['px','pz','code','pitch_type']]\n",
    "total_sb = pd.concat([s_or_b,s_or_b_ch])\n",
    "total_sb\n",
    "total_sb.groupby('pitch_type')['code'].value_counts()"
   ]
  },
  {
   "cell_type": "code",
   "execution_count": 96,
   "metadata": {},
   "outputs": [
    {
     "data": {
      "text/plain": [
       "Text(0.5, 1.0, 'Strike Zone (Fourseam Fastball)')"
      ]
     },
     "execution_count": 96,
     "metadata": {},
     "output_type": "execute_result"
    },
    {
     "data": {
      "image/png": "[encoded data removed]",
      "text/plain": [
       "<Figure size 1008x504 with 2 Axes>"
      ]
     },
     "metadata": {
      "needs_background": "light"
     },
     "output_type": "display_data"
    }
   ],
   "source": [
    "plt.figure(figsize=(14,7))\n",
    "plt.subplot(1,2,1)\n",
    "hue_order = ['C', 'B', 'F', 'S']\n",
    "sns.scatterplot(x='px', y='pz', hue='code', hue_order=hue_order,data=total_sb[total_sb['pitch_type']=='CH'], s=30)\n",
    "plt.xlim(-3,3)\n",
    "plt.ylim(0,6)\n",
    "plt.title('Strike Zone (Change up)')\n",
    "plt.subplot(1,2,2)\n",
    "sns.scatterplot(x='px', y='pz', hue='code',hue_order=hue_order, data=total_sb[total_sb['pitch_type']=='FF'], s=30)\n",
    "plt.xlim(-3,3)\n",
    "plt.ylim(0,6)\n",
    "plt.title('Strike Zone (Fourseam Fastball)')"
   ]
  },
  {
   "cell_type": "markdown",
   "metadata": {},
   "source": [
    "## 투구 수 & 이벤트"
   ]
  },
  {
   "cell_type": "code",
   "execution_count": 22,
   "metadata": {},
   "outputs": [
    {
     "data": {
      "text/html": [
       "<div>\n",
       "<style scoped>\n",
       "    .dataframe tbody tr th:only-of-type {\n",
       "        vertical-align: middle;\n",
       "    }\n",
       "\n",
       "    .dataframe tbody tr th {\n",
       "        vertical-align: top;\n",
       "    }\n",
       "\n",
       "    .dataframe thead th {\n",
       "        text-align: right;\n",
       "    }\n",
       "</style>\n",
       "<table border=\"1\" class=\"dataframe\">\n",
       "  <thead>\n",
       "    <tr style=\"text-align: right;\">\n",
       "      <th></th>\n",
       "      <th>g_id</th>\n",
       "      <th>event</th>\n",
       "      <th>pitch_type</th>\n",
       "      <th>pitch_num</th>\n",
       "      <th>batter_name</th>\n",
       "    </tr>\n",
       "    <tr>\n",
       "      <th>ab_id</th>\n",
       "      <th></th>\n",
       "      <th></th>\n",
       "      <th></th>\n",
       "      <th></th>\n",
       "      <th></th>\n",
       "    </tr>\n",
       "  </thead>\n",
       "  <tbody>\n",
       "    <tr>\n",
       "      <th>2.019000e+09</th>\n",
       "      <td>201900002.0</td>\n",
       "      <td>Strikeout</td>\n",
       "      <td>FF</td>\n",
       "      <td>8.0</td>\n",
       "      <td>Adam Jones</td>\n",
       "    </tr>\n",
       "    <tr>\n",
       "      <th>2.019000e+09</th>\n",
       "      <td>201900002.0</td>\n",
       "      <td>Single</td>\n",
       "      <td>FF</td>\n",
       "      <td>4.0</td>\n",
       "      <td>Eduardo Escobar</td>\n",
       "    </tr>\n",
       "    <tr>\n",
       "      <th>2.019000e+09</th>\n",
       "      <td>201900002.0</td>\n",
       "      <td>Strikeout</td>\n",
       "      <td>FF</td>\n",
       "      <td>6.0</td>\n",
       "      <td>Wilmer Flores</td>\n",
       "    </tr>\n",
       "    <tr>\n",
       "      <th>2.019000e+09</th>\n",
       "      <td>201900002.0</td>\n",
       "      <td>Strikeout</td>\n",
       "      <td>FF</td>\n",
       "      <td>4.0</td>\n",
       "      <td>David Peralta</td>\n",
       "    </tr>\n",
       "    <tr>\n",
       "      <th>2.019000e+09</th>\n",
       "      <td>201900002.0</td>\n",
       "      <td>Groundout</td>\n",
       "      <td>CU</td>\n",
       "      <td>2.0</td>\n",
       "      <td>Christian Walker</td>\n",
       "    </tr>\n",
       "    <tr>\n",
       "      <th>...</th>\n",
       "      <td>...</td>\n",
       "      <td>...</td>\n",
       "      <td>...</td>\n",
       "      <td>...</td>\n",
       "      <td>...</td>\n",
       "    </tr>\n",
       "    <tr>\n",
       "      <th>2.019185e+09</th>\n",
       "      <td>201902401.0</td>\n",
       "      <td>Groundout</td>\n",
       "      <td>FF</td>\n",
       "      <td>5.0</td>\n",
       "      <td>Buster Posey</td>\n",
       "    </tr>\n",
       "    <tr>\n",
       "      <th>2.019185e+09</th>\n",
       "      <td>201902401.0</td>\n",
       "      <td>Lineout</td>\n",
       "      <td>FT</td>\n",
       "      <td>3.0</td>\n",
       "      <td>Evan Longoria</td>\n",
       "    </tr>\n",
       "    <tr>\n",
       "      <th>2.019185e+09</th>\n",
       "      <td>201902401.0</td>\n",
       "      <td>Pop Out</td>\n",
       "      <td>CH</td>\n",
       "      <td>1.0</td>\n",
       "      <td>Kevin Pillar</td>\n",
       "    </tr>\n",
       "    <tr>\n",
       "      <th>2.019185e+09</th>\n",
       "      <td>201902401.0</td>\n",
       "      <td>Groundout</td>\n",
       "      <td>FF</td>\n",
       "      <td>3.0</td>\n",
       "      <td>Austin Slater</td>\n",
       "    </tr>\n",
       "    <tr>\n",
       "      <th>2.019185e+09</th>\n",
       "      <td>201902401.0</td>\n",
       "      <td>Strikeout</td>\n",
       "      <td>FF</td>\n",
       "      <td>4.0</td>\n",
       "      <td>Joey Rickard</td>\n",
       "    </tr>\n",
       "  </tbody>\n",
       "</table>\n",
       "<p>662 rows × 5 columns</p>\n",
       "</div>"
      ],
      "text/plain": [
       "                     g_id      event pitch_type  pitch_num       batter_name\n",
       "ab_id                                                                       \n",
       "2.019000e+09  201900002.0  Strikeout         FF        8.0        Adam Jones\n",
       "2.019000e+09  201900002.0     Single         FF        4.0   Eduardo Escobar\n",
       "2.019000e+09  201900002.0  Strikeout         FF        6.0     Wilmer Flores\n",
       "2.019000e+09  201900002.0  Strikeout         FF        4.0     David Peralta\n",
       "2.019000e+09  201900002.0  Groundout         CU        2.0  Christian Walker\n",
       "...                   ...        ...        ...        ...               ...\n",
       "2.019185e+09  201902401.0  Groundout         FF        5.0      Buster Posey\n",
       "2.019185e+09  201902401.0    Lineout         FT        3.0     Evan Longoria\n",
       "2.019185e+09  201902401.0    Pop Out         CH        1.0      Kevin Pillar\n",
       "2.019185e+09  201902401.0  Groundout         FF        3.0     Austin Slater\n",
       "2.019185e+09  201902401.0  Strikeout         FF        4.0      Joey Rickard\n",
       "\n",
       "[662 rows x 5 columns]"
      ]
     },
     "execution_count": 22,
     "metadata": {},
     "output_type": "execute_result"
    }
   ],
   "source": [
    "# 구종별 이벤트\n",
    "# event: 결과\n",
    "# pitch_type: 구종\n",
    "# pitch_num: 타자한테 던진 공 수\n",
    "# batter_name: 타자\n",
    "last_shot = ryu.groupby('ab_id')[['g_id','event','pitch_type','pitch_num','batter_name']].max()\n",
    "last_shot"
   ]
  },
  {
   "cell_type": "code",
   "execution_count": 23,
   "metadata": {},
   "outputs": [
    {
     "data": {
      "text/html": [
       "<div>\n",
       "<style scoped>\n",
       "    .dataframe tbody tr th:only-of-type {\n",
       "        vertical-align: middle;\n",
       "    }\n",
       "\n",
       "    .dataframe tbody tr th {\n",
       "        vertical-align: top;\n",
       "    }\n",
       "\n",
       "    .dataframe thead th {\n",
       "        text-align: right;\n",
       "    }\n",
       "</style>\n",
       "<table border=\"1\" class=\"dataframe\">\n",
       "  <thead>\n",
       "    <tr style=\"text-align: right;\">\n",
       "      <th></th>\n",
       "      <th>pitch_num</th>\n",
       "    </tr>\n",
       "    <tr>\n",
       "      <th>g_id</th>\n",
       "      <th></th>\n",
       "    </tr>\n",
       "  </thead>\n",
       "  <tbody>\n",
       "    <tr>\n",
       "      <th>201900002.0</th>\n",
       "      <td>82.0</td>\n",
       "    </tr>\n",
       "    <tr>\n",
       "      <th>201900077.0</th>\n",
       "      <td>78.0</td>\n",
       "    </tr>\n",
       "    <tr>\n",
       "      <th>201900143.0</th>\n",
       "      <td>33.0</td>\n",
       "    </tr>\n",
       "    <tr>\n",
       "      <th>201900299.0</th>\n",
       "      <td>92.0</td>\n",
       "    </tr>\n",
       "    <tr>\n",
       "      <th>201900382.0</th>\n",
       "      <td>80.0</td>\n",
       "    </tr>\n",
       "    <tr>\n",
       "      <th>201900444.0</th>\n",
       "      <td>107.0</td>\n",
       "    </tr>\n",
       "    <tr>\n",
       "      <th>201900518.0</th>\n",
       "      <td>93.0</td>\n",
       "    </tr>\n",
       "    <tr>\n",
       "      <th>201900599.0</th>\n",
       "      <td>116.0</td>\n",
       "    </tr>\n",
       "    <tr>\n",
       "      <th>201900679.0</th>\n",
       "      <td>81.0</td>\n",
       "    </tr>\n",
       "    <tr>\n",
       "      <th>201900759.0</th>\n",
       "      <td>68.0</td>\n",
       "    </tr>\n",
       "    <tr>\n",
       "      <th>201900831.0</th>\n",
       "      <td>97.0</td>\n",
       "    </tr>\n",
       "    <tr>\n",
       "      <th>201900890.0</th>\n",
       "      <td>96.0</td>\n",
       "    </tr>\n",
       "    <tr>\n",
       "      <th>201900973.0</th>\n",
       "      <td>87.0</td>\n",
       "    </tr>\n",
       "    <tr>\n",
       "      <th>201901051.0</th>\n",
       "      <td>94.0</td>\n",
       "    </tr>\n",
       "    <tr>\n",
       "      <th>201901136.0</th>\n",
       "      <td>94.0</td>\n",
       "    </tr>\n",
       "    <tr>\n",
       "      <th>201901213.0</th>\n",
       "      <td>81.0</td>\n",
       "    </tr>\n",
       "    <tr>\n",
       "      <th>201901297.0</th>\n",
       "      <td>75.0</td>\n",
       "    </tr>\n",
       "    <tr>\n",
       "      <th>201901380.0</th>\n",
       "      <td>84.0</td>\n",
       "    </tr>\n",
       "    <tr>\n",
       "      <th>201901447.0</th>\n",
       "      <td>87.0</td>\n",
       "    </tr>\n",
       "    <tr>\n",
       "      <th>201901545.0</th>\n",
       "      <td>103.0</td>\n",
       "    </tr>\n",
       "    <tr>\n",
       "      <th>201901609.0</th>\n",
       "      <td>80.0</td>\n",
       "    </tr>\n",
       "    <tr>\n",
       "      <th>201901755.0</th>\n",
       "      <td>91.0</td>\n",
       "    </tr>\n",
       "    <tr>\n",
       "      <th>201901839.0</th>\n",
       "      <td>101.0</td>\n",
       "    </tr>\n",
       "    <tr>\n",
       "      <th>201901921.0</th>\n",
       "      <td>94.0</td>\n",
       "    </tr>\n",
       "    <tr>\n",
       "      <th>201901996.0</th>\n",
       "      <td>96.0</td>\n",
       "    </tr>\n",
       "    <tr>\n",
       "      <th>201902079.0</th>\n",
       "      <td>91.0</td>\n",
       "    </tr>\n",
       "    <tr>\n",
       "      <th>201902215.0</th>\n",
       "      <td>77.0</td>\n",
       "    </tr>\n",
       "    <tr>\n",
       "      <th>201902321.0</th>\n",
       "      <td>79.0</td>\n",
       "    </tr>\n",
       "    <tr>\n",
       "      <th>201902401.0</th>\n",
       "      <td>70.0</td>\n",
       "    </tr>\n",
       "  </tbody>\n",
       "</table>\n",
       "</div>"
      ],
      "text/plain": [
       "             pitch_num\n",
       "g_id                  \n",
       "201900002.0       82.0\n",
       "201900077.0       78.0\n",
       "201900143.0       33.0\n",
       "201900299.0       92.0\n",
       "201900382.0       80.0\n",
       "201900444.0      107.0\n",
       "201900518.0       93.0\n",
       "201900599.0      116.0\n",
       "201900679.0       81.0\n",
       "201900759.0       68.0\n",
       "201900831.0       97.0\n",
       "201900890.0       96.0\n",
       "201900973.0       87.0\n",
       "201901051.0       94.0\n",
       "201901136.0       94.0\n",
       "201901213.0       81.0\n",
       "201901297.0       75.0\n",
       "201901380.0       84.0\n",
       "201901447.0       87.0\n",
       "201901545.0      103.0\n",
       "201901609.0       80.0\n",
       "201901755.0       91.0\n",
       "201901839.0      101.0\n",
       "201901921.0       94.0\n",
       "201901996.0       96.0\n",
       "201902079.0       91.0\n",
       "201902215.0       77.0\n",
       "201902321.0       79.0\n",
       "201902401.0       70.0"
      ]
     },
     "execution_count": 23,
     "metadata": {},
     "output_type": "execute_result"
    }
   ],
   "source": [
    "# 게임 별 투구 수\n",
    "total_ball = last_shot.groupby('g_id').sum('pitch_num')\n",
    "total_ball"
   ]
  },
  {
   "cell_type": "code",
   "execution_count": 24,
   "metadata": {},
   "outputs": [
    {
     "data": {
      "text/plain": [
       "<matplotlib.lines.Line2D at 0x21f812beac0>"
      ]
     },
     "execution_count": 24,
     "metadata": {},
     "output_type": "execute_result"
    },
    {
     "data": {
      "image/png": "[encoded data removed]",
      "text/plain": [
       "<Figure size 720x360 with 1 Axes>"
      ]
     },
     "metadata": {
      "needs_background": "light"
     },
     "output_type": "display_data"
    }
   ],
   "source": [
    "total_ball.plot(kind='bar',figsize=(10,5))\n",
    "plt.axhline(total_ball['pitch_num'].mean(), color='r', linestyle='--')"
   ]
  },
  {
   "cell_type": "code",
   "execution_count": 25,
   "metadata": {},
   "outputs": [
    {
     "data": {
      "text/html": [
       "<div>\n",
       "<style scoped>\n",
       "    .dataframe tbody tr th:only-of-type {\n",
       "        vertical-align: middle;\n",
       "    }\n",
       "\n",
       "    .dataframe tbody tr th {\n",
       "        vertical-align: top;\n",
       "    }\n",
       "\n",
       "    .dataframe thead th {\n",
       "        text-align: right;\n",
       "    }\n",
       "</style>\n",
       "<table border=\"1\" class=\"dataframe\">\n",
       "  <thead>\n",
       "    <tr style=\"text-align: right;\">\n",
       "      <th></th>\n",
       "      <th>g_id</th>\n",
       "      <th>pitch_num</th>\n",
       "    </tr>\n",
       "    <tr>\n",
       "      <th>batter_name</th>\n",
       "      <th></th>\n",
       "      <th></th>\n",
       "    </tr>\n",
       "  </thead>\n",
       "  <tbody>\n",
       "    <tr>\n",
       "      <th>Michael A. Taylor</th>\n",
       "      <td>201900599.0</td>\n",
       "      <td>7.000000</td>\n",
       "    </tr>\n",
       "    <tr>\n",
       "      <th>Matt Carpenter</th>\n",
       "      <td>201900143.0</td>\n",
       "      <td>7.000000</td>\n",
       "    </tr>\n",
       "    <tr>\n",
       "      <th>Mike Trout</th>\n",
       "      <td>201900973.0</td>\n",
       "      <td>6.000000</td>\n",
       "    </tr>\n",
       "    <tr>\n",
       "      <th>Stephen Strasburg</th>\n",
       "      <td>201900599.0</td>\n",
       "      <td>6.000000</td>\n",
       "    </tr>\n",
       "    <tr>\n",
       "      <th>Paul Goldschmidt</th>\n",
       "      <td>201900143.0</td>\n",
       "      <td>6.000000</td>\n",
       "    </tr>\n",
       "    <tr>\n",
       "      <th>Adeiny Hechavarria</th>\n",
       "      <td>201901234.2</td>\n",
       "      <td>5.800000</td>\n",
       "    </tr>\n",
       "    <tr>\n",
       "      <th>Chris Iannetta</th>\n",
       "      <td>201901166.8</td>\n",
       "      <td>5.800000</td>\n",
       "    </tr>\n",
       "    <tr>\n",
       "      <th>Manny Machado</th>\n",
       "      <td>201901297.0</td>\n",
       "      <td>5.666667</td>\n",
       "    </tr>\n",
       "    <tr>\n",
       "      <th>Lorenzo Cain</th>\n",
       "      <td>201900299.0</td>\n",
       "      <td>5.666667</td>\n",
       "    </tr>\n",
       "    <tr>\n",
       "      <th>Kevan Smith</th>\n",
       "      <td>201900973.0</td>\n",
       "      <td>5.666667</td>\n",
       "    </tr>\n",
       "  </tbody>\n",
       "</table>\n",
       "</div>"
      ],
      "text/plain": [
       "                           g_id  pitch_num\n",
       "batter_name                               \n",
       "Michael A. Taylor   201900599.0   7.000000\n",
       "Matt Carpenter      201900143.0   7.000000\n",
       "Mike Trout          201900973.0   6.000000\n",
       "Stephen Strasburg   201900599.0   6.000000\n",
       "Paul Goldschmidt    201900143.0   6.000000\n",
       "Adeiny Hechavarria  201901234.2   5.800000\n",
       "Chris Iannetta      201901166.8   5.800000\n",
       "Manny Machado       201901297.0   5.666667\n",
       "Lorenzo Cain        201900299.0   5.666667\n",
       "Kevan Smith         201900973.0   5.666667"
      ]
     },
     "execution_count": 25,
     "metadata": {},
     "output_type": "execute_result"
    }
   ],
   "source": [
    "# 류현진에게 던지게 한 평균 공 수\n",
    "throws_by_batter = last_shot.groupby('batter_name').mean('pitch_num')\n",
    "throws_by_batter.sort_values(by='pitch_num', ascending=False).head(10)"
   ]
  },
  {
   "cell_type": "code",
   "execution_count": 26,
   "metadata": {},
   "outputs": [
    {
     "data": {
      "text/html": [
       "<div>\n",
       "<style scoped>\n",
       "    .dataframe tbody tr th:only-of-type {\n",
       "        vertical-align: middle;\n",
       "    }\n",
       "\n",
       "    .dataframe tbody tr th {\n",
       "        vertical-align: top;\n",
       "    }\n",
       "\n",
       "    .dataframe thead th {\n",
       "        text-align: right;\n",
       "    }\n",
       "</style>\n",
       "<table border=\"1\" class=\"dataframe\">\n",
       "  <thead>\n",
       "    <tr style=\"text-align: right;\">\n",
       "      <th></th>\n",
       "      <th>count</th>\n",
       "    </tr>\n",
       "    <tr>\n",
       "      <th>event</th>\n",
       "      <th></th>\n",
       "    </tr>\n",
       "  </thead>\n",
       "  <tbody>\n",
       "    <tr>\n",
       "      <th>Groundout</th>\n",
       "      <td>160</td>\n",
       "    </tr>\n",
       "    <tr>\n",
       "      <th>Strikeout</th>\n",
       "      <td>146</td>\n",
       "    </tr>\n",
       "    <tr>\n",
       "      <th>Single</th>\n",
       "      <td>94</td>\n",
       "    </tr>\n",
       "    <tr>\n",
       "      <th>Flyout</th>\n",
       "      <td>59</td>\n",
       "    </tr>\n",
       "    <tr>\n",
       "      <th>Lineout</th>\n",
       "      <td>49</td>\n",
       "    </tr>\n",
       "    <tr>\n",
       "      <th>Double</th>\n",
       "      <td>33</td>\n",
       "    </tr>\n",
       "    <tr>\n",
       "      <th>Walk</th>\n",
       "      <td>21</td>\n",
       "    </tr>\n",
       "    <tr>\n",
       "      <th>Pop Out</th>\n",
       "      <td>21</td>\n",
       "    </tr>\n",
       "    <tr>\n",
       "      <th>Grounded Into DP</th>\n",
       "      <td>17</td>\n",
       "    </tr>\n",
       "    <tr>\n",
       "      <th>Home Run</th>\n",
       "      <td>16</td>\n",
       "    </tr>\n",
       "    <tr>\n",
       "      <th>Forceout</th>\n",
       "      <td>15</td>\n",
       "    </tr>\n",
       "    <tr>\n",
       "      <th>Field Error</th>\n",
       "      <td>7</td>\n",
       "    </tr>\n",
       "    <tr>\n",
       "      <th>Sac Bunt</th>\n",
       "      <td>6</td>\n",
       "    </tr>\n",
       "    <tr>\n",
       "      <th>Bunt Groundout</th>\n",
       "      <td>4</td>\n",
       "    </tr>\n",
       "    <tr>\n",
       "      <th>Hit By Pitch</th>\n",
       "      <td>4</td>\n",
       "    </tr>\n",
       "    <tr>\n",
       "      <th>Fielders Choice</th>\n",
       "      <td>3</td>\n",
       "    </tr>\n",
       "    <tr>\n",
       "      <th>Intent Walk</th>\n",
       "      <td>2</td>\n",
       "    </tr>\n",
       "    <tr>\n",
       "      <th>Sac Fly</th>\n",
       "      <td>2</td>\n",
       "    </tr>\n",
       "    <tr>\n",
       "      <th>Double Play</th>\n",
       "      <td>2</td>\n",
       "    </tr>\n",
       "    <tr>\n",
       "      <th>Bunt Pop Out</th>\n",
       "      <td>1</td>\n",
       "    </tr>\n",
       "  </tbody>\n",
       "</table>\n",
       "</div>"
      ],
      "text/plain": [
       "                  count\n",
       "event                  \n",
       "Groundout           160\n",
       "Strikeout           146\n",
       "Single               94\n",
       "Flyout               59\n",
       "Lineout              49\n",
       "Double               33\n",
       "Walk                 21\n",
       "Pop Out              21\n",
       "Grounded Into DP     17\n",
       "Home Run             16\n",
       "Forceout             15\n",
       "Field Error           7\n",
       "Sac Bunt              6\n",
       "Bunt Groundout        4\n",
       "Hit By Pitch          4\n",
       "Fielders Choice       3\n",
       "Intent Walk           2\n",
       "Sac Fly               2\n",
       "Double Play           2\n",
       "Bunt Pop Out          1"
      ]
     },
     "execution_count": 26,
     "metadata": {},
     "output_type": "execute_result"
    }
   ],
   "source": [
    "# event 비율\n",
    "event_count = last_shot.groupby('event').agg({'event':'count'}).rename(columns={'event': 'count'}).sort_values(by='count', ascending=False)\n",
    "event_count"
   ]
  },
  {
   "cell_type": "code",
   "execution_count": 27,
   "metadata": {},
   "outputs": [
    {
     "data": {
      "text/plain": [
       "pitch_type\n",
       "FF    0.48\n",
       "FT    0.38\n",
       "FC    0.08\n",
       "CU    0.03\n",
       "CH    0.03\n",
       "SL    0.01\n",
       "Name: event, dtype: float64"
      ]
     },
     "execution_count": 27,
     "metadata": {},
     "output_type": "execute_result"
    }
   ],
   "source": [
    "# Groundout 구종 비교\n",
    "g_out = last_shot[last_shot['event']=='Groundout']\n",
    "g_out_type = round(g_out.groupby('pitch_type')['event'].count()/len(g_out),2)\n",
    "g_out_type.sort_values(ascending=False)"
   ]
  },
  {
   "cell_type": "code",
   "execution_count": 28,
   "metadata": {},
   "outputs": [
    {
     "data": {
      "text/plain": [
       "Text(0, 0.5, 'Percentage')"
      ]
     },
     "execution_count": 28,
     "metadata": {},
     "output_type": "execute_result"
    },
    {
     "data": {
      "image/png": "[encoded data removed]",
      "text/plain": [
       "<Figure size 432x288 with 1 Axes>"
      ]
     },
     "metadata": {
      "needs_background": "light"
     },
     "output_type": "display_data"
    }
   ],
   "source": [
    "g_out_type.sort_values(ascending=False).plot.bar()\n",
    "plt.xticks(rotation=0)\n",
    "plt.title('Ground Outs')\n",
    "plt.ylabel('Percentage')"
   ]
  },
  {
   "cell_type": "code",
   "execution_count": 29,
   "metadata": {},
   "outputs": [
    {
     "data": {
      "text/plain": [
       "pitch_type\n",
       "FF    0.49\n",
       "FT    0.39\n",
       "FC    0.09\n",
       "CU    0.03\n",
       "Name: event, dtype: float64"
      ]
     },
     "execution_count": 29,
     "metadata": {},
     "output_type": "execute_result"
    }
   ],
   "source": [
    "# StrikeOut 구종 비교\n",
    "s_out = last_shot[last_shot['event']=='Strikeout']\n",
    "s_out_type = round(s_out.groupby('pitch_type')['event'].count()/len(s_out),2)\n",
    "s_out_type.sort_values(ascending=False)"
   ]
  },
  {
   "cell_type": "code",
   "execution_count": 30,
   "metadata": {},
   "outputs": [
    {
     "data": {
      "text/plain": [
       "Text(0, 0.5, 'Percentage')"
      ]
     },
     "execution_count": 30,
     "metadata": {},
     "output_type": "execute_result"
    },
    {
     "data": {
      "image/png": "[encoded data removed]",
      "text/plain": [
       "<Figure size 432x288 with 1 Axes>"
      ]
     },
     "metadata": {
      "needs_background": "light"
     },
     "output_type": "display_data"
    }
   ],
   "source": [
    "s_out_type.sort_values(ascending=False).plot.bar()\n",
    "plt.xticks(rotation=0)\n",
    "plt.title('Strike Outs')\n",
    "plt.ylabel('Percentage')"
   ]
  },
  {
   "cell_type": "code",
   "execution_count": 31,
   "metadata": {},
   "outputs": [
    {
     "data": {
      "text/plain": [
       "pitch_type\n",
       "FF    0.17\n",
       "FT    0.16\n",
       "FC    0.03\n",
       "CU    0.02\n",
       "SL    0.01\n",
       "CH    0.01\n",
       "Name: event, dtype: float64"
      ]
     },
     "execution_count": 31,
     "metadata": {},
     "output_type": "execute_result"
    }
   ],
   "source": [
    "# Fly Out 구종 비교\n",
    "f_out = last_shot[last_shot['event']=='Flyout']\n",
    "f_out_type = round(f_out.groupby('pitch_type')['event'].count()/len(s_out),2)\n",
    "f_out_type.sort_values(ascending=False)"
   ]
  },
  {
   "cell_type": "code",
   "execution_count": 32,
   "metadata": {},
   "outputs": [
    {
     "data": {
      "text/plain": [
       "Text(0, 0.5, 'Percentage')"
      ]
     },
     "execution_count": 32,
     "metadata": {},
     "output_type": "execute_result"
    },
    {
     "data": {
      "image/png": "[encoded data removed]",
      "text/plain": [
       "<Figure size 432x288 with 1 Axes>"
      ]
     },
     "metadata": {
      "needs_background": "light"
     },
     "output_type": "display_data"
    }
   ],
   "source": [
    "f_out_type.sort_values(ascending=False).plot.bar()\n",
    "plt.xticks(rotation=0)\n",
    "plt.title('Fly Outs')\n",
    "plt.ylabel('Percentage')"
   ]
  },
  {
   "cell_type": "code",
   "execution_count": 108,
   "metadata": {},
   "outputs": [
    {
     "data": {
      "text/plain": [
       "event\n",
       "Bunt Groundout      1\n",
       "Bunt Pop Out        1\n",
       "Double              1\n",
       "Flyout              1\n",
       "Forceout            1\n",
       "Grounded Into DP    2\n",
       "Groundout           5\n",
       "Home Run            1\n",
       "Lineout             5\n",
       "Pop Out             3\n",
       "Single              4\n",
       "Name: event, dtype: int64"
      ]
     },
     "execution_count": 108,
     "metadata": {},
     "output_type": "execute_result"
    }
   ],
   "source": [
    "# 류현진의 체인지업\n",
    "cu = last_shot[last_shot['pitch_type']=='CH']\n",
    "cu.groupby('event')['event'].count()"
   ]
  },
  {
   "cell_type": "markdown",
   "metadata": {},
   "source": [
    "위의 류현진의 구종 구사 비율에서 2위를 차지했던 체인지업(27.2%)   \n",
    "그러나 생각보다 마지막에 던졌던 공이 체인지업인 경우가 별로 없다.   "
   ]
  },
  {
   "cell_type": "markdown",
   "metadata": {},
   "source": [
    "## 류현진이 맞은 홈런"
   ]
  },
  {
   "cell_type": "code",
   "execution_count": 117,
   "metadata": {},
   "outputs": [
    {
     "data": {
      "text/html": [
       "<div>\n",
       "<style scoped>\n",
       "    .dataframe tbody tr th:only-of-type {\n",
       "        vertical-align: middle;\n",
       "    }\n",
       "\n",
       "    .dataframe tbody tr th {\n",
       "        vertical-align: top;\n",
       "    }\n",
       "\n",
       "    .dataframe thead th {\n",
       "        text-align: right;\n",
       "    }\n",
       "</style>\n",
       "<table border=\"1\" class=\"dataframe\">\n",
       "  <thead>\n",
       "    <tr style=\"text-align: right;\">\n",
       "      <th></th>\n",
       "      <th>pitch_type</th>\n",
       "      <th>count</th>\n",
       "    </tr>\n",
       "  </thead>\n",
       "  <tbody>\n",
       "    <tr>\n",
       "      <th>0</th>\n",
       "      <td>FF</td>\n",
       "      <td>9</td>\n",
       "    </tr>\n",
       "    <tr>\n",
       "      <th>1</th>\n",
       "      <td>FT</td>\n",
       "      <td>3</td>\n",
       "    </tr>\n",
       "    <tr>\n",
       "      <th>2</th>\n",
       "      <td>CU</td>\n",
       "      <td>2</td>\n",
       "    </tr>\n",
       "    <tr>\n",
       "      <th>3</th>\n",
       "      <td>FC</td>\n",
       "      <td>1</td>\n",
       "    </tr>\n",
       "    <tr>\n",
       "      <th>4</th>\n",
       "      <td>CH</td>\n",
       "      <td>1</td>\n",
       "    </tr>\n",
       "  </tbody>\n",
       "</table>\n",
       "</div>"
      ],
      "text/plain": [
       "  pitch_type  count\n",
       "0         FF      9\n",
       "1         FT      3\n",
       "2         CU      2\n",
       "3         FC      1\n",
       "4         CH      1"
      ]
     },
     "execution_count": 117,
     "metadata": {},
     "output_type": "execute_result"
    }
   ],
   "source": [
    "# 구종\n",
    "hr = last_shot[last_shot['event']=='Home Run']\n",
    "hr.groupby('pitch_type')['event'].count().sort_values(ascending= False).reset_index().rename(columns={'event': 'count'})"
   ]
  },
  {
   "cell_type": "code",
   "execution_count": 120,
   "metadata": {},
   "outputs": [
    {
     "data": {
      "text/html": [
       "<div>\n",
       "<style scoped>\n",
       "    .dataframe tbody tr th:only-of-type {\n",
       "        vertical-align: middle;\n",
       "    }\n",
       "\n",
       "    .dataframe tbody tr th {\n",
       "        vertical-align: top;\n",
       "    }\n",
       "\n",
       "    .dataframe thead th {\n",
       "        text-align: right;\n",
       "    }\n",
       "</style>\n",
       "<table border=\"1\" class=\"dataframe\">\n",
       "  <thead>\n",
       "    <tr style=\"text-align: right;\">\n",
       "      <th></th>\n",
       "      <th>batter_name</th>\n",
       "      <th>count</th>\n",
       "    </tr>\n",
       "  </thead>\n",
       "  <tbody>\n",
       "    <tr>\n",
       "      <th>0</th>\n",
       "      <td>Christian Yelich</td>\n",
       "      <td>2</td>\n",
       "    </tr>\n",
       "    <tr>\n",
       "      <th>1</th>\n",
       "      <td>Pat Valaika</td>\n",
       "      <td>1</td>\n",
       "    </tr>\n",
       "    <tr>\n",
       "      <th>2</th>\n",
       "      <td>Nolan Arenado</td>\n",
       "      <td>1</td>\n",
       "    </tr>\n",
       "    <tr>\n",
       "      <th>3</th>\n",
       "      <td>Marcell Ozuna</td>\n",
       "      <td>1</td>\n",
       "    </tr>\n",
       "    <tr>\n",
       "      <th>4</th>\n",
       "      <td>Madison Bumgarner</td>\n",
       "      <td>1</td>\n",
       "    </tr>\n",
       "    <tr>\n",
       "      <th>5</th>\n",
       "      <td>Kole Calhoun</td>\n",
       "      <td>1</td>\n",
       "    </tr>\n",
       "    <tr>\n",
       "      <th>6</th>\n",
       "      <td>Josh Donaldson</td>\n",
       "      <td>1</td>\n",
       "    </tr>\n",
       "    <tr>\n",
       "      <th>7</th>\n",
       "      <td>Josh Bell</td>\n",
       "      <td>1</td>\n",
       "    </tr>\n",
       "    <tr>\n",
       "      <th>8</th>\n",
       "      <td>Gary Sanchez</td>\n",
       "      <td>1</td>\n",
       "    </tr>\n",
       "    <tr>\n",
       "      <th>9</th>\n",
       "      <td>Garrett Hampson</td>\n",
       "      <td>1</td>\n",
       "    </tr>\n",
       "    <tr>\n",
       "      <th>10</th>\n",
       "      <td>Didi Gregorius</td>\n",
       "      <td>1</td>\n",
       "    </tr>\n",
       "    <tr>\n",
       "      <th>11</th>\n",
       "      <td>David Dahl</td>\n",
       "      <td>1</td>\n",
       "    </tr>\n",
       "    <tr>\n",
       "      <th>12</th>\n",
       "      <td>Adam Jones</td>\n",
       "      <td>1</td>\n",
       "    </tr>\n",
       "    <tr>\n",
       "      <th>13</th>\n",
       "      <td>Adam Duvall</td>\n",
       "      <td>1</td>\n",
       "    </tr>\n",
       "    <tr>\n",
       "      <th>14</th>\n",
       "      <td>Aaron Judge</td>\n",
       "      <td>1</td>\n",
       "    </tr>\n",
       "  </tbody>\n",
       "</table>\n",
       "</div>"
      ],
      "text/plain": [
       "          batter_name  count\n",
       "0    Christian Yelich      2\n",
       "1         Pat Valaika      1\n",
       "2       Nolan Arenado      1\n",
       "3       Marcell Ozuna      1\n",
       "4   Madison Bumgarner      1\n",
       "5        Kole Calhoun      1\n",
       "6      Josh Donaldson      1\n",
       "7           Josh Bell      1\n",
       "8        Gary Sanchez      1\n",
       "9     Garrett Hampson      1\n",
       "10     Didi Gregorius      1\n",
       "11         David Dahl      1\n",
       "12         Adam Jones      1\n",
       "13        Adam Duvall      1\n",
       "14        Aaron Judge      1"
      ]
     },
     "execution_count": 120,
     "metadata": {},
     "output_type": "execute_result"
    }
   ],
   "source": [
    "# 홈런을 친 타자\n",
    "hr.groupby('batter_name')['event'].count().sort_values(ascending= False).reset_index().rename(columns={'event': 'count'})"
   ]
  },
  {
   "cell_type": "code",
   "execution_count": 130,
   "metadata": {},
   "outputs": [
    {
     "data": {
      "text/html": [
       "<div>\n",
       "<style scoped>\n",
       "    .dataframe tbody tr th:only-of-type {\n",
       "        vertical-align: middle;\n",
       "    }\n",
       "\n",
       "    .dataframe tbody tr th {\n",
       "        vertical-align: top;\n",
       "    }\n",
       "\n",
       "    .dataframe thead th {\n",
       "        text-align: right;\n",
       "    }\n",
       "</style>\n",
       "<table border=\"1\" class=\"dataframe\">\n",
       "  <thead>\n",
       "    <tr style=\"text-align: right;\">\n",
       "      <th></th>\n",
       "      <th>inning</th>\n",
       "      <th>event</th>\n",
       "    </tr>\n",
       "  </thead>\n",
       "  <tbody>\n",
       "    <tr>\n",
       "      <th>0</th>\n",
       "      <td>1.0</td>\n",
       "      <td>14</td>\n",
       "    </tr>\n",
       "    <tr>\n",
       "      <th>1</th>\n",
       "      <td>2.0</td>\n",
       "      <td>3</td>\n",
       "    </tr>\n",
       "    <tr>\n",
       "      <th>2</th>\n",
       "      <td>3.0</td>\n",
       "      <td>13</td>\n",
       "    </tr>\n",
       "    <tr>\n",
       "      <th>3</th>\n",
       "      <td>4.0</td>\n",
       "      <td>3</td>\n",
       "    </tr>\n",
       "    <tr>\n",
       "      <th>4</th>\n",
       "      <td>5.0</td>\n",
       "      <td>9</td>\n",
       "    </tr>\n",
       "    <tr>\n",
       "      <th>5</th>\n",
       "      <td>6.0</td>\n",
       "      <td>16</td>\n",
       "    </tr>\n",
       "  </tbody>\n",
       "</table>\n",
       "</div>"
      ],
      "text/plain": [
       "   inning  event\n",
       "0     1.0     14\n",
       "1     2.0      3\n",
       "2     3.0     13\n",
       "3     4.0      3\n",
       "4     5.0      9\n",
       "5     6.0     16"
      ]
     },
     "execution_count": 130,
     "metadata": {},
     "output_type": "execute_result"
    }
   ],
   "source": [
    "# 홈런을 맞은 이닝\n",
    "inn = ryu[['ab_id', 'inning']]\n",
    "home_inn = inn.merge(hr.reset_index(), on='ab_id')\n",
    "home_inn.groupby('inning')['event'].count().reset_index()"
   ]
  },
  {
   "cell_type": "markdown",
   "metadata": {},
   "source": [
    "## 류현진 Inning"
   ]
  },
  {
   "cell_type": "code",
   "execution_count": 34,
   "metadata": {},
   "outputs": [
    {
     "data": {
      "text/plain": [
       "g_id\n",
       "201900002.0    6.0\n",
       "201900077.0    7.0\n",
       "201900143.0    2.0\n",
       "201900299.0    6.0\n",
       "201900382.0    7.0\n",
       "201900444.0    8.0\n",
       "201900518.0    9.0\n",
       "201900599.0    8.0\n",
       "201900679.0    7.0\n",
       "201900759.0    6.0\n",
       "201900831.0    8.0\n",
       "201900890.0    7.0\n",
       "201900973.0    6.0\n",
       "201901051.0    7.0\n",
       "201901136.0    6.0\n",
       "201901213.0    5.0\n",
       "201901297.0    6.0\n",
       "201901380.0    7.0\n",
       "201901447.0    7.0\n",
       "201901545.0    7.0\n",
       "201901609.0    6.0\n",
       "201901755.0    7.0\n",
       "201901839.0    6.0\n",
       "201901921.0    5.0\n",
       "201901996.0    5.0\n",
       "201902079.0    5.0\n",
       "201902215.0    7.0\n",
       "201902321.0    7.0\n",
       "201902401.0    7.0\n",
       "Name: inning, dtype: float64"
      ]
     },
     "execution_count": 34,
     "metadata": {},
     "output_type": "execute_result"
    }
   ],
   "source": [
    "# 류현진 게임별 inning\n",
    "inning = ryu.groupby('g_id')['inning'].max()\n",
    "inning"
   ]
  },
  {
   "cell_type": "code",
   "execution_count": 35,
   "metadata": {},
   "outputs": [
    {
     "data": {
      "text/plain": [
       "Text(0.5, 1.0, 'Ryu Hyun-jin inning')"
      ]
     },
     "execution_count": 35,
     "metadata": {},
     "output_type": "execute_result"
    },
    {
     "data": {
      "image/png": "[encoded data removed]",
      "text/plain": [
       "<Figure size 432x288 with 1 Axes>"
      ]
     },
     "metadata": {
      "needs_background": "light"
     },
     "output_type": "display_data"
    }
   ],
   "source": [
    "inning.value_counts().sort_index().plot.bar()\n",
    "plt.xticks(rotation=0)\n",
    "plt.ylabel('count')\n",
    "plt.xlabel('inning')\n",
    "plt.title('Ryu Hyun-jin inning')"
   ]
  },
  {
   "cell_type": "code",
   "execution_count": 36,
   "metadata": {},
   "outputs": [
    {
     "data": {
      "text/plain": [
       "187.0"
      ]
     },
     "execution_count": 36,
     "metadata": {},
     "output_type": "execute_result"
    }
   ],
   "source": [
    "# 총 이닝수\n",
    "total_inning = inning.sum()\n",
    "total_inning"
   ]
  },
  {
   "cell_type": "code",
   "execution_count": null,
   "metadata": {},
   "outputs": [],
   "source": []
  }
 ],
 "metadata": {
  "kernelspec": {
   "display_name": "Python 3",
   "language": "python",
   "name": "python3"
  },
  "language_info": {
   "codemirror_mode": {
    "name": "ipython",
    "version": 3
   },
   "file_extension": ".py",
   "mimetype": "text/x-python",
   "name": "python",
   "nbconvert_exporter": "python",
   "pygments_lexer": "ipython3",
   "version": "3.8.5"
  }
 },
 "nbformat": 4,
 "nbformat_minor": 4
}
