{
 "cells": [
  {
   "cell_type": "code",
   "execution_count": 1,
   "metadata": {},
   "outputs": [],
   "source": [
    "import pybaseball as pyb\n",
    "import pandas as pd\n",
    "import numpy as np\n",
    "import matplotlib.pyplot as plt\n",
    "import seaborn as sns\n",
    "import warnings\n",
    "warnings.filterwarnings('ignore')\n",
    "\n",
    "pd.set_option('display.max_columns', None)"
   ]
  },
  {
   "cell_type": "code",
   "execution_count": 2,
   "metadata": {},
   "outputs": [
    {
     "name": "stdout",
     "output_type": "stream",
     "text": [
      "This is a large query, it may take a moment to complete\n"
     ]
    },
    {
     "name": "stderr",
     "output_type": "stream",
     "text": [
      "100%|██████████| 186/186 [03:00<00:00,  1.03it/s]\n"
     ]
    }
   ],
   "source": [
    "mlb_21 = pyb.statcast('2021-04-01', '2021-10-03')"
   ]
  },
  {
   "cell_type": "code",
   "execution_count": 113,
   "metadata": {},
   "outputs": [],
   "source": [
    "pitch_count =mlb_21.groupby(['player_name']).agg({\n",
    "    'pitch_type': 'count',\n",
    "}).reset_index().rename(columns={'pitch_type': 'total_count'}).sort_values(by='total_count', ascending=False)\n",
    "over_1000 = np.array(pitch_count[pitch_count['total_count']>1000]['player_name'])"
   ]
  },
  {
   "cell_type": "code",
   "execution_count": 116,
   "metadata": {},
   "outputs": [],
   "source": [
    "over_1000_pitcher = mlb_21[mlb_21['player_name'].isin(over_1000)]\n",
    "over_1000_pitcher = pd.merge(over_1000_pitcher, pitch_count, on='player_name') \n",
    "type_count = over_1000_pitcher.groupby(['player_name', 'pitch_name']).agg({\n",
    "    'total_count': 'mean',\n",
    "    'pitch_type': 'count'\n",
    "}).reset_index().rename(columns={'pitch_type': 'count'})"
   ]
  },
  {
   "cell_type": "code",
   "execution_count": 120,
   "metadata": {},
   "outputs": [],
   "source": [
    "type_count['perc'] = round((type_count['count']/type_count['total_count'])*100,2)"
   ]
  },
  {
   "cell_type": "code",
   "execution_count": 129,
   "metadata": {},
   "outputs": [],
   "source": [
    "curveballer = type_count[(type_count['pitch_name']=='Curveball')&(type_count['perc']>15)]\n",
    "curveballer_list = np.array(curveballer['player_name'])"
   ]
  },
  {
   "cell_type": "code",
   "execution_count": 136,
   "metadata": {},
   "outputs": [],
   "source": [
    "curveballer_data = over_1000_pitcher[over_1000_pitcher['player_name'].isin(curveballer_list)]"
   ]
  },
  {
   "cell_type": "code",
   "execution_count": 144,
   "metadata": {},
   "outputs": [],
   "source": [
    "fastball_list = ['4-Seam Fastball', 'Sinker', 'Cutter']"
   ]
  },
  {
   "cell_type": "code",
   "execution_count": 145,
   "metadata": {},
   "outputs": [],
   "source": [
    "curveballer_data['fast_or_not'] = np.where(curveballer_data['pitch_name'].isin(fastball_list), 'Fastball', curveballer_data['pitch_name'])"
   ]
  },
  {
   "cell_type": "code",
   "execution_count": 147,
   "metadata": {},
   "outputs": [],
   "source": [
    "fast_curve_data = curveballer_data[(curveballer_data['fast_or_not']=='Fastball')|(curveballer_data['fast_or_not']=='Curveball')]"
   ]
  },
  {
   "cell_type": "code",
   "execution_count": 184,
   "metadata": {},
   "outputs": [],
   "source": [
    "player_diff=pd.DataFrame()\n",
    "for i in curveballer_list:\n",
    "    player_data = fast_curve_data[fast_curve_data['player_name']==i]\n",
    "    diff_calc = player_data.groupby(['fast_or_not']).agg({\n",
    "        'pitch_type': 'count',\n",
    "        'release_pos_x': 'mean',\n",
    "        'release_pos_z': 'mean'\n",
    "    }).reset_index().rename(columns={'fast_or_not':'type', 'pitch_type': 'count'})\n",
    "    diff_calc['diff_x'] = diff_calc['release_pos_x'].diff()\n",
    "    diff_calc['diff_z'] = diff_calc['release_pos_z'].diff()\n",
    "    diff_calc['diff'] = np.sqrt(diff_calc['diff_x']**2 + diff_calc['diff_z']**2)\n",
    "    diff = {'player_name': [i], 'diff': [diff_calc['diff'].sum()]}\n",
    "    diff_df = pd.DataFrame(data=diff)\n",
    "    player_diff = pd.concat([player_diff, diff_df])"
   ]
  },
  {
   "cell_type": "code",
   "execution_count": 186,
   "metadata": {},
   "outputs": [],
   "source": [
    "curveballer_data = pd.merge(curveballer_data, player_diff, on='player_name')"
   ]
  },
  {
   "cell_type": "code",
   "execution_count": 191,
   "metadata": {},
   "outputs": [],
   "source": [
    "swstr = ['swinging_strike', 'foul_tip', 'swinging_strike_blocked']"
   ]
  },
  {
   "cell_type": "code",
   "execution_count": 193,
   "metadata": {},
   "outputs": [],
   "source": [
    "curveballer_data['swstr'] = np.where(curveballer_data['description'].isin(swstr), 1, 0)"
   ]
  },
  {
   "cell_type": "code",
   "execution_count": 204,
   "metadata": {},
   "outputs": [
    {
     "data": {
      "text/html": [
       "<div>\n",
       "<style scoped>\n",
       "    .dataframe tbody tr th:only-of-type {\n",
       "        vertical-align: middle;\n",
       "    }\n",
       "\n",
       "    .dataframe tbody tr th {\n",
       "        vertical-align: top;\n",
       "    }\n",
       "\n",
       "    .dataframe thead th {\n",
       "        text-align: right;\n",
       "    }\n",
       "</style>\n",
       "<table border=\"1\" class=\"dataframe\">\n",
       "  <thead>\n",
       "    <tr style=\"text-align: right;\">\n",
       "      <th></th>\n",
       "      <th>player_name</th>\n",
       "      <th>fast_or_not</th>\n",
       "      <th>pitch_type</th>\n",
       "      <th>swstr</th>\n",
       "      <th>diff</th>\n",
       "      <th>swstr%</th>\n",
       "    </tr>\n",
       "  </thead>\n",
       "  <tbody>\n",
       "    <tr>\n",
       "      <th>0</th>\n",
       "      <td>Anderson, Ian</td>\n",
       "      <td>Changeup</td>\n",
       "      <td>684</td>\n",
       "      <td>128</td>\n",
       "      <td>0.086285</td>\n",
       "      <td>0.187135</td>\n",
       "    </tr>\n",
       "    <tr>\n",
       "      <th>1</th>\n",
       "      <td>Anderson, Ian</td>\n",
       "      <td>Curveball</td>\n",
       "      <td>460</td>\n",
       "      <td>60</td>\n",
       "      <td>0.086285</td>\n",
       "      <td>0.130435</td>\n",
       "    </tr>\n",
       "    <tr>\n",
       "      <th>2</th>\n",
       "      <td>Anderson, Ian</td>\n",
       "      <td>Fastball</td>\n",
       "      <td>1031</td>\n",
       "      <td>98</td>\n",
       "      <td>0.086285</td>\n",
       "      <td>0.095053</td>\n",
       "    </tr>\n",
       "    <tr>\n",
       "      <th>3</th>\n",
       "      <td>Arrieta, Jake</td>\n",
       "      <td>Changeup</td>\n",
       "      <td>132</td>\n",
       "      <td>9</td>\n",
       "      <td>0.132319</td>\n",
       "      <td>0.068182</td>\n",
       "    </tr>\n",
       "    <tr>\n",
       "      <th>4</th>\n",
       "      <td>Arrieta, Jake</td>\n",
       "      <td>Curveball</td>\n",
       "      <td>269</td>\n",
       "      <td>40</td>\n",
       "      <td>0.132319</td>\n",
       "      <td>0.148699</td>\n",
       "    </tr>\n",
       "    <tr>\n",
       "      <th>...</th>\n",
       "      <td>...</td>\n",
       "      <td>...</td>\n",
       "      <td>...</td>\n",
       "      <td>...</td>\n",
       "      <td>...</td>\n",
       "      <td>...</td>\n",
       "    </tr>\n",
       "    <tr>\n",
       "      <th>217</th>\n",
       "      <td>Woodruff, Brandon</td>\n",
       "      <td>Fastball</td>\n",
       "      <td>1698</td>\n",
       "      <td>220</td>\n",
       "      <td>0.075985</td>\n",
       "      <td>0.129564</td>\n",
       "    </tr>\n",
       "    <tr>\n",
       "      <th>218</th>\n",
       "      <td>Woodruff, Brandon</td>\n",
       "      <td>Slider</td>\n",
       "      <td>244</td>\n",
       "      <td>34</td>\n",
       "      <td>0.075985</td>\n",
       "      <td>0.139344</td>\n",
       "    </tr>\n",
       "    <tr>\n",
       "      <th>219</th>\n",
       "      <td>Yarbrough, Ryan</td>\n",
       "      <td>Changeup</td>\n",
       "      <td>697</td>\n",
       "      <td>92</td>\n",
       "      <td>0.115745</td>\n",
       "      <td>0.131994</td>\n",
       "    </tr>\n",
       "    <tr>\n",
       "      <th>220</th>\n",
       "      <td>Yarbrough, Ryan</td>\n",
       "      <td>Curveball</td>\n",
       "      <td>449</td>\n",
       "      <td>76</td>\n",
       "      <td>0.115745</td>\n",
       "      <td>0.169265</td>\n",
       "    </tr>\n",
       "    <tr>\n",
       "      <th>221</th>\n",
       "      <td>Yarbrough, Ryan</td>\n",
       "      <td>Fastball</td>\n",
       "      <td>1342</td>\n",
       "      <td>88</td>\n",
       "      <td>0.115745</td>\n",
       "      <td>0.065574</td>\n",
       "    </tr>\n",
       "  </tbody>\n",
       "</table>\n",
       "<p>222 rows × 6 columns</p>\n",
       "</div>"
      ],
      "text/plain": [
       "           player_name fast_or_not  pitch_type  swstr      diff    swstr%\n",
       "0        Anderson, Ian    Changeup         684    128  0.086285  0.187135\n",
       "1        Anderson, Ian   Curveball         460     60  0.086285  0.130435\n",
       "2        Anderson, Ian    Fastball        1031     98  0.086285  0.095053\n",
       "3        Arrieta, Jake    Changeup         132      9  0.132319  0.068182\n",
       "4        Arrieta, Jake   Curveball         269     40  0.132319  0.148699\n",
       "..                 ...         ...         ...    ...       ...       ...\n",
       "217  Woodruff, Brandon    Fastball        1698    220  0.075985  0.129564\n",
       "218  Woodruff, Brandon      Slider         244     34  0.075985  0.139344\n",
       "219    Yarbrough, Ryan    Changeup         697     92  0.115745  0.131994\n",
       "220    Yarbrough, Ryan   Curveball         449     76  0.115745  0.169265\n",
       "221    Yarbrough, Ryan    Fastball        1342     88  0.115745  0.065574\n",
       "\n",
       "[222 rows x 6 columns]"
      ]
     },
     "execution_count": 204,
     "metadata": {},
     "output_type": "execute_result"
    }
   ],
   "source": [
    "type_swstr = curveballer_data.groupby(['player_name','fast_or_not']).agg({'pitch_type': 'count', 'swstr': 'sum', 'diff': 'mean'}).reset_index()\n",
    "type_swstr['swstr%'] = type_swstr['swstr']/type_swstr['pitch_type']\n",
    "type_swstr"
   ]
  },
  {
   "cell_type": "code",
   "execution_count": 205,
   "metadata": {},
   "outputs": [],
   "source": [
    "final = type_swstr[(type_swstr['fast_or_not']=='Fastball')|(type_swstr['fast_or_not']=='Curveball')]"
   ]
  },
  {
   "cell_type": "code",
   "execution_count": 206,
   "metadata": {},
   "outputs": [],
   "source": [
    "final_fast = final[final['fast_or_not']=='Fastball']"
   ]
  },
  {
   "cell_type": "code",
   "execution_count": 210,
   "metadata": {},
   "outputs": [],
   "source": [
    "final_curve = final[final['fast_or_not']=='Curveball']"
   ]
  },
  {
   "cell_type": "code",
   "execution_count": 212,
   "metadata": {},
   "outputs": [
    {
     "data": {
      "text/plain": [
       "<seaborn.axisgrid.FacetGrid at 0x275820465e0>"
      ]
     },
     "execution_count": 212,
     "metadata": {},
     "output_type": "execute_result"
    },
    {
     "data": {
      "image/png": "[encoded data removed]",
      "text/plain": [
       "<Figure size 360x360 with 1 Axes>"
      ]
     },
     "metadata": {
      "needs_background": "light"
     },
     "output_type": "display_data"
    }
   ],
   "source": [
    "sns.lmplot(x='diff',y='swstr%',data=final_fast)"
   ]
  },
  {
   "cell_type": "code",
   "execution_count": 213,
   "metadata": {},
   "outputs": [
    {
     "data": {
      "text/plain": [
       "<seaborn.axisgrid.FacetGrid at 0x275e2baf7f0>"
      ]
     },
     "execution_count": 213,
     "metadata": {},
     "output_type": "execute_result"
    },
    {
     "data": {
      "image/png": "[encoded data removed]",
      "text/plain": [
       "<Figure size 360x360 with 1 Axes>"
      ]
     },
     "metadata": {
      "needs_background": "light"
     },
     "output_type": "display_data"
    }
   ],
   "source": [
    "sns.lmplot(x='diff',y='swstr%',data=final_curve)"
   ]
  },
  {
   "cell_type": "code",
   "execution_count": 214,
   "metadata": {},
   "outputs": [
    {
     "data": {
      "text/html": [
       "<div>\n",
       "<style scoped>\n",
       "    .dataframe tbody tr th:only-of-type {\n",
       "        vertical-align: middle;\n",
       "    }\n",
       "\n",
       "    .dataframe tbody tr th {\n",
       "        vertical-align: top;\n",
       "    }\n",
       "\n",
       "    .dataframe thead th {\n",
       "        text-align: right;\n",
       "    }\n",
       "</style>\n",
       "<table border=\"1\" class=\"dataframe\">\n",
       "  <thead>\n",
       "    <tr style=\"text-align: right;\">\n",
       "      <th></th>\n",
       "      <th>player_name</th>\n",
       "      <th>fast_or_not</th>\n",
       "      <th>pitch_type</th>\n",
       "      <th>swstr</th>\n",
       "      <th>diff</th>\n",
       "      <th>swstr%</th>\n",
       "    </tr>\n",
       "  </thead>\n",
       "  <tbody>\n",
       "    <tr>\n",
       "      <th>1</th>\n",
       "      <td>Anderson, Ian</td>\n",
       "      <td>Curveball</td>\n",
       "      <td>460</td>\n",
       "      <td>60</td>\n",
       "      <td>0.086285</td>\n",
       "      <td>0.130435</td>\n",
       "    </tr>\n",
       "    <tr>\n",
       "      <th>2</th>\n",
       "      <td>Anderson, Ian</td>\n",
       "      <td>Fastball</td>\n",
       "      <td>1031</td>\n",
       "      <td>98</td>\n",
       "      <td>0.086285</td>\n",
       "      <td>0.095053</td>\n",
       "    </tr>\n",
       "    <tr>\n",
       "      <th>4</th>\n",
       "      <td>Arrieta, Jake</td>\n",
       "      <td>Curveball</td>\n",
       "      <td>269</td>\n",
       "      <td>40</td>\n",
       "      <td>0.132319</td>\n",
       "      <td>0.148699</td>\n",
       "    </tr>\n",
       "    <tr>\n",
       "      <th>5</th>\n",
       "      <td>Arrieta, Jake</td>\n",
       "      <td>Fastball</td>\n",
       "      <td>930</td>\n",
       "      <td>43</td>\n",
       "      <td>0.132319</td>\n",
       "      <td>0.046237</td>\n",
       "    </tr>\n",
       "    <tr>\n",
       "      <th>7</th>\n",
       "      <td>Barlow, Scott</td>\n",
       "      <td>Curveball</td>\n",
       "      <td>247</td>\n",
       "      <td>49</td>\n",
       "      <td>0.160509</td>\n",
       "      <td>0.198381</td>\n",
       "    </tr>\n",
       "    <tr>\n",
       "      <th>...</th>\n",
       "      <td>...</td>\n",
       "      <td>...</td>\n",
       "      <td>...</td>\n",
       "      <td>...</td>\n",
       "      <td>...</td>\n",
       "      <td>...</td>\n",
       "    </tr>\n",
       "    <tr>\n",
       "      <th>214</th>\n",
       "      <td>Wainwright, Adam</td>\n",
       "      <td>Fastball</td>\n",
       "      <td>1825</td>\n",
       "      <td>118</td>\n",
       "      <td>0.112621</td>\n",
       "      <td>0.064658</td>\n",
       "    </tr>\n",
       "    <tr>\n",
       "      <th>216</th>\n",
       "      <td>Woodruff, Brandon</td>\n",
       "      <td>Curveball</td>\n",
       "      <td>468</td>\n",
       "      <td>62</td>\n",
       "      <td>0.075985</td>\n",
       "      <td>0.132479</td>\n",
       "    </tr>\n",
       "    <tr>\n",
       "      <th>217</th>\n",
       "      <td>Woodruff, Brandon</td>\n",
       "      <td>Fastball</td>\n",
       "      <td>1698</td>\n",
       "      <td>220</td>\n",
       "      <td>0.075985</td>\n",
       "      <td>0.129564</td>\n",
       "    </tr>\n",
       "    <tr>\n",
       "      <th>220</th>\n",
       "      <td>Yarbrough, Ryan</td>\n",
       "      <td>Curveball</td>\n",
       "      <td>449</td>\n",
       "      <td>76</td>\n",
       "      <td>0.115745</td>\n",
       "      <td>0.169265</td>\n",
       "    </tr>\n",
       "    <tr>\n",
       "      <th>221</th>\n",
       "      <td>Yarbrough, Ryan</td>\n",
       "      <td>Fastball</td>\n",
       "      <td>1342</td>\n",
       "      <td>88</td>\n",
       "      <td>0.115745</td>\n",
       "      <td>0.065574</td>\n",
       "    </tr>\n",
       "  </tbody>\n",
       "</table>\n",
       "<p>130 rows × 6 columns</p>\n",
       "</div>"
      ],
      "text/plain": [
       "           player_name fast_or_not  pitch_type  swstr      diff    swstr%\n",
       "1        Anderson, Ian   Curveball         460     60  0.086285  0.130435\n",
       "2        Anderson, Ian    Fastball        1031     98  0.086285  0.095053\n",
       "4        Arrieta, Jake   Curveball         269     40  0.132319  0.148699\n",
       "5        Arrieta, Jake    Fastball         930     43  0.132319  0.046237\n",
       "7        Barlow, Scott   Curveball         247     49  0.160509  0.198381\n",
       "..                 ...         ...         ...    ...       ...       ...\n",
       "214   Wainwright, Adam    Fastball        1825    118  0.112621  0.064658\n",
       "216  Woodruff, Brandon   Curveball         468     62  0.075985  0.132479\n",
       "217  Woodruff, Brandon    Fastball        1698    220  0.075985  0.129564\n",
       "220    Yarbrough, Ryan   Curveball         449     76  0.115745  0.169265\n",
       "221    Yarbrough, Ryan    Fastball        1342     88  0.115745  0.065574\n",
       "\n",
       "[130 rows x 6 columns]"
      ]
     },
     "execution_count": 214,
     "metadata": {},
     "output_type": "execute_result"
    }
   ],
   "source": [
    "final"
   ]
  },
  {
   "cell_type": "code",
   "execution_count": 216,
   "metadata": {},
   "outputs": [],
   "source": [
    "final_total = final.groupby('player_name').agg({'pitch_type': 'sum', 'swstr': 'sum', 'diff': 'mean'}).reset_index()\n",
    "final_total['swstr%'] = final_total['swstr']/final_total['pitch_type']"
   ]
  },
  {
   "cell_type": "code",
   "execution_count": 217,
   "metadata": {},
   "outputs": [
    {
     "data": {
      "text/plain": [
       "<seaborn.axisgrid.FacetGrid at 0x275820ace20>"
      ]
     },
     "execution_count": 217,
     "metadata": {},
     "output_type": "execute_result"
    },
    {
     "data": {
      "image/png": "[encoded data removed]",
      "text/plain": [
       "<Figure size 360x360 with 1 Axes>"
      ]
     },
     "metadata": {
      "needs_background": "light"
     },
     "output_type": "display_data"
    }
   ],
   "source": [
    "sns.lmplot(x='diff',y='swstr%',data=final_total)"
   ]
  },
  {
   "cell_type": "code",
   "execution_count": null,
   "metadata": {},
   "outputs": [],
   "source": []
  }
 ],
 "metadata": {
  "kernelspec": {
   "display_name": "Python 3",
   "language": "python",
   "name": "python3"
  },
  "language_info": {
   "codemirror_mode": {
    "name": "ipython",
    "version": 3
   },
   "file_extension": ".py",
   "mimetype": "text/x-python",
   "name": "python",
   "nbconvert_exporter": "python",
   "pygments_lexer": "ipython3",
   "version": "3.8.5"
  }
 },
 "nbformat": 4,
 "nbformat_minor": 4
}
