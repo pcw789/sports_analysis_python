{
 "cells": [
  {
   "cell_type": "markdown",
   "metadata": {},
   "source": [
    "# 포심 패스트볼"
   ]
  },
  {
   "cell_type": "markdown",
   "metadata": {},
   "source": [
    "포심 패스트볼 데이터로 공의 회전수, 구속, 타구 속도 등의 관계를 확인해보는 분석"
   ]
  },
  {
   "cell_type": "code",
   "execution_count": 1,
   "metadata": {},
   "outputs": [],
   "source": [
    "import pandas as pd\n",
    "import numpy as np\n",
    "import matplotlib.pyplot as plt\n",
    "\n",
    "pd.set_option('display.max_columns', None)"
   ]
  },
  {
   "cell_type": "markdown",
   "metadata": {},
   "source": [
    "## 1. FF (포심 패스트볼)"
   ]
  },
  {
   "cell_type": "code",
   "execution_count": 2,
   "metadata": {},
   "outputs": [],
   "source": [
    "ff = pd.read_csv('2021_ff.csv')"
   ]
  },
  {
   "cell_type": "code",
   "execution_count": 3,
   "metadata": {},
   "outputs": [
    {
     "data": {
      "text/html": [
       "<div>\n",
       "<style scoped>\n",
       "    .dataframe tbody tr th:only-of-type {\n",
       "        vertical-align: middle;\n",
       "    }\n",
       "\n",
       "    .dataframe tbody tr th {\n",
       "        vertical-align: top;\n",
       "    }\n",
       "\n",
       "    .dataframe thead th {\n",
       "        text-align: right;\n",
       "    }\n",
       "</style>\n",
       "<table border=\"1\" class=\"dataframe\">\n",
       "  <thead>\n",
       "    <tr style=\"text-align: right;\">\n",
       "      <th></th>\n",
       "      <th>pitches</th>\n",
       "      <th>player_id</th>\n",
       "      <th>player_name</th>\n",
       "      <th>total_pitches</th>\n",
       "      <th>pitch_percent</th>\n",
       "      <th>ba</th>\n",
       "      <th>iso</th>\n",
       "      <th>babip</th>\n",
       "      <th>slg</th>\n",
       "      <th>woba</th>\n",
       "      <th>xwoba</th>\n",
       "      <th>xba</th>\n",
       "      <th>hits</th>\n",
       "      <th>abs</th>\n",
       "      <th>launch_speed</th>\n",
       "      <th>launch_angle</th>\n",
       "      <th>spin_rate</th>\n",
       "      <th>velocity</th>\n",
       "      <th>effective_speed</th>\n",
       "      <th>whiffs</th>\n",
       "      <th>swings</th>\n",
       "      <th>takes</th>\n",
       "      <th>eff_min_vel</th>\n",
       "      <th>release_extension</th>\n",
       "      <th>pos3_int_start_distance</th>\n",
       "      <th>pos4_int_start_distance</th>\n",
       "      <th>pos5_int_start_distance</th>\n",
       "      <th>pos6_int_start_distance</th>\n",
       "      <th>pos7_int_start_distance</th>\n",
       "      <th>pos8_int_start_distance</th>\n",
       "      <th>pos9_int_start_distance</th>\n",
       "    </tr>\n",
       "  </thead>\n",
       "  <tbody>\n",
       "    <tr>\n",
       "      <th>0</th>\n",
       "      <td>1866</td>\n",
       "      <td>592662</td>\n",
       "      <td>Ray, Robbie</td>\n",
       "      <td>3141</td>\n",
       "      <td>59.4</td>\n",
       "      <td>0.222</td>\n",
       "      <td>0.208</td>\n",
       "      <td>0.252</td>\n",
       "      <td>0.431</td>\n",
       "      <td>0.307</td>\n",
       "      <td>0.326</td>\n",
       "      <td>0.243</td>\n",
       "      <td>96.0</td>\n",
       "      <td>432.0</td>\n",
       "      <td>90.8</td>\n",
       "      <td>21.8</td>\n",
       "      <td>2272</td>\n",
       "      <td>94.8</td>\n",
       "      <td>94.79</td>\n",
       "      <td>239</td>\n",
       "      <td>997</td>\n",
       "      <td>869</td>\n",
       "      <td>0.0</td>\n",
       "      <td>6.48</td>\n",
       "      <td>106</td>\n",
       "      <td>154</td>\n",
       "      <td>120</td>\n",
       "      <td>147</td>\n",
       "      <td>298</td>\n",
       "      <td>319</td>\n",
       "      <td>290</td>\n",
       "    </tr>\n",
       "    <tr>\n",
       "      <th>1</th>\n",
       "      <td>1697</td>\n",
       "      <td>641816</td>\n",
       "      <td>Mahle, Tyler</td>\n",
       "      <td>3196</td>\n",
       "      <td>53.1</td>\n",
       "      <td>0.236</td>\n",
       "      <td>0.199</td>\n",
       "      <td>0.341</td>\n",
       "      <td>0.435</td>\n",
       "      <td>0.334</td>\n",
       "      <td>0.307</td>\n",
       "      <td>0.215</td>\n",
       "      <td>78.0</td>\n",
       "      <td>331.0</td>\n",
       "      <td>88.0</td>\n",
       "      <td>16.9</td>\n",
       "      <td>2335</td>\n",
       "      <td>94.0</td>\n",
       "      <td>94.41</td>\n",
       "      <td>209</td>\n",
       "      <td>776</td>\n",
       "      <td>921</td>\n",
       "      <td>0.4</td>\n",
       "      <td>6.61</td>\n",
       "      <td>113</td>\n",
       "      <td>153</td>\n",
       "      <td>117</td>\n",
       "      <td>148</td>\n",
       "      <td>293</td>\n",
       "      <td>318</td>\n",
       "      <td>290</td>\n",
       "    </tr>\n",
       "    <tr>\n",
       "      <th>2</th>\n",
       "      <td>1538</td>\n",
       "      <td>592332</td>\n",
       "      <td>Gausman, Kevin</td>\n",
       "      <td>3002</td>\n",
       "      <td>51.2</td>\n",
       "      <td>0.257</td>\n",
       "      <td>0.157</td>\n",
       "      <td>0.293</td>\n",
       "      <td>0.415</td>\n",
       "      <td>0.317</td>\n",
       "      <td>0.351</td>\n",
       "      <td>0.277</td>\n",
       "      <td>95.0</td>\n",
       "      <td>369.0</td>\n",
       "      <td>89.9</td>\n",
       "      <td>16.6</td>\n",
       "      <td>2281</td>\n",
       "      <td>94.6</td>\n",
       "      <td>94.60</td>\n",
       "      <td>154</td>\n",
       "      <td>816</td>\n",
       "      <td>722</td>\n",
       "      <td>0.0</td>\n",
       "      <td>6.48</td>\n",
       "      <td>111</td>\n",
       "      <td>155</td>\n",
       "      <td>114</td>\n",
       "      <td>150</td>\n",
       "      <td>298</td>\n",
       "      <td>323</td>\n",
       "      <td>295</td>\n",
       "    </tr>\n",
       "    <tr>\n",
       "      <th>3</th>\n",
       "      <td>1442</td>\n",
       "      <td>457918</td>\n",
       "      <td>Happ, J.A.</td>\n",
       "      <td>2674</td>\n",
       "      <td>53.9</td>\n",
       "      <td>0.266</td>\n",
       "      <td>0.266</td>\n",
       "      <td>0.294</td>\n",
       "      <td>0.532</td>\n",
       "      <td>0.377</td>\n",
       "      <td>0.365</td>\n",
       "      <td>0.255</td>\n",
       "      <td>78.0</td>\n",
       "      <td>293.0</td>\n",
       "      <td>91.7</td>\n",
       "      <td>24.0</td>\n",
       "      <td>2298</td>\n",
       "      <td>91.0</td>\n",
       "      <td>90.72</td>\n",
       "      <td>136</td>\n",
       "      <td>671</td>\n",
       "      <td>771</td>\n",
       "      <td>-0.3</td>\n",
       "      <td>6.12</td>\n",
       "      <td>106</td>\n",
       "      <td>154</td>\n",
       "      <td>116</td>\n",
       "      <td>148</td>\n",
       "      <td>299</td>\n",
       "      <td>327</td>\n",
       "      <td>295</td>\n",
       "    </tr>\n",
       "    <tr>\n",
       "      <th>4</th>\n",
       "      <td>1403</td>\n",
       "      <td>621111</td>\n",
       "      <td>Buehler, Walker</td>\n",
       "      <td>3152</td>\n",
       "      <td>44.5</td>\n",
       "      <td>0.202</td>\n",
       "      <td>0.164</td>\n",
       "      <td>0.241</td>\n",
       "      <td>0.366</td>\n",
       "      <td>0.292</td>\n",
       "      <td>0.330</td>\n",
       "      <td>0.241</td>\n",
       "      <td>58.0</td>\n",
       "      <td>287.0</td>\n",
       "      <td>89.3</td>\n",
       "      <td>16.9</td>\n",
       "      <td>2472</td>\n",
       "      <td>95.3</td>\n",
       "      <td>95.53</td>\n",
       "      <td>127</td>\n",
       "      <td>627</td>\n",
       "      <td>776</td>\n",
       "      <td>0.2</td>\n",
       "      <td>6.39</td>\n",
       "      <td>113</td>\n",
       "      <td>156</td>\n",
       "      <td>116</td>\n",
       "      <td>151</td>\n",
       "      <td>298</td>\n",
       "      <td>319</td>\n",
       "      <td>294</td>\n",
       "    </tr>\n",
       "  </tbody>\n",
       "</table>\n",
       "</div>"
      ],
      "text/plain": [
       "   pitches  player_id      player_name  total_pitches  pitch_percent     ba  \\\n",
       "0     1866     592662      Ray, Robbie           3141           59.4  0.222   \n",
       "1     1697     641816     Mahle, Tyler           3196           53.1  0.236   \n",
       "2     1538     592332   Gausman, Kevin           3002           51.2  0.257   \n",
       "3     1442     457918       Happ, J.A.           2674           53.9  0.266   \n",
       "4     1403     621111  Buehler, Walker           3152           44.5  0.202   \n",
       "\n",
       "     iso  babip    slg   woba  xwoba    xba  hits    abs  launch_speed  \\\n",
       "0  0.208  0.252  0.431  0.307  0.326  0.243  96.0  432.0          90.8   \n",
       "1  0.199  0.341  0.435  0.334  0.307  0.215  78.0  331.0          88.0   \n",
       "2  0.157  0.293  0.415  0.317  0.351  0.277  95.0  369.0          89.9   \n",
       "3  0.266  0.294  0.532  0.377  0.365  0.255  78.0  293.0          91.7   \n",
       "4  0.164  0.241  0.366  0.292  0.330  0.241  58.0  287.0          89.3   \n",
       "\n",
       "   launch_angle  spin_rate  velocity  effective_speed  whiffs  swings  takes  \\\n",
       "0          21.8       2272      94.8            94.79     239     997    869   \n",
       "1          16.9       2335      94.0            94.41     209     776    921   \n",
       "2          16.6       2281      94.6            94.60     154     816    722   \n",
       "3          24.0       2298      91.0            90.72     136     671    771   \n",
       "4          16.9       2472      95.3            95.53     127     627    776   \n",
       "\n",
       "   eff_min_vel  release_extension  pos3_int_start_distance  \\\n",
       "0          0.0               6.48                      106   \n",
       "1          0.4               6.61                      113   \n",
       "2          0.0               6.48                      111   \n",
       "3         -0.3               6.12                      106   \n",
       "4          0.2               6.39                      113   \n",
       "\n",
       "   pos4_int_start_distance  pos5_int_start_distance  pos6_int_start_distance  \\\n",
       "0                      154                      120                      147   \n",
       "1                      153                      117                      148   \n",
       "2                      155                      114                      150   \n",
       "3                      154                      116                      148   \n",
       "4                      156                      116                      151   \n",
       "\n",
       "   pos7_int_start_distance  pos8_int_start_distance  pos9_int_start_distance  \n",
       "0                      298                      319                      290  \n",
       "1                      293                      318                      290  \n",
       "2                      298                      323                      295  \n",
       "3                      299                      327                      295  \n",
       "4                      298                      319                      294  "
      ]
     },
     "execution_count": 3,
     "metadata": {},
     "output_type": "execute_result"
    }
   ],
   "source": [
    "ff.head()"
   ]
  },
  {
   "cell_type": "markdown",
   "metadata": {},
   "source": [
    "### 1-1 구속 vs 회전수"
   ]
  },
  {
   "cell_type": "markdown",
   "metadata": {},
   "source": [
    "#### 데이터 정리"
   ]
  },
  {
   "cell_type": "code",
   "execution_count": 4,
   "metadata": {},
   "outputs": [],
   "source": [
    "# 최소 투구수 50개 이상 데이터만 추출\n",
    "ff_100 = ff[ff['pitches']>100]"
   ]
  },
  {
   "cell_type": "code",
   "execution_count": 5,
   "metadata": {},
   "outputs": [
    {
     "data": {
      "text/html": [
       "<div>\n",
       "<style scoped>\n",
       "    .dataframe tbody tr th:only-of-type {\n",
       "        vertical-align: middle;\n",
       "    }\n",
       "\n",
       "    .dataframe tbody tr th {\n",
       "        vertical-align: top;\n",
       "    }\n",
       "\n",
       "    .dataframe thead th {\n",
       "        text-align: right;\n",
       "    }\n",
       "</style>\n",
       "<table border=\"1\" class=\"dataframe\">\n",
       "  <thead>\n",
       "    <tr style=\"text-align: right;\">\n",
       "      <th></th>\n",
       "      <th>velocity</th>\n",
       "      <th>spin_rate</th>\n",
       "    </tr>\n",
       "  </thead>\n",
       "  <tbody>\n",
       "    <tr>\n",
       "      <th>count</th>\n",
       "      <td>513.000000</td>\n",
       "      <td>513.000000</td>\n",
       "    </tr>\n",
       "    <tr>\n",
       "      <th>mean</th>\n",
       "      <td>93.569006</td>\n",
       "      <td>2264.222222</td>\n",
       "    </tr>\n",
       "    <tr>\n",
       "      <th>std</th>\n",
       "      <td>2.226175</td>\n",
       "      <td>148.748258</td>\n",
       "    </tr>\n",
       "    <tr>\n",
       "      <th>min</th>\n",
       "      <td>82.700000</td>\n",
       "      <td>1769.000000</td>\n",
       "    </tr>\n",
       "    <tr>\n",
       "      <th>25%</th>\n",
       "      <td>92.400000</td>\n",
       "      <td>2164.000000</td>\n",
       "    </tr>\n",
       "    <tr>\n",
       "      <th>50%</th>\n",
       "      <td>93.700000</td>\n",
       "      <td>2259.000000</td>\n",
       "    </tr>\n",
       "    <tr>\n",
       "      <th>75%</th>\n",
       "      <td>95.000000</td>\n",
       "      <td>2363.000000</td>\n",
       "    </tr>\n",
       "    <tr>\n",
       "      <th>max</th>\n",
       "      <td>99.200000</td>\n",
       "      <td>2783.000000</td>\n",
       "    </tr>\n",
       "  </tbody>\n",
       "</table>\n",
       "</div>"
      ],
      "text/plain": [
       "         velocity    spin_rate\n",
       "count  513.000000   513.000000\n",
       "mean    93.569006  2264.222222\n",
       "std      2.226175   148.748258\n",
       "min     82.700000  1769.000000\n",
       "25%     92.400000  2164.000000\n",
       "50%     93.700000  2259.000000\n",
       "75%     95.000000  2363.000000\n",
       "max     99.200000  2783.000000"
      ]
     },
     "execution_count": 5,
     "metadata": {},
     "output_type": "execute_result"
    }
   ],
   "source": [
    "ff_100[['velocity','spin_rate']].describe()"
   ]
  },
  {
   "cell_type": "code",
   "execution_count": 6,
   "metadata": {},
   "outputs": [
    {
     "data": {
      "image/png": "[encoded data removed]",
      "text/plain": [
       "<Figure size 720x216 with 2 Axes>"
      ]
     },
     "metadata": {
      "needs_background": "light"
     },
     "output_type": "display_data"
    }
   ],
   "source": [
    "# box plot으로 outlier 확인\n",
    "plt.figure(figsize=(10,3))\n",
    "plt.subplot(1,2,1)\n",
    "plt.boxplot(ff_100['velocity'])\n",
    "plt.xticks([1], ['velocity'])\n",
    "plt.subplot(1,2,2)\n",
    "plt.boxplot(ff_100['spin_rate'])\n",
    "plt.xticks([1], ['spin_rate'])\n",
    "plt.show()"
   ]
  },
  {
   "cell_type": "code",
   "execution_count": 7,
   "metadata": {},
   "outputs": [],
   "source": [
    "# outlier 제거\n",
    "ff_2021 = ff_100[(ff_100['velocity']<98) & (ff_100['velocity']>88)]\n",
    "ff_2021 = ff_2021[(ff_2021['spin_rate']<2650) & (ff_2021['spin_rate']>1850)]"
   ]
  },
  {
   "cell_type": "code",
   "execution_count": 8,
   "metadata": {},
   "outputs": [
    {
     "name": "stdout",
     "output_type": "stream",
     "text": [
      "21 리그 FF 평균 구속 = 93.76 mph\n"
     ]
    }
   ],
   "source": [
    "lg_total_pitch = ff_2021['pitches'].sum()\n",
    "lg_total_speed = ff_2021['pitches']*ff_2021['velocity']\n",
    "lg_mean_ff_speed = lg_total_speed.sum() / lg_total_pitch\n",
    "print('21 리그 FF 평균 구속 = {0} mph'.format(lg_mean_ff_speed.round(2)))"
   ]
  },
  {
   "cell_type": "code",
   "execution_count": 9,
   "metadata": {},
   "outputs": [
    {
     "name": "stdout",
     "output_type": "stream",
     "text": [
      "21 리그 FF 평균 Spin Rate = 2267.17 rpm\n"
     ]
    }
   ],
   "source": [
    "lg_total_pitch = ff_2021['total_pitches'].sum()\n",
    "lg_total_spin = ff_2021['total_pitches']*ff_2021['spin_rate']\n",
    "lg_mean_ff_spin = lg_total_spin.sum() / lg_total_pitch\n",
    "print('21 리그 FF 평균 Spin Rate = {0} rpm'.format(lg_mean_ff_spin.round(2)))"
   ]
  },
  {
   "cell_type": "markdown",
   "metadata": {},
   "source": [
    "#### Spin_rate 상위 그룹과 하위 그룹 구속 비교"
   ]
  },
  {
   "cell_type": "code",
   "execution_count": 10,
   "metadata": {},
   "outputs": [
    {
     "data": {
      "text/html": [
       "<div>\n",
       "<style scoped>\n",
       "    .dataframe tbody tr th:only-of-type {\n",
       "        vertical-align: middle;\n",
       "    }\n",
       "\n",
       "    .dataframe tbody tr th {\n",
       "        vertical-align: top;\n",
       "    }\n",
       "\n",
       "    .dataframe thead th {\n",
       "        text-align: right;\n",
       "    }\n",
       "</style>\n",
       "<table border=\"1\" class=\"dataframe\">\n",
       "  <thead>\n",
       "    <tr style=\"text-align: right;\">\n",
       "      <th></th>\n",
       "      <th>velocity</th>\n",
       "      <th>spin_rate</th>\n",
       "    </tr>\n",
       "  </thead>\n",
       "  <tbody>\n",
       "    <tr>\n",
       "      <th>count</th>\n",
       "      <td>494.000000</td>\n",
       "      <td>494.000000</td>\n",
       "    </tr>\n",
       "    <tr>\n",
       "      <th>mean</th>\n",
       "      <td>93.623279</td>\n",
       "      <td>2265.763158</td>\n",
       "    </tr>\n",
       "    <tr>\n",
       "      <th>std</th>\n",
       "      <td>1.978988</td>\n",
       "      <td>139.655090</td>\n",
       "    </tr>\n",
       "    <tr>\n",
       "      <th>min</th>\n",
       "      <td>88.100000</td>\n",
       "      <td>1874.000000</td>\n",
       "    </tr>\n",
       "    <tr>\n",
       "      <th>25%</th>\n",
       "      <td>92.500000</td>\n",
       "      <td>2168.000000</td>\n",
       "    </tr>\n",
       "    <tr>\n",
       "      <th>50%</th>\n",
       "      <td>93.700000</td>\n",
       "      <td>2260.500000</td>\n",
       "    </tr>\n",
       "    <tr>\n",
       "      <th>75%</th>\n",
       "      <td>94.900000</td>\n",
       "      <td>2362.750000</td>\n",
       "    </tr>\n",
       "    <tr>\n",
       "      <th>max</th>\n",
       "      <td>97.800000</td>\n",
       "      <td>2613.000000</td>\n",
       "    </tr>\n",
       "  </tbody>\n",
       "</table>\n",
       "</div>"
      ],
      "text/plain": [
       "         velocity    spin_rate\n",
       "count  494.000000   494.000000\n",
       "mean    93.623279  2265.763158\n",
       "std      1.978988   139.655090\n",
       "min     88.100000  1874.000000\n",
       "25%     92.500000  2168.000000\n",
       "50%     93.700000  2260.500000\n",
       "75%     94.900000  2362.750000\n",
       "max     97.800000  2613.000000"
      ]
     },
     "execution_count": 10,
     "metadata": {},
     "output_type": "execute_result"
    }
   ],
   "source": [
    "ff_2021[['velocity','spin_rate']].describe()"
   ]
  },
  {
   "cell_type": "code",
   "execution_count": 11,
   "metadata": {},
   "outputs": [],
   "source": [
    "# 상위 25%, 하위 25%\n",
    "high_spin = ff_2021[ff_2021['spin_rate']>=2362.75]\n",
    "low_spin = ff_2021[ff_2021['spin_rate']<=2168]"
   ]
  },
  {
   "cell_type": "code",
   "execution_count": 12,
   "metadata": {},
   "outputs": [
    {
     "name": "stdout",
     "output_type": "stream",
     "text": [
      "21 리그 상위 25% spin rate 선수들(124명)의 FF 평균 구속 = 94.48 mph\n"
     ]
    }
   ],
   "source": [
    "high_total_pitch = high_spin['pitches'].sum()\n",
    "high_total_speed = high_spin['pitches']*high_spin['velocity']\n",
    "high_mean_ff_speed = high_total_speed.sum() / high_total_pitch\n",
    "print('21 리그 상위 25% spin rate 선수들({1}명)의 FF 평균 구속 = {0} mph'.format(high_mean_ff_speed.round(2), len(high_spin)))"
   ]
  },
  {
   "cell_type": "code",
   "execution_count": 13,
   "metadata": {},
   "outputs": [
    {
     "name": "stdout",
     "output_type": "stream",
     "text": [
      "21 리그 하위 25% spin rate 선수들(125명)의 FF 평균 구속 = 93.26 mph\n"
     ]
    }
   ],
   "source": [
    "low_total_pitch = low_spin['pitches'].sum()\n",
    "low_total_speed = low_spin['pitches']*low_spin['velocity']\n",
    "low_mean_ff_speed = low_total_speed.sum() / low_total_pitch\n",
    "print('21 리그 하위 25% spin rate 선수들({1}명)의 FF 평균 구속 = {0} mph'.format(low_mean_ff_speed.round(2), len(low_spin)))"
   ]
  },
  {
   "cell_type": "markdown",
   "metadata": {},
   "source": [
    "#### Plotting\n",
    "\n",
    "예상대로 공의 회전 수가 높은 그룹이 평균적으로 높은 구속을 나타내었다."
   ]
  },
  {
   "cell_type": "code",
   "execution_count": 14,
   "metadata": {},
   "outputs": [
    {
     "data": {
      "image/png": "[encoded data removed]",
      "text/plain": [
       "<Figure size 432x288 with 1 Axes>"
      ]
     },
     "metadata": {
      "needs_background": "light"
     },
     "output_type": "display_data"
    }
   ],
   "source": [
    "plt.hist(ff_2021['velocity'], bins=50, alpha=0.3)\n",
    "plt.axvline(low_mean_ff_speed, c='r', label='low_spin Avg')\n",
    "plt.axvline(high_mean_ff_speed, c='g', label='high_spin Avg')\n",
    "plt.legend()\n",
    "plt.title('2021 Four-Seam Velocity Histogram')\n",
    "plt.xlabel('Velocity (mph)')\n",
    "plt.show()"
   ]
  },
  {
   "cell_type": "markdown",
   "metadata": {},
   "source": [
    "#### Regression 1-1\n",
    "\n",
    "공의 회전수(spin_rate)와 구속(velocity)의 관계를 산점도로 확인해보았다. 선형 회귀식으로 관계를 나타내었을 때 양의 상관관계를 나타내었고, 통계적으로 유의한 결과지만 R스퀘어가 낮게 측정되었다.   \n",
    "   \n",
    "두 변수가 양의 상관관계가 있다는 것은 회전수가 높아질수록 구속이 빨라지는 경향이 있음을 의미한다. 회귀식에 의하며, 회전수(spin_rate)가 100rpm이 오르면, 구속은 0.33mph 증가한다."
   ]
  },
  {
   "cell_type": "code",
   "execution_count": 15,
   "metadata": {},
   "outputs": [
    {
     "data": {
      "image/png": "[encoded data removed]",
      "text/plain": [
       "<Figure size 360x360 with 1 Axes>"
      ]
     },
     "metadata": {
      "needs_background": "light"
     },
     "output_type": "display_data"
    },
    {
     "data": {
      "text/html": [
       "<table class=\"simpletable\">\n",
       "<caption>OLS Regression Results</caption>\n",
       "<tr>\n",
       "  <th>Dep. Variable:</th>        <td>velocity</td>     <th>  R-squared:         </th> <td>   0.055</td>\n",
       "</tr>\n",
       "<tr>\n",
       "  <th>Model:</th>                   <td>OLS</td>       <th>  Adj. R-squared:    </th> <td>   0.053</td>\n",
       "</tr>\n",
       "<tr>\n",
       "  <th>Method:</th>             <td>Least Squares</td>  <th>  F-statistic:       </th> <td>   28.55</td>\n",
       "</tr>\n",
       "<tr>\n",
       "  <th>Date:</th>             <td>Tue, 21 Dec 2021</td> <th>  Prob (F-statistic):</th> <td>1.40e-07</td>\n",
       "</tr>\n",
       "<tr>\n",
       "  <th>Time:</th>                 <td>22:50:34</td>     <th>  Log-Likelihood:    </th> <td> -1023.7</td>\n",
       "</tr>\n",
       "<tr>\n",
       "  <th>No. Observations:</th>      <td>   494</td>      <th>  AIC:               </th> <td>   2051.</td>\n",
       "</tr>\n",
       "<tr>\n",
       "  <th>Df Residuals:</th>          <td>   492</td>      <th>  BIC:               </th> <td>   2060.</td>\n",
       "</tr>\n",
       "<tr>\n",
       "  <th>Df Model:</th>              <td>     1</td>      <th>                     </th>     <td> </td>   \n",
       "</tr>\n",
       "<tr>\n",
       "  <th>Covariance Type:</th>      <td>nonrobust</td>    <th>                     </th>     <td> </td>   \n",
       "</tr>\n",
       "</table>\n",
       "<table class=\"simpletable\">\n",
       "<tr>\n",
       "      <td></td>         <th>coef</th>     <th>std err</th>      <th>t</th>      <th>P>|t|</th>  <th>[0.025</th>    <th>0.975]</th>  \n",
       "</tr>\n",
       "<tr>\n",
       "  <th>Intercept</th> <td>   86.1042</td> <td>    1.410</td> <td>   61.071</td> <td> 0.000</td> <td>   83.334</td> <td>   88.874</td>\n",
       "</tr>\n",
       "<tr>\n",
       "  <th>spin_rate</th> <td>    0.0033</td> <td>    0.001</td> <td>    5.343</td> <td> 0.000</td> <td>    0.002</td> <td>    0.005</td>\n",
       "</tr>\n",
       "</table>\n",
       "<table class=\"simpletable\">\n",
       "<tr>\n",
       "  <th>Omnibus:</th>       <td> 4.937</td> <th>  Durbin-Watson:     </th> <td>   1.825</td>\n",
       "</tr>\n",
       "<tr>\n",
       "  <th>Prob(Omnibus):</th> <td> 0.085</td> <th>  Jarque-Bera (JB):  </th> <td>   4.916</td>\n",
       "</tr>\n",
       "<tr>\n",
       "  <th>Skew:</th>          <td>-0.215</td> <th>  Prob(JB):          </th> <td>  0.0856</td>\n",
       "</tr>\n",
       "<tr>\n",
       "  <th>Kurtosis:</th>      <td> 2.769</td> <th>  Cond. No.          </th> <td>3.69e+04</td>\n",
       "</tr>\n",
       "</table><br/><br/>Notes:<br/>[1] Standard Errors assume that the covariance matrix of the errors is correctly specified.<br/>[2] The condition number is large, 3.69e+04. This might indicate that there are<br/>strong multicollinearity or other numerical problems."
      ],
      "text/plain": [
       "<class 'statsmodels.iolib.summary.Summary'>\n",
       "\"\"\"\n",
       "                            OLS Regression Results                            \n",
       "==============================================================================\n",
       "Dep. Variable:               velocity   R-squared:                       0.055\n",
       "Model:                            OLS   Adj. R-squared:                  0.053\n",
       "Method:                 Least Squares   F-statistic:                     28.55\n",
       "Date:                Tue, 21 Dec 2021   Prob (F-statistic):           1.40e-07\n",
       "Time:                        22:50:34   Log-Likelihood:                -1023.7\n",
       "No. Observations:                 494   AIC:                             2051.\n",
       "Df Residuals:                     492   BIC:                             2060.\n",
       "Df Model:                           1                                         \n",
       "Covariance Type:            nonrobust                                         \n",
       "==============================================================================\n",
       "                 coef    std err          t      P>|t|      [0.025      0.975]\n",
       "------------------------------------------------------------------------------\n",
       "Intercept     86.1042      1.410     61.071      0.000      83.334      88.874\n",
       "spin_rate      0.0033      0.001      5.343      0.000       0.002       0.005\n",
       "==============================================================================\n",
       "Omnibus:                        4.937   Durbin-Watson:                   1.825\n",
       "Prob(Omnibus):                  0.085   Jarque-Bera (JB):                4.916\n",
       "Skew:                          -0.215   Prob(JB):                       0.0856\n",
       "Kurtosis:                       2.769   Cond. No.                     3.69e+04\n",
       "==============================================================================\n",
       "\n",
       "Notes:\n",
       "[1] Standard Errors assume that the covariance matrix of the errors is correctly specified.\n",
       "[2] The condition number is large, 3.69e+04. This might indicate that there are\n",
       "strong multicollinearity or other numerical problems.\n",
       "\"\"\""
      ]
     },
     "execution_count": 15,
     "metadata": {},
     "output_type": "execute_result"
    }
   ],
   "source": [
    "import statsmodels.formula.api as smf\n",
    "import seaborn as sns\n",
    "\n",
    "sns.lmplot(x='spin_rate', y='velocity', data=ff_2021)\n",
    "plt.show()\n",
    "reg_1 = smf.ols(formula = 'velocity ~ spin_rate', data=ff_2021).fit()\n",
    "reg_1.summary()"
   ]
  },
  {
   "cell_type": "markdown",
   "metadata": {},
   "source": [
    "#### Regression 1-2\n",
    "\n",
    "공의 회전수(spin_rate)와 피안타율(ba)의 관계를 산점도로 확인해보았다. 선형 회귀식으로 관계를 나타내었을 때 구속과는 반대로 음의 상관관계를 나타내었다. 마찬가지로 통계적으로 유의했지만, R스퀘어가 낮게 계산되었다.   \n",
    "   \n",
    "두 변수가 음의 상관관계가 있다는 것은 회전수가 높아질수록 피안타율이 낮아지는 경향이 있음을 의미한다. 회귀식에 의하며, 회전수(spin_rate)가 100rpm이 오르면, 피안타율은 약 0.01감소한다."
   ]
  },
  {
   "cell_type": "code",
   "execution_count": 16,
   "metadata": {},
   "outputs": [
    {
     "data": {
      "image/png": "[encoded data removed]",
      "text/plain": [
       "<Figure size 360x360 with 1 Axes>"
      ]
     },
     "metadata": {
      "needs_background": "light"
     },
     "output_type": "display_data"
    },
    {
     "data": {
      "text/html": [
       "<table class=\"simpletable\">\n",
       "<caption>OLS Regression Results</caption>\n",
       "<tr>\n",
       "  <th>Dep. Variable:</th>           <td>ba</td>        <th>  R-squared:         </th> <td>   0.044</td>\n",
       "</tr>\n",
       "<tr>\n",
       "  <th>Model:</th>                   <td>OLS</td>       <th>  Adj. R-squared:    </th> <td>   0.042</td>\n",
       "</tr>\n",
       "<tr>\n",
       "  <th>Method:</th>             <td>Least Squares</td>  <th>  F-statistic:       </th> <td>   22.46</td>\n",
       "</tr>\n",
       "<tr>\n",
       "  <th>Date:</th>             <td>Tue, 21 Dec 2021</td> <th>  Prob (F-statistic):</th> <td>2.81e-06</td>\n",
       "</tr>\n",
       "<tr>\n",
       "  <th>Time:</th>                 <td>22:50:34</td>     <th>  Log-Likelihood:    </th> <td>  659.00</td>\n",
       "</tr>\n",
       "<tr>\n",
       "  <th>No. Observations:</th>      <td>   494</td>      <th>  AIC:               </th> <td>  -1314.</td>\n",
       "</tr>\n",
       "<tr>\n",
       "  <th>Df Residuals:</th>          <td>   492</td>      <th>  BIC:               </th> <td>  -1306.</td>\n",
       "</tr>\n",
       "<tr>\n",
       "  <th>Df Model:</th>              <td>     1</td>      <th>                     </th>     <td> </td>   \n",
       "</tr>\n",
       "<tr>\n",
       "  <th>Covariance Type:</th>      <td>nonrobust</td>    <th>                     </th>     <td> </td>   \n",
       "</tr>\n",
       "</table>\n",
       "<table class=\"simpletable\">\n",
       "<tr>\n",
       "      <td></td>         <th>coef</th>     <th>std err</th>      <th>t</th>      <th>P>|t|</th>  <th>[0.025</th>    <th>0.975]</th>  \n",
       "</tr>\n",
       "<tr>\n",
       "  <th>Intercept</th> <td>    0.4822</td> <td>    0.047</td> <td>   10.313</td> <td> 0.000</td> <td>    0.390</td> <td>    0.574</td>\n",
       "</tr>\n",
       "<tr>\n",
       "  <th>spin_rate</th> <td>-9.763e-05</td> <td> 2.06e-05</td> <td>   -4.740</td> <td> 0.000</td> <td>   -0.000</td> <td>-5.72e-05</td>\n",
       "</tr>\n",
       "</table>\n",
       "<table class=\"simpletable\">\n",
       "<tr>\n",
       "  <th>Omnibus:</th>       <td> 9.276</td> <th>  Durbin-Watson:     </th> <td>   1.855</td>\n",
       "</tr>\n",
       "<tr>\n",
       "  <th>Prob(Omnibus):</th> <td> 0.010</td> <th>  Jarque-Bera (JB):  </th> <td>  14.167</td>\n",
       "</tr>\n",
       "<tr>\n",
       "  <th>Skew:</th>          <td> 0.108</td> <th>  Prob(JB):          </th> <td>0.000839</td>\n",
       "</tr>\n",
       "<tr>\n",
       "  <th>Kurtosis:</th>      <td> 3.801</td> <th>  Cond. No.          </th> <td>3.69e+04</td>\n",
       "</tr>\n",
       "</table><br/><br/>Notes:<br/>[1] Standard Errors assume that the covariance matrix of the errors is correctly specified.<br/>[2] The condition number is large, 3.69e+04. This might indicate that there are<br/>strong multicollinearity or other numerical problems."
      ],
      "text/plain": [
       "<class 'statsmodels.iolib.summary.Summary'>\n",
       "\"\"\"\n",
       "                            OLS Regression Results                            \n",
       "==============================================================================\n",
       "Dep. Variable:                     ba   R-squared:                       0.044\n",
       "Model:                            OLS   Adj. R-squared:                  0.042\n",
       "Method:                 Least Squares   F-statistic:                     22.46\n",
       "Date:                Tue, 21 Dec 2021   Prob (F-statistic):           2.81e-06\n",
       "Time:                        22:50:34   Log-Likelihood:                 659.00\n",
       "No. Observations:                 494   AIC:                            -1314.\n",
       "Df Residuals:                     492   BIC:                            -1306.\n",
       "Df Model:                           1                                         \n",
       "Covariance Type:            nonrobust                                         \n",
       "==============================================================================\n",
       "                 coef    std err          t      P>|t|      [0.025      0.975]\n",
       "------------------------------------------------------------------------------\n",
       "Intercept      0.4822      0.047     10.313      0.000       0.390       0.574\n",
       "spin_rate  -9.763e-05   2.06e-05     -4.740      0.000      -0.000   -5.72e-05\n",
       "==============================================================================\n",
       "Omnibus:                        9.276   Durbin-Watson:                   1.855\n",
       "Prob(Omnibus):                  0.010   Jarque-Bera (JB):               14.167\n",
       "Skew:                           0.108   Prob(JB):                     0.000839\n",
       "Kurtosis:                       3.801   Cond. No.                     3.69e+04\n",
       "==============================================================================\n",
       "\n",
       "Notes:\n",
       "[1] Standard Errors assume that the covariance matrix of the errors is correctly specified.\n",
       "[2] The condition number is large, 3.69e+04. This might indicate that there are\n",
       "strong multicollinearity or other numerical problems.\n",
       "\"\"\""
      ]
     },
     "execution_count": 16,
     "metadata": {},
     "output_type": "execute_result"
    }
   ],
   "source": [
    "sns.lmplot(x='spin_rate', y='ba', data=ff_2021)\n",
    "plt.show()\n",
    "reg_2 = smf.ols(formula = 'ba ~ spin_rate', data=ff_2021).fit()\n",
    "reg_2.summary()"
   ]
  },
  {
   "cell_type": "markdown",
   "metadata": {},
   "source": [
    "# "
   ]
  },
  {
   "cell_type": "markdown",
   "metadata": {},
   "source": [
    "## 2-1 구속 vs 타구 속도(launch_speed)"
   ]
  },
  {
   "cell_type": "code",
   "execution_count": 17,
   "metadata": {},
   "outputs": [
    {
     "data": {
      "text/html": [
       "<div>\n",
       "<style scoped>\n",
       "    .dataframe tbody tr th:only-of-type {\n",
       "        vertical-align: middle;\n",
       "    }\n",
       "\n",
       "    .dataframe tbody tr th {\n",
       "        vertical-align: top;\n",
       "    }\n",
       "\n",
       "    .dataframe thead th {\n",
       "        text-align: right;\n",
       "    }\n",
       "</style>\n",
       "<table border=\"1\" class=\"dataframe\">\n",
       "  <thead>\n",
       "    <tr style=\"text-align: right;\">\n",
       "      <th></th>\n",
       "      <th>velocity</th>\n",
       "      <th>launch_speed</th>\n",
       "    </tr>\n",
       "  </thead>\n",
       "  <tbody>\n",
       "    <tr>\n",
       "      <th>count</th>\n",
       "      <td>513.000000</td>\n",
       "      <td>513.000000</td>\n",
       "    </tr>\n",
       "    <tr>\n",
       "      <th>mean</th>\n",
       "      <td>93.569006</td>\n",
       "      <td>90.126511</td>\n",
       "    </tr>\n",
       "    <tr>\n",
       "      <th>std</th>\n",
       "      <td>2.226175</td>\n",
       "      <td>2.829656</td>\n",
       "    </tr>\n",
       "    <tr>\n",
       "      <th>min</th>\n",
       "      <td>82.700000</td>\n",
       "      <td>79.000000</td>\n",
       "    </tr>\n",
       "    <tr>\n",
       "      <th>25%</th>\n",
       "      <td>92.400000</td>\n",
       "      <td>88.500000</td>\n",
       "    </tr>\n",
       "    <tr>\n",
       "      <th>50%</th>\n",
       "      <td>93.700000</td>\n",
       "      <td>90.200000</td>\n",
       "    </tr>\n",
       "    <tr>\n",
       "      <th>75%</th>\n",
       "      <td>95.000000</td>\n",
       "      <td>91.900000</td>\n",
       "    </tr>\n",
       "    <tr>\n",
       "      <th>max</th>\n",
       "      <td>99.200000</td>\n",
       "      <td>97.900000</td>\n",
       "    </tr>\n",
       "  </tbody>\n",
       "</table>\n",
       "</div>"
      ],
      "text/plain": [
       "         velocity  launch_speed\n",
       "count  513.000000    513.000000\n",
       "mean    93.569006     90.126511\n",
       "std      2.226175      2.829656\n",
       "min     82.700000     79.000000\n",
       "25%     92.400000     88.500000\n",
       "50%     93.700000     90.200000\n",
       "75%     95.000000     91.900000\n",
       "max     99.200000     97.900000"
      ]
     },
     "execution_count": 17,
     "metadata": {},
     "output_type": "execute_result"
    }
   ],
   "source": [
    "ff_100[['velocity','launch_speed']].describe()"
   ]
  },
  {
   "cell_type": "code",
   "execution_count": 18,
   "metadata": {},
   "outputs": [
    {
     "data": {
      "image/png": "[encoded data removed]",
      "text/plain": [
       "<Figure size 720x216 with 2 Axes>"
      ]
     },
     "metadata": {
      "needs_background": "light"
     },
     "output_type": "display_data"
    }
   ],
   "source": [
    "# box plot으로 outlier 확인\n",
    "plt.figure(figsize=(10,3))\n",
    "plt.subplot(1,2,1)\n",
    "plt.boxplot(ff_100['velocity'])\n",
    "plt.xticks([1], ['velocity'])\n",
    "plt.subplot(1,2,2)\n",
    "plt.boxplot(ff_100['launch_speed'])\n",
    "plt.xticks([1], ['launch_speed'])\n",
    "plt.show()"
   ]
  },
  {
   "cell_type": "code",
   "execution_count": 19,
   "metadata": {},
   "outputs": [],
   "source": [
    "# outlier 제거\n",
    "v_ls = ff_100[(ff_100['velocity']<98) & (ff_100['velocity']>88)]\n",
    "v_ls = v_ls[(v_ls['launch_speed']<97) & (v_ls['launch_speed']>83)]"
   ]
  },
  {
   "cell_type": "code",
   "execution_count": 20,
   "metadata": {},
   "outputs": [
    {
     "data": {
      "text/html": [
       "<div>\n",
       "<style scoped>\n",
       "    .dataframe tbody tr th:only-of-type {\n",
       "        vertical-align: middle;\n",
       "    }\n",
       "\n",
       "    .dataframe tbody tr th {\n",
       "        vertical-align: top;\n",
       "    }\n",
       "\n",
       "    .dataframe thead th {\n",
       "        text-align: right;\n",
       "    }\n",
       "</style>\n",
       "<table border=\"1\" class=\"dataframe\">\n",
       "  <thead>\n",
       "    <tr style=\"text-align: right;\">\n",
       "      <th></th>\n",
       "      <th>velocity</th>\n",
       "      <th>launch_speed</th>\n",
       "    </tr>\n",
       "  </thead>\n",
       "  <tbody>\n",
       "    <tr>\n",
       "      <th>count</th>\n",
       "      <td>488.000000</td>\n",
       "      <td>488.000000</td>\n",
       "    </tr>\n",
       "    <tr>\n",
       "      <th>mean</th>\n",
       "      <td>93.628279</td>\n",
       "      <td>90.286475</td>\n",
       "    </tr>\n",
       "    <tr>\n",
       "      <th>std</th>\n",
       "      <td>1.979665</td>\n",
       "      <td>2.591271</td>\n",
       "    </tr>\n",
       "    <tr>\n",
       "      <th>min</th>\n",
       "      <td>88.100000</td>\n",
       "      <td>83.100000</td>\n",
       "    </tr>\n",
       "    <tr>\n",
       "      <th>25%</th>\n",
       "      <td>92.500000</td>\n",
       "      <td>88.600000</td>\n",
       "    </tr>\n",
       "    <tr>\n",
       "      <th>50%</th>\n",
       "      <td>93.700000</td>\n",
       "      <td>90.350000</td>\n",
       "    </tr>\n",
       "    <tr>\n",
       "      <th>75%</th>\n",
       "      <td>94.900000</td>\n",
       "      <td>91.925000</td>\n",
       "    </tr>\n",
       "    <tr>\n",
       "      <th>max</th>\n",
       "      <td>97.800000</td>\n",
       "      <td>96.600000</td>\n",
       "    </tr>\n",
       "  </tbody>\n",
       "</table>\n",
       "</div>"
      ],
      "text/plain": [
       "         velocity  launch_speed\n",
       "count  488.000000    488.000000\n",
       "mean    93.628279     90.286475\n",
       "std      1.979665      2.591271\n",
       "min     88.100000     83.100000\n",
       "25%     92.500000     88.600000\n",
       "50%     93.700000     90.350000\n",
       "75%     94.900000     91.925000\n",
       "max     97.800000     96.600000"
      ]
     },
     "execution_count": 20,
     "metadata": {},
     "output_type": "execute_result"
    }
   ],
   "source": [
    "v_ls[['velocity','launch_speed']].describe()"
   ]
  },
  {
   "cell_type": "code",
   "execution_count": 21,
   "metadata": {},
   "outputs": [],
   "source": [
    "# 구속 상위 25%, 하위 25%\n",
    "high_v = v_ls[v_ls['velocity']>=94.9]\n",
    "low_v = v_ls[v_ls['velocity']<=92.5]"
   ]
  },
  {
   "cell_type": "code",
   "execution_count": 22,
   "metadata": {},
   "outputs": [
    {
     "name": "stdout",
     "output_type": "stream",
     "text": [
      "21 리그 상위 25% FF 구속 선수들(124명)의 평균 타구 속도 = 90.5 mph\n",
      "21 리그 하위 25% FF 구속 선수들(125명)의 평균 타구 속도 = 90.01 mph\n"
     ]
    }
   ],
   "source": [
    "high_v_pitch = high_v['pitches'].sum()\n",
    "high_total_launch_speed = high_v['pitches']*high_v['launch_speed']\n",
    "high_mean_ff_launch_speed = high_total_launch_speed.sum() / high_v_pitch\n",
    "print('21 리그 상위 25% FF 구속 선수들({1}명)의 평균 타구 속도 = {0} mph'.format(high_mean_ff_launch_speed.round(2), len(high_spin)))\n",
    "\n",
    "low_v_pitch = low_v['pitches'].sum()\n",
    "low_total_launch_speed = low_v['pitches']*low_v['launch_speed']\n",
    "low_mean_ff_launch_speed = low_total_launch_speed.sum() / low_v_pitch\n",
    "print('21 리그 하위 25% FF 구속 선수들({1}명)의 평균 타구 속도 = {0} mph'.format(low_mean_ff_launch_speed.round(2), len(low_spin)))"
   ]
  },
  {
   "cell_type": "code",
   "execution_count": 23,
   "metadata": {},
   "outputs": [
    {
     "data": {
      "image/png": "[encoded data removed]",
      "text/plain": [
       "<Figure size 432x288 with 1 Axes>"
      ]
     },
     "metadata": {
      "needs_background": "light"
     },
     "output_type": "display_data"
    }
   ],
   "source": [
    "plt.hist(ff_2021['launch_speed'], bins=50, alpha=0.3)\n",
    "plt.axvline(low_mean_ff_launch_speed, c='r', label='low_v Avg')\n",
    "plt.axvline(high_mean_ff_launch_speed, c='g', label='high_v Avg')\n",
    "plt.legend()\n",
    "plt.title('2021 Four-Seam Launch_speed Histogram')\n",
    "plt.xlabel('launch_speed (mph)')\n",
    "plt.show()"
   ]
  },
  {
   "cell_type": "markdown",
   "metadata": {},
   "source": [
    "#### Regression 2-1\n",
    "\n",
    "공의 속도(velocity)와 타구 속도(launch_speed)의 관계를 산점도로 확인해보았다. 선형 회귀식으로 관계를 나타내었을 때 양의 상관관계를 나타내었지만, 통계적 유의성이 없었다.\n",
    "   \n",
    "일반적으로 빠른 공이 배트에 맞았을 때, 타구 속도도 빠르게 나올 것이라고 예상하지만 공의 속도와 타구 속도는 연관성이 없었다. 실제로, 타구 속도는 투수가 던지는 공보다 타자에 의해 영향을 훨씬 더 많이 받는다고 한다. (홈런 더비에서도 투수는 90mph 이하의 느린 공을 던지지만, 타자들은 강한 타구로 쳐낸다.)"
   ]
  },
  {
   "cell_type": "code",
   "execution_count": 24,
   "metadata": {},
   "outputs": [
    {
     "data": {
      "image/png": "[encoded data removed]",
      "text/plain": [
       "<Figure size 360x360 with 1 Axes>"
      ]
     },
     "metadata": {
      "needs_background": "light"
     },
     "output_type": "display_data"
    },
    {
     "data": {
      "text/html": [
       "<table class=\"simpletable\">\n",
       "<caption>OLS Regression Results</caption>\n",
       "<tr>\n",
       "  <th>Dep. Variable:</th>      <td>launch_speed</td>   <th>  R-squared:         </th> <td>   0.005</td>\n",
       "</tr>\n",
       "<tr>\n",
       "  <th>Model:</th>                   <td>OLS</td>       <th>  Adj. R-squared:    </th> <td>   0.003</td>\n",
       "</tr>\n",
       "<tr>\n",
       "  <th>Method:</th>             <td>Least Squares</td>  <th>  F-statistic:       </th> <td>   2.336</td>\n",
       "</tr>\n",
       "<tr>\n",
       "  <th>Date:</th>             <td>Tue, 21 Dec 2021</td> <th>  Prob (F-statistic):</th>  <td> 0.127</td> \n",
       "</tr>\n",
       "<tr>\n",
       "  <th>Time:</th>                 <td>22:50:35</td>     <th>  Log-Likelihood:    </th> <td> -1214.4</td>\n",
       "</tr>\n",
       "<tr>\n",
       "  <th>No. Observations:</th>      <td>   494</td>      <th>  AIC:               </th> <td>   2433.</td>\n",
       "</tr>\n",
       "<tr>\n",
       "  <th>Df Residuals:</th>          <td>   492</td>      <th>  BIC:               </th> <td>   2441.</td>\n",
       "</tr>\n",
       "<tr>\n",
       "  <th>Df Model:</th>              <td>     1</td>      <th>                     </th>     <td> </td>   \n",
       "</tr>\n",
       "<tr>\n",
       "  <th>Covariance Type:</th>      <td>nonrobust</td>    <th>                     </th>     <td> </td>   \n",
       "</tr>\n",
       "</table>\n",
       "<table class=\"simpletable\">\n",
       "<tr>\n",
       "      <td></td>         <th>coef</th>     <th>std err</th>      <th>t</th>      <th>P>|t|</th>  <th>[0.025</th>    <th>0.975]</th>  \n",
       "</tr>\n",
       "<tr>\n",
       "  <th>Intercept</th> <td>   80.9435</td> <td>    6.038</td> <td>   13.406</td> <td> 0.000</td> <td>   69.081</td> <td>   92.806</td>\n",
       "</tr>\n",
       "<tr>\n",
       "  <th>velocity</th>  <td>    0.0985</td> <td>    0.064</td> <td>    1.528</td> <td> 0.127</td> <td>   -0.028</td> <td>    0.225</td>\n",
       "</tr>\n",
       "</table>\n",
       "<table class=\"simpletable\">\n",
       "<tr>\n",
       "  <th>Omnibus:</th>       <td>16.200</td> <th>  Durbin-Watson:     </th> <td>   1.928</td>\n",
       "</tr>\n",
       "<tr>\n",
       "  <th>Prob(Omnibus):</th> <td> 0.000</td> <th>  Jarque-Bera (JB):  </th> <td>  18.583</td>\n",
       "</tr>\n",
       "<tr>\n",
       "  <th>Skew:</th>          <td>-0.364</td> <th>  Prob(JB):          </th> <td>9.22e-05</td>\n",
       "</tr>\n",
       "<tr>\n",
       "  <th>Kurtosis:</th>      <td> 3.609</td> <th>  Cond. No.          </th> <td>4.44e+03</td>\n",
       "</tr>\n",
       "</table><br/><br/>Notes:<br/>[1] Standard Errors assume that the covariance matrix of the errors is correctly specified.<br/>[2] The condition number is large, 4.44e+03. This might indicate that there are<br/>strong multicollinearity or other numerical problems."
      ],
      "text/plain": [
       "<class 'statsmodels.iolib.summary.Summary'>\n",
       "\"\"\"\n",
       "                            OLS Regression Results                            \n",
       "==============================================================================\n",
       "Dep. Variable:           launch_speed   R-squared:                       0.005\n",
       "Model:                            OLS   Adj. R-squared:                  0.003\n",
       "Method:                 Least Squares   F-statistic:                     2.336\n",
       "Date:                Tue, 21 Dec 2021   Prob (F-statistic):              0.127\n",
       "Time:                        22:50:35   Log-Likelihood:                -1214.4\n",
       "No. Observations:                 494   AIC:                             2433.\n",
       "Df Residuals:                     492   BIC:                             2441.\n",
       "Df Model:                           1                                         \n",
       "Covariance Type:            nonrobust                                         \n",
       "==============================================================================\n",
       "                 coef    std err          t      P>|t|      [0.025      0.975]\n",
       "------------------------------------------------------------------------------\n",
       "Intercept     80.9435      6.038     13.406      0.000      69.081      92.806\n",
       "velocity       0.0985      0.064      1.528      0.127      -0.028       0.225\n",
       "==============================================================================\n",
       "Omnibus:                       16.200   Durbin-Watson:                   1.928\n",
       "Prob(Omnibus):                  0.000   Jarque-Bera (JB):               18.583\n",
       "Skew:                          -0.364   Prob(JB):                     9.22e-05\n",
       "Kurtosis:                       3.609   Cond. No.                     4.44e+03\n",
       "==============================================================================\n",
       "\n",
       "Notes:\n",
       "[1] Standard Errors assume that the covariance matrix of the errors is correctly specified.\n",
       "[2] The condition number is large, 4.44e+03. This might indicate that there are\n",
       "strong multicollinearity or other numerical problems.\n",
       "\"\"\""
      ]
     },
     "execution_count": 24,
     "metadata": {},
     "output_type": "execute_result"
    }
   ],
   "source": [
    "sns.lmplot(x='velocity', y='launch_speed', data=ff_2021)\n",
    "plt.show()\n",
    "reg_1 = smf.ols(formula = 'launch_speed ~ velocity', data=ff_2021).fit()\n",
    "reg_1.summary()"
   ]
  }
 ],
 "metadata": {
  "kernelspec": {
   "display_name": "Python 3",
   "language": "python",
   "name": "python3"
  },
  "language_info": {
   "codemirror_mode": {
    "name": "ipython",
    "version": 3
   },
   "file_extension": ".py",
   "mimetype": "text/x-python",
   "name": "python",
   "nbconvert_exporter": "python",
   "pygments_lexer": "ipython3",
   "version": "3.8.5"
  }
 },
 "nbformat": 4,
 "nbformat_minor": 4
}
